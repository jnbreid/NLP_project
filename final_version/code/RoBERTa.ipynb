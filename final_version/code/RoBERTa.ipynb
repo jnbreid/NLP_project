{
 "cells": [
  {
   "cell_type": "code",
   "execution_count": null,
   "id": "9797bf85-fc2c-4d3c-b6e7-4c5a9056659b",
   "metadata": {},
   "outputs": [],
   "source": [
    "import dataset_util\n",
    "import json\n",
    "import torch"
   ]
  },
  {
   "cell_type": "code",
   "execution_count": null,
   "id": "2a337bdf-ce18-4c0e-af99-5a419b5a3fa6",
   "metadata": {},
   "outputs": [],
   "source": [
    "rest_train = dataset_util.load_dataset(split=\"train\", domain=\"rest\") + dataset_util.load_dataset(split=\"dev\", domain = \"rest\")\n",
    "rest_test = dataset_util.load_dataset(split=\"test\", domain=\"rest\")\n",
    "laptop_train = dataset_util.load_dataset(split=\"train\", domain=\"laptop\") + dataset_util.load_dataset(split=\"dev\", domain = \"laptop\")\n",
    "laptop_test = dataset_util.load_dataset(split=\"test\", domain=\"laptop\")"
   ]
  },
  {
   "cell_type": "code",
   "execution_count": null,
   "id": "e23974b9",
   "metadata": {},
   "outputs": [],
   "source": [
    "dataset_util.preprocess_dataset(rest_train)\n",
    "dataset_util.preprocess_dataset(laptop_train)\n",
    "dataset_util.preprocess_dataset(rest_test)\n",
    "dataset_util.preprocess_dataset(laptop_test)"
   ]
  },
  {
   "cell_type": "code",
   "execution_count": null,
   "id": "56fd786a",
   "metadata": {},
   "outputs": [],
   "source": [
    "print(rest_train[0])"
   ]
  },
  {
   "cell_type": "markdown",
   "id": "32d9eafe",
   "metadata": {},
   "source": [
    "### TFIDF with Logistic Regression"
   ]
  },
  {
   "cell_type": "code",
   "execution_count": null,
   "id": "8f86f82b",
   "metadata": {},
   "outputs": [],
   "source": [
    "rest_train_sentences = [\" \".join(item['sentence']) for item in rest_train]\n",
    "rest_train_polarities = [item['polarity'] for item in rest_train]\n",
    "\n",
    "rest_test_sentences = [\" \".join(item['sentence']) for item in rest_test]\n",
    "rest_test_polarities = [item['polarity'] for item in rest_test]"
   ]
  },
  {
   "cell_type": "code",
   "execution_count": null,
   "id": "668e8901",
   "metadata": {},
   "outputs": [],
   "source": [
    "laptop_train_sentences = [\" \".join(item['sentence']) for item in laptop_train]\n",
    "laptop_train_polarities = [item['polarity'] for item in laptop_train]\n",
    "\n",
    "laptop_test_sentences = [\" \".join(item['sentence']) for item in laptop_test]\n",
    "laptop_test_polarities = [item['polarity'] for item in laptop_test]"
   ]
  },
  {
   "cell_type": "markdown",
   "id": "d89e3916",
   "metadata": {},
   "source": [
    "### Roberta Model"
   ]
  },
  {
   "cell_type": "code",
   "execution_count": null,
   "id": "aab0e4e9",
   "metadata": {},
   "outputs": [],
   "source": [
    "rest_train = dataset_util.load_dataset(split=\"train\", domain=\"rest\") + load_dataset(split=\"dev\", domain = \"rest\")\n",
    "rest_test = dataset_util.load_dataset(split=\"test\", domain=\"rest\")\n",
    "laptop_train = dataset_util.load_dataset(split=\"train\", domain=\"laptop\") + load_dataset(split=\"dev\", domain = \"laptop\")\n",
    "laptop_test = dataset_util.load_dataset(split=\"test\", domain=\"laptop\")"
   ]
  },
  {
   "cell_type": "code",
   "execution_count": null,
   "id": "8009718e",
   "metadata": {},
   "outputs": [],
   "source": [
    "dataset_util.clean_dataset(rest_train)\n",
    "dataset_util.clean_dataset(rest_test)\n",
    "dataset_util.clean_dataset(laptop_train)\n",
    "dataset_util.clean_dataset(laptop_test)"
   ]
  },
  {
   "cell_type": "code",
   "execution_count": null,
   "id": "9bf604f7",
   "metadata": {},
   "outputs": [],
   "source": [
    "device = \"cuda\" if torch.cuda.is_available() else \"cpu\"\n",
    "print(device)"
   ]
  },
  {
   "cell_type": "code",
   "execution_count": null,
   "id": "c0e8119d-6acd-4ea9-ba1a-a2bc93996c1a",
   "metadata": {},
   "outputs": [],
   "source": [
    "rest_train_sentences = [item['term'] + ' [SEP] ' + item['sentence'] for item in rest_train]\n",
    "\n",
    "rest_test_sentences = [item['term'] + ' [SEP] ' + item['sentence'] for item in rest_test]\n",
    " \n",
    "laptop_train_sentences = [item['term'] + ' [SEP] ' + item['sentence'] for item in laptop_train]\n",
    "\n",
    "laptop_test_sentences = [item['term'] + ' [SEP] ' + item['sentence'] for item in laptop_test]"
   ]
  },
  {
   "cell_type": "code",
   "execution_count": null,
   "id": "782b1fa5",
   "metadata": {},
   "outputs": [],
   "source": [
    "#rest_train_sentences = [\" \".join(item['sentence']) for item in rest_train]\n",
    "rest_train_polarities = [item['polarity'] for item in rest_train]\n",
    "\n",
    "#rest_test_sentences = [\" \".join(item['sentence']) for item in rest_test]\n",
    "rest_test_polarities = [item['polarity'] for item in rest_test]\n",
    "\n",
    "\n",
    "#laptop_train_sentences = [\" \".join(item['sentence']) for item in laptop_train]\n",
    "laptop_train_polarities = [item['polarity'] for item in laptop_train]\n",
    "\n",
    "#laptop_test_sentences = [\" \".join(item['sentence']) for item in laptop_test]\n",
    "laptop_test_polarities = [item['polarity'] for item in laptop_test]"
   ]
  },
  {
   "cell_type": "markdown",
   "id": "ce14fc44",
   "metadata": {},
   "source": [
    "To get results with the different subsets (e.g. laptop of restaurant dataset) simply remove the unwanted subset from the cell below."
   ]
  },
  {
   "cell_type": "code",
   "execution_count": null,
   "id": "26980b8c",
   "metadata": {},
   "outputs": [],
   "source": [
    "train_sentences = laptop_train_sentences #laptop_train_sentences / rest_train_sentences\n",
    "train_polarities = laptop_train_polarities #laptop_train_polarities / rest_train_polarities\n",
    "\n",
    "test_sentences = laptop_test_sentences #laptop_test_sentences / rest_test_sentences \n",
    "test_polarities = laptop_test_polarities #laptop_test_polarities / rest_test_polarities"
   ]
  },
  {
   "cell_type": "code",
   "execution_count": null,
   "id": "0dd9534a-e5cf-42ef-85bc-eaccb5a59e66",
   "metadata": {},
   "outputs": [],
   "source": [
    "import random\n",
    "random_index = random.randint(0, len(train_sentences))\n",
    "random_sentence = train_sentences[random_index]\n",
    "random_polarity = train_polarities[random_index]\n",
    "print(random_sentence)\n",
    "print(random_polarity)"
   ]
  },
  {
   "cell_type": "code",
   "execution_count": null,
   "id": "eaa70845",
   "metadata": {},
   "outputs": [],
   "source": [
    "pos = 0\n",
    "neg = 0\n",
    "neu = 0\n",
    "for polarity in train_polarities:\n",
    "    if polarity == 'positive':\n",
    "        pos += 1\n",
    "    elif polarity == 'negative':\n",
    "        neg += 1\n",
    "    elif polarity == 'neutral':\n",
    "        neu += 1\n",
    "print(f\"Positive : {pos}\")\n",
    "print(f\"Negative : {neg}\")\n",
    "print(f\"Neutral : {neu}\")"
   ]
  },
  {
   "cell_type": "code",
   "execution_count": null,
   "id": "335170ff",
   "metadata": {},
   "outputs": [],
   "source": [
    "from sklearn.preprocessing import LabelEncoder\n",
    "\n",
    "label_encoder = LabelEncoder()\n",
    "y_train = label_encoder.fit_transform(train_polarities)\n",
    "y_test = label_encoder.transform(test_polarities)"
   ]
  },
  {
   "cell_type": "code",
   "execution_count": null,
   "id": "95ddd6f4",
   "metadata": {},
   "outputs": [],
   "source": [
    "from transformers import RobertaTokenizer, RobertaForSequenceClassification\n",
    "import torch\n",
    "from torch.utils.data import DataLoader, RandomSampler, SequentialSampler, TensorDataset"
   ]
  },
  {
   "cell_type": "code",
   "execution_count": null,
   "id": "580ae338",
   "metadata": {},
   "outputs": [],
   "source": [
    "from transformers import BertTokenizer\n",
    "model_name = 'roberta-base'\n",
    "# Load the BERT tokenizer\n",
    "tokenizer = RobertaTokenizer.from_pretrained(model_name)\n",
    "\n",
    "def encode_sentences(sentences, max_length=512):\n",
    "    input_ids = []\n",
    "    attention_masks = []\n",
    "\n",
    "    for sentence in sentences:\n",
    "        encoded_dict = tokenizer.encode_plus(\n",
    "                            sentence,                      # Sentence to encode\n",
    "                            add_special_tokens=True,       # Add '[CLS]' and '[SEP]'\n",
    "                            max_length=max_length,         # Pad & truncate all sentences\n",
    "                            padding='max_length',          # Pad all sentences to max length\n",
    "                            truncation=True,               # Explicitly truncate to max length\n",
    "                            return_attention_mask=True,    # Construct attention masks\n",
    "                            return_tensors='pt',           # Return pytorch tensors\n",
    "                        )\n",
    "        \n",
    "        input_ids.append(encoded_dict['input_ids'])\n",
    "        attention_masks.append(encoded_dict['attention_mask'])\n",
    "    return torch.cat(input_ids, dim=0), torch.cat(attention_masks, dim=0)\n",
    "\n",
    "# Encode the sentences (X_train and X_test)\n",
    "train_inputs, train_masks = encode_sentences(train_sentences)\n",
    "test_inputs, test_masks = encode_sentences(test_sentences)"
   ]
  },
  {
   "cell_type": "code",
   "execution_count": null,
   "id": "ceb45a64",
   "metadata": {},
   "outputs": [],
   "source": [
    "train_labels = torch.tensor(y_train)\n",
    "test_labels = torch.tensor(y_test)"
   ]
  },
  {
   "cell_type": "code",
   "execution_count": null,
   "id": "e06db979",
   "metadata": {},
   "outputs": [],
   "source": [
    "from torch.utils.data import TensorDataset, DataLoader, RandomSampler, SequentialSampler\n",
    "\n",
    "batch_size = 16  # Adjust this according to your GPU capacity\n",
    "\n",
    "# Create the DataLoader for our training set\n",
    "train_data = TensorDataset(train_inputs, train_masks, train_labels)\n",
    "train_sampler = RandomSampler(train_data)\n",
    "train_dataloader = DataLoader(train_data, sampler=train_sampler, batch_size=batch_size)\n",
    "\n",
    "# Create the DataLoader for our test set\n",
    "test_data = TensorDataset(test_inputs, test_masks, test_labels)\n",
    "test_sampler = SequentialSampler(test_data)\n",
    "test_dataloader = DataLoader(test_data, sampler=test_sampler, batch_size=batch_size)"
   ]
  },
  {
   "cell_type": "code",
   "execution_count": null,
   "id": "0acc36b8",
   "metadata": {},
   "outputs": [],
   "source": [
    "model = RobertaForSequenceClassification.from_pretrained(\n",
    "    model_name,  # Use the 12-layer BERT model, with an uncased vocab\n",
    "    num_labels=3,        # Number of output labels (3 for positive/negative/neutral)\n",
    "    output_attentions=False,\n",
    "    output_hidden_states=False,\n",
    ")\n",
    "\n",
    "# Tell the model to run on GPU\n",
    "model.to(device)"
   ]
  },
  {
   "cell_type": "code",
   "execution_count": null,
   "id": "da3cb544",
   "metadata": {},
   "outputs": [],
   "source": [
    "from transformers import get_linear_schedule_with_warmup\n",
    "import torch\n",
    "# Implement the training loop\n",
    "epochs = 5\n",
    "# Define the optimizer\n",
    "optimizer = torch.optim.AdamW(model.parameters(), lr=2e-5, eps=1e-8)\n",
    "\n",
    "# Total number of training steps\n",
    "total_steps = len(train_dataloader) * epochs\n",
    "\n",
    "# Create the learning rate scheduler.\n",
    "#scheduler = get_linear_schedule_with_warmup(optimizer, num_warmup_steps=0, num_training_steps=total_steps)"
   ]
  },
  {
   "cell_type": "code",
   "execution_count": null,
   "id": "5d58f0d0-ecc1-4843-a4b2-3b5eccc66273",
   "metadata": {},
   "outputs": [],
   "source": [
    "from sklearn.metrics import precision_recall_fscore_support, accuracy_score, confusion_matrix\n",
    "import numpy as np\n",
    "from tqdm import tqdm"
   ]
  },
  {
   "cell_type": "code",
   "execution_count": null,
   "id": "17b75fee",
   "metadata": {},
   "outputs": [],
   "source": [
    "best_accuracy = 0\n",
    "for epoch in range(0, epochs):\n",
    "    # Training step\n",
    "    model.train()\n",
    "    total_train_loss = 0\n",
    "    progress_bar = tqdm(train_dataloader, desc=\"Epoch {:1d}\".format(epoch+1), leave=False, disable=False)\n",
    "    for batch in progress_bar:\n",
    "        b_input_ids = batch[0].to(device)\n",
    "        b_input_mask = batch[1].to(device)\n",
    "        b_labels = batch[2].to(device)\n",
    "\n",
    "        # Clear previously calculated gradients\n",
    "        model.zero_grad()        \n",
    "\n",
    "        # Perform a forward pass\n",
    "        outputs = model(b_input_ids, token_type_ids=None, attention_mask=b_input_mask, labels=b_labels)\n",
    "        loss = outputs.loss\n",
    "        total_train_loss += loss.item()\n",
    "\n",
    "        # Perform a backward pass\n",
    "        loss.backward()\n",
    "\n",
    "        # Update parameters and take a step using the computed gradient\n",
    "        optimizer.step()\n",
    "        #scheduler.step()\n",
    "        # Update the progress bar\n",
    "        progress_bar.set_postfix({'training_loss': '{:.3f}'.format(loss.item()/len(batch))})\n",
    "    \n",
    "    # Calculate the average loss over the training data.\n",
    "    avg_train_loss = total_train_loss / len(train_dataloader)            \n",
    "    print(f\"  Average training loss: {avg_train_loss:.2f}\")\n",
    "    \n",
    "    model.eval()\n",
    "\n",
    "    # Initialize variables to gather predictions and true labels\n",
    "    all_predictions = []\n",
    "    all_true_labels = []\n",
    "\n",
    "    with torch.no_grad():\n",
    "        total_eval_loss = 0\n",
    "        for batch in tqdm(test_dataloader):\n",
    "            b_input_ids = batch[0].to(device)\n",
    "            b_input_mask = batch[1].to(device)\n",
    "            b_labels = batch[2].to(device)\n",
    "\n",
    "            outputs = model(b_input_ids, token_type_ids=None, attention_mask=b_input_mask, labels=b_labels)\n",
    "\n",
    "            loss = outputs.loss\n",
    "            total_eval_loss += loss.item()\n",
    "\n",
    "            logits = outputs.logits.detach().cpu().numpy()\n",
    "            label_ids = b_labels.to('cpu').numpy()\n",
    "\n",
    "            # Store predictions and true labels\n",
    "            all_predictions.extend(np.argmax(logits, axis=1).flatten())\n",
    "            all_true_labels.extend(label_ids.flatten())\n",
    "    precision, recall, f1_score, _ = precision_recall_fscore_support(all_true_labels, all_predictions, average='weighted')\n",
    "    accuracy = accuracy_score(all_true_labels, all_predictions)\n",
    "    print(f'Accuracy: {accuracy:.4f}')\n",
    "    print(f'Precision: {precision:.4f}')\n",
    "    print(f'Recall: {recall:.4f}')\n",
    "    print(f'F1-Score: {f1_score:.4f}')\n",
    "    if accuracy >= best_accuracy:\n",
    "        print(f\"  Accuracy increased from {accuracy:.2f} to {best_accuracy:.2f}, saving model.\")\n",
    "        best_accuracy = accuracy\n",
    "        best_model_state = model.state_dict()\n",
    "#torch.save(best_model_state, 'best_BERT_model.bin')"
   ]
  },
  {
   "cell_type": "code",
   "execution_count": null,
   "id": "e0c54f53",
   "metadata": {
    "scrolled": true
   },
   "outputs": [],
   "source": [
    "from sklearn.metrics import precision_score\n",
    "model.eval()\n",
    "\n",
    "# Initialize variables to gather predictions and true labels\n",
    "all_predictions = []\n",
    "all_true_labels = []\n",
    "\n",
    "with torch.no_grad():\n",
    "    total_eval_loss = 0\n",
    "    for batch in tqdm(test_dataloader):\n",
    "        b_input_ids = batch[0].to(device)\n",
    "        b_input_mask = batch[1].to(device)\n",
    "        b_labels = batch[2].to(device)\n",
    "        \n",
    "        outputs = model(b_input_ids, token_type_ids=None, attention_mask=b_input_mask, labels=b_labels)\n",
    "    \n",
    "        loss = outputs.loss\n",
    "        total_eval_loss += loss.item()\n",
    "        \n",
    "        logits = outputs.logits.detach().cpu().numpy()\n",
    "        label_ids = b_labels.to('cpu').numpy()\n",
    "        \n",
    "        # Store predictions and true labels\n",
    "        all_predictions.extend(np.argmax(logits, axis=1).flatten())\n",
    "        all_true_labels.extend(label_ids.flatten())\n",
    "precision, recall, f1_score, _ = precision_recall_fscore_support(all_true_labels, all_predictions, average='weighted')\n",
    "#0 neg, 1 neut, 2 pos\n",
    "accuracy = accuracy_score(all_true_labels, all_predictions)\n",
    "conf_matrix = confusion_matrix(all_true_labels, all_predictions)\n",
    "print(f'Accuracy: {accuracy:.4f}')\n",
    "print(f'Precision: {precision:.4f}')\n",
    "print(f'Recall: {recall:.4f}')\n",
    "print(f'F1-Score: {f1_score:.4f}')\n",
    "print('Confusion Matrix:\\n', conf_matrix)\n"
   ]
  },
  {
   "cell_type": "code",
   "execution_count": null,
   "id": "98536ebb",
   "metadata": {},
   "outputs": [],
   "source": [
    "TP = conf_matrix[2, 2]\n",
    "FP = np.sum(conf_matrix[:, 2]) - TP\n",
    "precision_positve = TP / (TP + FP)\n",
    "\n",
    "\n",
    "TP = conf_matrix[0, 0]\n",
    "FP = np.sum(conf_matrix[:, 0]) - TP\n",
    "precision_negative = TP / (TP + FP)\n",
    "\n",
    "TP = conf_matrix[1, 1]\n",
    "FP = np.sum(conf_matrix[:, 1]) - TP\n",
    "precision_neutral = TP / (TP + FP)\n",
    "print(f\"Precision Positive {precision_positve}\")\n",
    "print(f\"Precision Negative {precision_negative}\")\n",
    "print(f\"Precision Neutral {precision_neutral}\")"
   ]
  }
 ],
 "metadata": {
  "kernelspec": {
   "display_name": "Python 3 (ipykernel)",
   "language": "python",
   "name": "python3"
  },
  "language_info": {
   "codemirror_mode": {
    "name": "ipython",
    "version": 3
   },
   "file_extension": ".py",
   "mimetype": "text/x-python",
   "name": "python",
   "nbconvert_exporter": "python",
   "pygments_lexer": "ipython3",
   "version": "3.9.12"
  }
 },
 "nbformat": 4,
 "nbformat_minor": 5
}
