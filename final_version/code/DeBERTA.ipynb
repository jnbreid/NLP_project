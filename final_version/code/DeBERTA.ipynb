{
 "cells": [
  {
   "cell_type": "code",
   "execution_count": 1,
   "id": "ff0f9354",
   "metadata": {},
   "outputs": [],
   "source": [
    "import torch\n",
    "from tqdm import tqdm"
   ]
  },
  {
   "cell_type": "code",
   "execution_count": 1,
   "id": "09c92dcd",
   "metadata": {},
   "outputs": [
    {
     "name": "stderr",
     "output_type": "stream",
     "text": [
      "[nltk_data] Downloading package punkt to\n",
      "[nltk_data]     /home/user/welzs0/nltk_data...\n",
      "[nltk_data]   Package punkt is already up-to-date!\n",
      "[nltk_data] Downloading package wordnet to\n",
      "[nltk_data]     /home/user/welzs0/nltk_data...\n",
      "[nltk_data]   Package wordnet is already up-to-date!\n",
      "[nltk_data] Downloading package averaged_perceptron_tagger to\n",
      "[nltk_data]     /home/user/welzs0/nltk_data...\n",
      "[nltk_data]   Package averaged_perceptron_tagger is already up-to-\n",
      "[nltk_data]       date!\n"
     ]
    }
   ],
   "source": [
    "import json\n",
    "import pandas as pd\n",
    "import dataset_util"
   ]
  },
  {
   "cell_type": "code",
   "execution_count": 3,
   "id": "b367a83f",
   "metadata": {},
   "outputs": [
    {
     "data": {
      "text/plain": [
       "'cuda'"
      ]
     },
     "execution_count": 3,
     "metadata": {},
     "output_type": "execute_result"
    }
   ],
   "source": [
    "device = \"cuda\" if torch.cuda.is_available() else \"cpu\"\n",
    "device"
   ]
  },
  {
   "cell_type": "markdown",
   "id": "12ca3ad7",
   "metadata": {},
   "source": [
    "## Load Datasets"
   ]
  },
  {
   "cell_type": "code",
   "execution_count": 2,
   "id": "b944fcd3",
   "metadata": {},
   "outputs": [],
   "source": [
    "rest_train = dataset_util.load_dataset(split=\"train\", domain=\"rest\") + dataset_util.load_dataset(split=\"dev\", domain = \"rest\")\n",
    "rest_test = dataset_util.load_dataset(split=\"test\", domain=\"rest\")\n",
    "laptop_train = dataset_util.load_dataset(split=\"train\", domain=\"laptop\") + dataset_util.load_dataset(split=\"dev\", domain = \"laptop\")\n",
    "laptop_test = dataset_util.load_dataset(split=\"test\", domain=\"laptop\")"
   ]
  },
  {
   "cell_type": "markdown",
   "id": "4b058654",
   "metadata": {},
   "source": [
    "## Preprocess"
   ]
  },
  {
   "cell_type": "code",
   "execution_count": 3,
   "id": "9356d4c6",
   "metadata": {},
   "outputs": [
    {
     "name": "stderr",
     "output_type": "stream",
     "text": [
      "Processing Text: 100%|██████████████████████████████████████████████████████████| 3602/3602 [00:00<00:00, 102234.33it/s]\n",
      "Processing Text: 100%|██████████████████████████████████████████████████████████| 2313/2313 [00:00<00:00, 114648.31it/s]\n",
      "Processing Text: 100%|██████████████████████████████████████████████████████████| 1120/1120 [00:00<00:00, 130091.95it/s]\n",
      "Processing Text: 100%|████████████████████████████████████████████████████████████| 638/638 [00:00<00:00, 130554.03it/s]\n"
     ]
    }
   ],
   "source": [
    "dataset_util.clean_dataset(rest_train)\n",
    "dataset_util.clean_dataset(laptop_train)\n",
    "dataset_util.clean_dataset(rest_test)\n",
    "dataset_util.clean_dataset(laptop_test)"
   ]
  },
  {
   "cell_type": "code",
   "execution_count": 12,
   "id": "e0b2421d",
   "metadata": {},
   "outputs": [],
   "source": [
    "rest_train = remove_duplicates(rest_train)\n",
    "rest_test = remove_duplicates(rest_test)\n",
    "laptop_train = remove_duplicates(laptop_train)\n",
    "laptop_test = remove_duplicates(laptop_test)"
   ]
  },
  {
   "cell_type": "markdown",
   "id": "119377be",
   "metadata": {},
   "source": [
    "Test if any duplicates are left in the datasets. (Should/Must be False)"
   ]
  },
  {
   "cell_type": "code",
   "execution_count": 13,
   "id": "1b8ddb25",
   "metadata": {},
   "outputs": [
    {
     "name": "stdout",
     "output_type": "stream",
     "text": [
      "False\n"
     ]
    }
   ],
   "source": [
    "print(check_duplicate(rest_test))"
   ]
  },
  {
   "cell_type": "markdown",
   "id": "2b8e94a6",
   "metadata": {},
   "source": [
    "## Some DataAugmentation for imbalanced classes\n"
   ]
  },
  {
   "cell_type": "markdown",
   "id": "af26a3e1",
   "metadata": {},
   "source": [
    "\n",
    "### Some examples for augmented sentences"
   ]
  },
  {
   "cell_type": "code",
   "execution_count": 14,
   "id": "ba3b58a2",
   "metadata": {},
   "outputs": [
    {
     "name": "stdout",
     "output_type": "stream",
     "text": [
      "Original Data: great food good size menu great service and an unpretensious setting\n",
      "Augmented Data: ['great food good small size small menu great service atmosphere and atmosphere an excellent unpretensious setting', 'great overall food experience good sample size menu experience great service and an unpretensious office setting']\n"
     ]
    }
   ],
   "source": [
    "from nlpaug.augmenter.word.context_word_embs import ContextualWordEmbsAug\n",
    "aug = ContextualWordEmbsAug(action='insert',model_path='roberta-base')\n",
    "sentence = rest_train[90]['sentence']\n",
    "augmented_data = aug.augment(sentence, n = 2)\n",
    "print(f\"Original Data: {sentence}\")\n",
    "print(f\"Augmented Data: {augmented_data}\")"
   ]
  },
  {
   "cell_type": "code",
   "execution_count": 36,
   "id": "01432ba5",
   "metadata": {},
   "outputs": [
    {
     "name": "stdout",
     "output_type": "stream",
     "text": [
      "Original Data: great food good size menu great service and an unpretensious setting\n",
      "Augmented Data: ['gre at food good size m enu great se rvice and an unpretensious set ting', 'g reat f ood good size menu great ser vice and an unpretensious set ting']\n"
     ]
    }
   ],
   "source": [
    "from nlpaug.augmenter.word.split import SplitAug\n",
    "aug = SplitAug()\n",
    "sentence = rest_train[90]['sentence']\n",
    "augmented_data = aug.augment(sentence, n = 2)\n",
    "print(f\"Original Data: {sentence}\")\n",
    "print(f\"Augmented Data: {augmented_data}\")"
   ]
  },
  {
   "cell_type": "code",
   "execution_count": 37,
   "id": "e3bab3e1",
   "metadata": {},
   "outputs": [
    {
     "name": "stdout",
     "output_type": "stream",
     "text": [
      "Original Data: great food good size menu great service and an unpretensious setting\n",
      "Augmented Data: ['great food for thought undecomposed sizing fare great service and an unpretensious setting', 'great food good size carte du jour great armed service and an unpretensious circumstance']\n"
     ]
    }
   ],
   "source": [
    "from nlpaug.augmenter.word.synonym import SynonymAug\n",
    "aug = SynonymAug()\n",
    "augmented_data = aug.augment(rest_train[90]['sentence'], n=2)\n",
    "print(f\"Original Data: {rest_train[90]['sentence']}\")\n",
    "print(f\"Augmented Data: {augmented_data}\")"
   ]
  },
  {
   "cell_type": "code",
   "execution_count": 38,
   "id": "2e592b29",
   "metadata": {},
   "outputs": [
    {
     "name": "stderr",
     "output_type": "stream",
     "text": [
      "huggingface/tokenizers: The current process just got forked, after parallelism has already been used. Disabling parallelism to avoid deadlocks...\n",
      "To disable this warning, you can either:\n",
      "\t- Avoid using `tokenizers` before the fork if possible\n",
      "\t- Explicitly set the environment variable TOKENIZERS_PARALLELISM=(true | false)\n",
      "huggingface/tokenizers: The current process just got forked, after parallelism has already been used. Disabling parallelism to avoid deadlocks...\n",
      "To disable this warning, you can either:\n",
      "\t- Avoid using `tokenizers` before the fork if possible\n",
      "\t- Explicitly set the environment variable TOKENIZERS_PARALLELISM=(true | false)\n"
     ]
    },
    {
     "name": "stdout",
     "output_type": "stream",
     "text": [
      "Original Data: the prices are about for an entree for dinner and even less for lunch | Polarity: positive\n",
      "Augmented Data: ['The price of dinner and lunch is lower than that.']\n"
     ]
    }
   ],
   "source": [
    "from nlpaug.augmenter.word.back_translation import BackTranslationAug\n",
    "aug = BackTranslationAug(from_model_name='Helsinki-NLP/opus-mt-en-zh', to_model_name='Helsinki-NLP/opus-mt-zh-en')\n",
    "augmented_data = aug.augment(rest_train[61]['sentence'])\n",
    "print(f\"Original Data: {rest_train[61]['sentence']} | Polarity: {rest_train[61]['polarity']}\")\n",
    "print(f\"Augmented Data: {augmented_data}\")"
   ]
  },
  {
   "cell_type": "code",
   "execution_count": 39,
   "id": "179f8e73",
   "metadata": {},
   "outputs": [
    {
     "name": "stdout",
     "output_type": "stream",
     "text": [
      "Original Data: the prices are about for an entree for dinner and even less for lunch | Polarity: positive\n",
      "Augmented Data: ['the about prices are an for entree dinner for and less even for lunch']\n"
     ]
    }
   ],
   "source": [
    "from nlpaug.augmenter.word.random import RandomWordAug\n",
    "aug = RandomWordAug(action='swap')\n",
    "augmented_data = aug.augment(rest_train[61]['sentence'])\n",
    "print(f\"Original Data: {rest_train[61]['sentence']} | Polarity: {rest_train[61]['polarity']}\")\n",
    "print(f\"Augmented Data: {augmented_data}\")"
   ]
  },
  {
   "cell_type": "markdown",
   "id": "4e8b7ca0",
   "metadata": {},
   "source": [
    "### Data augmentation for datasets"
   ]
  },
  {
   "cell_type": "markdown",
   "id": "4a5a3d5e",
   "metadata": {},
   "source": [
    "Augment the traing data."
   ]
  },
  {
   "cell_type": "code",
   "execution_count": 5,
   "id": "8cbdd842-c69d-4864-bc46-d57a200d309d",
   "metadata": {},
   "outputs": [],
   "source": [
    "rest_train_augmented = rest_train#dataset_util.augment_dataset(rest_train, negative_neutral_polarities={'negative','neutral'}, probabilities=[0, 0, 0, 1])"
   ]
  },
  {
   "cell_type": "code",
   "execution_count": 6,
   "id": "46197940",
   "metadata": {},
   "outputs": [],
   "source": [
    "laptop_train_augmented = laptop_train#dataset_util.augment_dataset(laptop_train, negative_neutral_polarities={'neutral'}, probabilities=[0, 0, 0, 1])"
   ]
  },
  {
   "cell_type": "markdown",
   "id": "1011ca87",
   "metadata": {},
   "source": [
    "#### Number of instances for each sentiment after augmentation."
   ]
  },
  {
   "cell_type": "code",
   "execution_count": 7,
   "id": "091a2a9a",
   "metadata": {},
   "outputs": [
    {
     "name": "stdout",
     "output_type": "stream",
     "text": [
      "Positive : 987\n",
      "Negative : 866\n",
      "Neutral : 460\n",
      "Total: 2313\n"
     ]
    }
   ],
   "source": [
    "pos = 0\n",
    "neg = 0\n",
    "neu = 0\n",
    "for item in laptop_train_augmented:\n",
    "    polarity = item['polarity']\n",
    "    if polarity == 'positive':\n",
    "        pos += 1\n",
    "    elif polarity == 'negative':\n",
    "        neg += 1\n",
    "    elif polarity == 'neutral':\n",
    "        neu += 1\n",
    "print(f\"Positive : {pos}\")\n",
    "print(f\"Negative : {neg}\")\n",
    "print(f\"Neutral : {neu}\")\n",
    "\n",
    "print(f\"Total: {len(laptop_train_augmented)}\")"
   ]
  },
  {
   "cell_type": "markdown",
   "id": "27acb552",
   "metadata": {},
   "source": [
    "## Add Aspects\n",
    "\n",
    "Aspects are added to the sentence of an instance by prepending it to the sentence. The sentence and aspect are seperated by [SEP]."
   ]
  },
  {
   "cell_type": "code",
   "execution_count": 8,
   "id": "73b40d7c",
   "metadata": {},
   "outputs": [],
   "source": [
    "rest_train_sentences = [item['term'] + ' [SEP] ' + item['sentence'] for item in rest_train_augmented]\n",
    "laptop_train_sentences = [item['term'] + ' [SEP] ' + item['sentence'] for item in laptop_train_augmented]\n",
    "\n",
    "rest_test_sentences = [item['term'] + ' [SEP] ' + item['sentence'] for item in rest_test]\n",
    "laptop_test_sentences = [item['term'] + ' [SEP] ' + item['sentence'] for item in laptop_test]"
   ]
  },
  {
   "cell_type": "code",
   "execution_count": 9,
   "id": "a414916d",
   "metadata": {},
   "outputs": [],
   "source": [
    "#rest_train_sentences = [\" \".join(item['sentence']) for item in rest_train]\n",
    "rest_train_polarities = [item['polarity'] for item in rest_train_augmented]\n",
    "\n",
    "#rest_test_sentences = [\" \".join(item['sentence']) for item in rest_test]\n",
    "rest_test_polarities = [item['polarity'] for item in rest_test]\n",
    "\n",
    "\n",
    "#laptop_train_sentences = [\" \".join(item['sentence']) for item in laptop_train]\n",
    "laptop_train_polarities = [item['polarity'] for item in laptop_train_augmented]\n",
    "\n",
    "#laptop_test_sentences = [\" \".join(item['sentence']) for item in laptop_test]\n",
    "laptop_test_polarities = [item['polarity'] for item in laptop_test]"
   ]
  },
  {
   "cell_type": "markdown",
   "id": "1230e8e3",
   "metadata": {},
   "source": [
    "Example input from the restaurant data with the given polarity."
   ]
  },
  {
   "cell_type": "code",
   "execution_count": 10,
   "id": "b6b284e9",
   "metadata": {},
   "outputs": [
    {
     "name": "stdout",
     "output_type": "stream",
     "text": [
      "prix fixe meal [SEP] could be pricey without a prix fixe meal\n",
      "negative\n"
     ]
    }
   ],
   "source": [
    "import random\n",
    "random_index = random.randint(0, len(rest_train_sentences))\n",
    "random_sentence = rest_train_sentences[random_index]\n",
    "random_polarity = rest_train_polarities[random_index]\n",
    "print(random_sentence)\n",
    "print(random_polarity)"
   ]
  },
  {
   "cell_type": "markdown",
   "id": "58c86ea7",
   "metadata": {},
   "source": [
    "#### Encode the polarity labels for all datasets."
   ]
  },
  {
   "cell_type": "code",
   "execution_count": 11,
   "id": "6db65393",
   "metadata": {},
   "outputs": [],
   "source": [
    "from sklearn.preprocessing import LabelEncoder\n",
    "\n",
    "label_encoder = LabelEncoder()\n",
    "rest_y_train = label_encoder.fit_transform(rest_train_polarities)\n",
    "rest_y_test = label_encoder.transform(rest_test_polarities)\n",
    "\n",
    "laptop_y_train = label_encoder.fit_transform(laptop_train_polarities)\n",
    "laptop_y_test = label_encoder.transform(laptop_test_polarities)"
   ]
  },
  {
   "cell_type": "markdown",
   "id": "1705b510",
   "metadata": {},
   "source": [
    "## Define Model (Deberta)\n",
    "\n",
    "Models are defined by importing them from hugging face. Additionally Tokenizer are imported and used."
   ]
  },
  {
   "cell_type": "code",
   "execution_count": 12,
   "id": "257caae4",
   "metadata": {},
   "outputs": [],
   "source": [
    "from transformers import AutoTokenizer, AutoModelForSequenceClassification\n",
    "import torch\n",
    "from torch.utils.data import DataLoader, RandomSampler, SequentialSampler, TensorDataset\n",
    "\n",
    "model_name = 'microsoft/deberta-base'\n",
    "tokenizer = AutoTokenizer.from_pretrained(model_name)\n",
    "\n",
    "def encode_sentences(sentences, max_length=128):\n",
    "    input_ids = []\n",
    "    attention_masks = []\n",
    "\n",
    "    for sentence in sentences:\n",
    "        encoded_dict = tokenizer.encode_plus(\n",
    "                            sentence,                      # Sentence to encode\n",
    "                            add_special_tokens=True,       # Add '[CLS]' and '[SEP]'\n",
    "                            max_length=max_length,         # Pad & truncate all sentences\n",
    "                            padding='max_length',          # Pad all sentences to max length\n",
    "                            truncation=True,               # Explicitly truncate to max length\n",
    "                            return_attention_mask=True,    # Construct attention masks\n",
    "                            return_tensors='pt',           # Return pytorch tensors\n",
    "                        )\n",
    "        \n",
    "        input_ids.append(encoded_dict['input_ids'])\n",
    "        attention_masks.append(encoded_dict['attention_mask'])\n",
    "    return torch.cat(input_ids, dim=0), torch.cat(attention_masks, dim=0)\n",
    "\n",
    "\n",
    "# Encode the sentences (X_train and X_test)\n",
    "rest_train_inputs, rest_train_masks = encode_sentences(rest_train_sentences)\n",
    "rest_test_inputs, rest_test_masks = encode_sentences(rest_test_sentences)\n",
    "\n",
    "laptop_train_inputs, laptop_train_masks = encode_sentences(laptop_train_sentences)\n",
    "laptop_test_inputs, laptop_test_masks = encode_sentences(laptop_test_sentences)"
   ]
  },
  {
   "cell_type": "markdown",
   "id": "bbaf603c",
   "metadata": {},
   "source": [
    "Create torch tensors from the encoded label vectors, to be able to use them with the model and with the encoded sentences."
   ]
  },
  {
   "cell_type": "code",
   "execution_count": 31,
   "id": "52a7b274",
   "metadata": {},
   "outputs": [],
   "source": [
    "rest_train_labels = torch.tensor(rest_y_train)\n",
    "rest_test_labels = torch.tensor(rest_y_test)\n",
    "\n",
    "laptop_train_labels = torch.tensor(laptop_y_train)\n",
    "laptop_test_labels = torch.tensor(laptop_y_test)"
   ]
  },
  {
   "cell_type": "markdown",
   "id": "bbeeebcb",
   "metadata": {},
   "source": [
    "Define dataset class to be able to load instances (with given batch size) for the training. Custom Dataset that stores the original sentences such that we can see which sentences were predicted wrong and which were correct."
   ]
  },
  {
   "cell_type": "code",
   "execution_count": 55,
   "id": "5e633948",
   "metadata": {},
   "outputs": [],
   "source": [
    "from torch.utils.data import Dataset, DataLoader\n",
    "\n",
    "class MyDataset(Dataset):\n",
    "    def __init__(self, inputs, masks, labels, original_sentences):\n",
    "        self.inputs = inputs\n",
    "        self.masks = masks\n",
    "        self.labels = labels\n",
    "        self.original_sentences = original_sentences\n",
    "\n",
    "    def __len__(self):\n",
    "        return len(self.original_sentences)\n",
    "\n",
    "    def __getitem__(self, idx):\n",
    "        input = self.inputs[idx] \n",
    "        mask = self.masks[idx]\n",
    "        label = self.labels[idx]\n",
    "        original_sentence = self.original_sentences[idx]  # Storing the original sentence\n",
    "        return input, mask, label, original_sentence"
   ]
  },
  {
   "cell_type": "markdown",
   "id": "ecc60a10",
   "metadata": {},
   "source": [
    "Initialize all datasets and dataloader for the training/testing process."
   ]
  },
  {
   "cell_type": "code",
   "execution_count": 56,
   "id": "52dd18ed",
   "metadata": {},
   "outputs": [],
   "source": [
    "from torch.utils.data import TensorDataset, DataLoader, RandomSampler, SequentialSampler\n",
    "\n",
    "batch_size = 16  # Adjust this according to your GPU capacity\n",
    "\n",
    "# Create the DataLoader for our training set\n",
    "rest_train_data = TensorDataset(rest_train_inputs, rest_train_masks, rest_train_labels)\n",
    "rest_train_sampler = RandomSampler(rest_train_data)\n",
    "rest_train_dataloader = DataLoader(rest_train_data, sampler=rest_train_sampler, batch_size=batch_size) \n",
    "\n",
    "# Create the DataLoader for our test set\n",
    "rest_test_data = MyDataset(rest_test_inputs, rest_test_masks, rest_test_labels, rest_test_sentences)\n",
    "rest_test_sampler = SequentialSampler(rest_test_data)\n",
    "rest_test_dataloader = DataLoader(rest_test_data, sampler=rest_test_sampler, batch_size=batch_size)\n",
    "\n",
    "# Create the DataLoader for our training set\n",
    "laptop_train_data = TensorDataset(laptop_train_inputs, laptop_train_masks, laptop_train_labels)\n",
    "laptop_train_sampler = RandomSampler(laptop_train_data)\n",
    "laptop_train_dataloader = DataLoader(laptop_train_data, sampler=laptop_train_sampler, batch_size=batch_size) \n",
    "\n",
    "# Create the DataLoader for our test set\n",
    "laptop_test_data = MyDataset(laptop_test_inputs, laptop_test_masks, laptop_test_labels, laptop_test_sentences)\n",
    "laptop_test_sampler = SequentialSampler(laptop_test_data)\n",
    "laptop_test_dataloader = DataLoader(laptop_test_data, sampler=laptop_test_sampler, batch_size=batch_size)"
   ]
  },
  {
   "cell_type": "code",
   "execution_count": 33,
   "id": "55b6bb5b",
   "metadata": {},
   "outputs": [
    {
     "name": "stderr",
     "output_type": "stream",
     "text": [
      "Some weights of DebertaForSequenceClassification were not initialized from the model checkpoint at microsoft/deberta-base and are newly initialized: ['classifier.bias', 'pooler.dense.weight', 'pooler.dense.bias', 'classifier.weight']\n",
      "You should probably TRAIN this model on a down-stream task to be able to use it for predictions and inference.\n"
     ]
    },
    {
     "data": {
      "text/plain": [
       "DebertaForSequenceClassification(\n",
       "  (deberta): DebertaModel(\n",
       "    (embeddings): DebertaEmbeddings(\n",
       "      (word_embeddings): Embedding(50265, 768, padding_idx=0)\n",
       "      (LayerNorm): DebertaLayerNorm()\n",
       "      (dropout): StableDropout()\n",
       "    )\n",
       "    (encoder): DebertaEncoder(\n",
       "      (layer): ModuleList(\n",
       "        (0): DebertaLayer(\n",
       "          (attention): DebertaAttention(\n",
       "            (self): DisentangledSelfAttention(\n",
       "              (in_proj): Linear(in_features=768, out_features=2304, bias=False)\n",
       "              (pos_dropout): StableDropout()\n",
       "              (pos_proj): Linear(in_features=768, out_features=768, bias=False)\n",
       "              (pos_q_proj): Linear(in_features=768, out_features=768, bias=True)\n",
       "              (dropout): StableDropout()\n",
       "            )\n",
       "            (output): DebertaSelfOutput(\n",
       "              (dense): Linear(in_features=768, out_features=768, bias=True)\n",
       "              (LayerNorm): DebertaLayerNorm()\n",
       "              (dropout): StableDropout()\n",
       "            )\n",
       "          )\n",
       "          (intermediate): DebertaIntermediate(\n",
       "            (dense): Linear(in_features=768, out_features=3072, bias=True)\n",
       "            (intermediate_act_fn): GELUActivation()\n",
       "          )\n",
       "          (output): DebertaOutput(\n",
       "            (dense): Linear(in_features=3072, out_features=768, bias=True)\n",
       "            (LayerNorm): DebertaLayerNorm()\n",
       "            (dropout): StableDropout()\n",
       "          )\n",
       "        )\n",
       "        (1): DebertaLayer(\n",
       "          (attention): DebertaAttention(\n",
       "            (self): DisentangledSelfAttention(\n",
       "              (in_proj): Linear(in_features=768, out_features=2304, bias=False)\n",
       "              (pos_dropout): StableDropout()\n",
       "              (pos_proj): Linear(in_features=768, out_features=768, bias=False)\n",
       "              (pos_q_proj): Linear(in_features=768, out_features=768, bias=True)\n",
       "              (dropout): StableDropout()\n",
       "            )\n",
       "            (output): DebertaSelfOutput(\n",
       "              (dense): Linear(in_features=768, out_features=768, bias=True)\n",
       "              (LayerNorm): DebertaLayerNorm()\n",
       "              (dropout): StableDropout()\n",
       "            )\n",
       "          )\n",
       "          (intermediate): DebertaIntermediate(\n",
       "            (dense): Linear(in_features=768, out_features=3072, bias=True)\n",
       "            (intermediate_act_fn): GELUActivation()\n",
       "          )\n",
       "          (output): DebertaOutput(\n",
       "            (dense): Linear(in_features=3072, out_features=768, bias=True)\n",
       "            (LayerNorm): DebertaLayerNorm()\n",
       "            (dropout): StableDropout()\n",
       "          )\n",
       "        )\n",
       "        (2): DebertaLayer(\n",
       "          (attention): DebertaAttention(\n",
       "            (self): DisentangledSelfAttention(\n",
       "              (in_proj): Linear(in_features=768, out_features=2304, bias=False)\n",
       "              (pos_dropout): StableDropout()\n",
       "              (pos_proj): Linear(in_features=768, out_features=768, bias=False)\n",
       "              (pos_q_proj): Linear(in_features=768, out_features=768, bias=True)\n",
       "              (dropout): StableDropout()\n",
       "            )\n",
       "            (output): DebertaSelfOutput(\n",
       "              (dense): Linear(in_features=768, out_features=768, bias=True)\n",
       "              (LayerNorm): DebertaLayerNorm()\n",
       "              (dropout): StableDropout()\n",
       "            )\n",
       "          )\n",
       "          (intermediate): DebertaIntermediate(\n",
       "            (dense): Linear(in_features=768, out_features=3072, bias=True)\n",
       "            (intermediate_act_fn): GELUActivation()\n",
       "          )\n",
       "          (output): DebertaOutput(\n",
       "            (dense): Linear(in_features=3072, out_features=768, bias=True)\n",
       "            (LayerNorm): DebertaLayerNorm()\n",
       "            (dropout): StableDropout()\n",
       "          )\n",
       "        )\n",
       "        (3): DebertaLayer(\n",
       "          (attention): DebertaAttention(\n",
       "            (self): DisentangledSelfAttention(\n",
       "              (in_proj): Linear(in_features=768, out_features=2304, bias=False)\n",
       "              (pos_dropout): StableDropout()\n",
       "              (pos_proj): Linear(in_features=768, out_features=768, bias=False)\n",
       "              (pos_q_proj): Linear(in_features=768, out_features=768, bias=True)\n",
       "              (dropout): StableDropout()\n",
       "            )\n",
       "            (output): DebertaSelfOutput(\n",
       "              (dense): Linear(in_features=768, out_features=768, bias=True)\n",
       "              (LayerNorm): DebertaLayerNorm()\n",
       "              (dropout): StableDropout()\n",
       "            )\n",
       "          )\n",
       "          (intermediate): DebertaIntermediate(\n",
       "            (dense): Linear(in_features=768, out_features=3072, bias=True)\n",
       "            (intermediate_act_fn): GELUActivation()\n",
       "          )\n",
       "          (output): DebertaOutput(\n",
       "            (dense): Linear(in_features=3072, out_features=768, bias=True)\n",
       "            (LayerNorm): DebertaLayerNorm()\n",
       "            (dropout): StableDropout()\n",
       "          )\n",
       "        )\n",
       "        (4): DebertaLayer(\n",
       "          (attention): DebertaAttention(\n",
       "            (self): DisentangledSelfAttention(\n",
       "              (in_proj): Linear(in_features=768, out_features=2304, bias=False)\n",
       "              (pos_dropout): StableDropout()\n",
       "              (pos_proj): Linear(in_features=768, out_features=768, bias=False)\n",
       "              (pos_q_proj): Linear(in_features=768, out_features=768, bias=True)\n",
       "              (dropout): StableDropout()\n",
       "            )\n",
       "            (output): DebertaSelfOutput(\n",
       "              (dense): Linear(in_features=768, out_features=768, bias=True)\n",
       "              (LayerNorm): DebertaLayerNorm()\n",
       "              (dropout): StableDropout()\n",
       "            )\n",
       "          )\n",
       "          (intermediate): DebertaIntermediate(\n",
       "            (dense): Linear(in_features=768, out_features=3072, bias=True)\n",
       "            (intermediate_act_fn): GELUActivation()\n",
       "          )\n",
       "          (output): DebertaOutput(\n",
       "            (dense): Linear(in_features=3072, out_features=768, bias=True)\n",
       "            (LayerNorm): DebertaLayerNorm()\n",
       "            (dropout): StableDropout()\n",
       "          )\n",
       "        )\n",
       "        (5): DebertaLayer(\n",
       "          (attention): DebertaAttention(\n",
       "            (self): DisentangledSelfAttention(\n",
       "              (in_proj): Linear(in_features=768, out_features=2304, bias=False)\n",
       "              (pos_dropout): StableDropout()\n",
       "              (pos_proj): Linear(in_features=768, out_features=768, bias=False)\n",
       "              (pos_q_proj): Linear(in_features=768, out_features=768, bias=True)\n",
       "              (dropout): StableDropout()\n",
       "            )\n",
       "            (output): DebertaSelfOutput(\n",
       "              (dense): Linear(in_features=768, out_features=768, bias=True)\n",
       "              (LayerNorm): DebertaLayerNorm()\n",
       "              (dropout): StableDropout()\n",
       "            )\n",
       "          )\n",
       "          (intermediate): DebertaIntermediate(\n",
       "            (dense): Linear(in_features=768, out_features=3072, bias=True)\n",
       "            (intermediate_act_fn): GELUActivation()\n",
       "          )\n",
       "          (output): DebertaOutput(\n",
       "            (dense): Linear(in_features=3072, out_features=768, bias=True)\n",
       "            (LayerNorm): DebertaLayerNorm()\n",
       "            (dropout): StableDropout()\n",
       "          )\n",
       "        )\n",
       "        (6): DebertaLayer(\n",
       "          (attention): DebertaAttention(\n",
       "            (self): DisentangledSelfAttention(\n",
       "              (in_proj): Linear(in_features=768, out_features=2304, bias=False)\n",
       "              (pos_dropout): StableDropout()\n",
       "              (pos_proj): Linear(in_features=768, out_features=768, bias=False)\n",
       "              (pos_q_proj): Linear(in_features=768, out_features=768, bias=True)\n",
       "              (dropout): StableDropout()\n",
       "            )\n",
       "            (output): DebertaSelfOutput(\n",
       "              (dense): Linear(in_features=768, out_features=768, bias=True)\n",
       "              (LayerNorm): DebertaLayerNorm()\n",
       "              (dropout): StableDropout()\n",
       "            )\n",
       "          )\n",
       "          (intermediate): DebertaIntermediate(\n",
       "            (dense): Linear(in_features=768, out_features=3072, bias=True)\n",
       "            (intermediate_act_fn): GELUActivation()\n",
       "          )\n",
       "          (output): DebertaOutput(\n",
       "            (dense): Linear(in_features=3072, out_features=768, bias=True)\n",
       "            (LayerNorm): DebertaLayerNorm()\n",
       "            (dropout): StableDropout()\n",
       "          )\n",
       "        )\n",
       "        (7): DebertaLayer(\n",
       "          (attention): DebertaAttention(\n",
       "            (self): DisentangledSelfAttention(\n",
       "              (in_proj): Linear(in_features=768, out_features=2304, bias=False)\n",
       "              (pos_dropout): StableDropout()\n",
       "              (pos_proj): Linear(in_features=768, out_features=768, bias=False)\n",
       "              (pos_q_proj): Linear(in_features=768, out_features=768, bias=True)\n",
       "              (dropout): StableDropout()\n",
       "            )\n",
       "            (output): DebertaSelfOutput(\n",
       "              (dense): Linear(in_features=768, out_features=768, bias=True)\n",
       "              (LayerNorm): DebertaLayerNorm()\n",
       "              (dropout): StableDropout()\n",
       "            )\n",
       "          )\n",
       "          (intermediate): DebertaIntermediate(\n",
       "            (dense): Linear(in_features=768, out_features=3072, bias=True)\n",
       "            (intermediate_act_fn): GELUActivation()\n",
       "          )\n",
       "          (output): DebertaOutput(\n",
       "            (dense): Linear(in_features=3072, out_features=768, bias=True)\n",
       "            (LayerNorm): DebertaLayerNorm()\n",
       "            (dropout): StableDropout()\n",
       "          )\n",
       "        )\n",
       "        (8): DebertaLayer(\n",
       "          (attention): DebertaAttention(\n",
       "            (self): DisentangledSelfAttention(\n",
       "              (in_proj): Linear(in_features=768, out_features=2304, bias=False)\n",
       "              (pos_dropout): StableDropout()\n",
       "              (pos_proj): Linear(in_features=768, out_features=768, bias=False)\n",
       "              (pos_q_proj): Linear(in_features=768, out_features=768, bias=True)\n",
       "              (dropout): StableDropout()\n",
       "            )\n",
       "            (output): DebertaSelfOutput(\n",
       "              (dense): Linear(in_features=768, out_features=768, bias=True)\n",
       "              (LayerNorm): DebertaLayerNorm()\n",
       "              (dropout): StableDropout()\n",
       "            )\n",
       "          )\n",
       "          (intermediate): DebertaIntermediate(\n",
       "            (dense): Linear(in_features=768, out_features=3072, bias=True)\n",
       "            (intermediate_act_fn): GELUActivation()\n",
       "          )\n",
       "          (output): DebertaOutput(\n",
       "            (dense): Linear(in_features=3072, out_features=768, bias=True)\n",
       "            (LayerNorm): DebertaLayerNorm()\n",
       "            (dropout): StableDropout()\n",
       "          )\n",
       "        )\n",
       "        (9): DebertaLayer(\n",
       "          (attention): DebertaAttention(\n",
       "            (self): DisentangledSelfAttention(\n",
       "              (in_proj): Linear(in_features=768, out_features=2304, bias=False)\n",
       "              (pos_dropout): StableDropout()\n",
       "              (pos_proj): Linear(in_features=768, out_features=768, bias=False)\n",
       "              (pos_q_proj): Linear(in_features=768, out_features=768, bias=True)\n",
       "              (dropout): StableDropout()\n",
       "            )\n",
       "            (output): DebertaSelfOutput(\n",
       "              (dense): Linear(in_features=768, out_features=768, bias=True)\n",
       "              (LayerNorm): DebertaLayerNorm()\n",
       "              (dropout): StableDropout()\n",
       "            )\n",
       "          )\n",
       "          (intermediate): DebertaIntermediate(\n",
       "            (dense): Linear(in_features=768, out_features=3072, bias=True)\n",
       "            (intermediate_act_fn): GELUActivation()\n",
       "          )\n",
       "          (output): DebertaOutput(\n",
       "            (dense): Linear(in_features=3072, out_features=768, bias=True)\n",
       "            (LayerNorm): DebertaLayerNorm()\n",
       "            (dropout): StableDropout()\n",
       "          )\n",
       "        )\n",
       "        (10): DebertaLayer(\n",
       "          (attention): DebertaAttention(\n",
       "            (self): DisentangledSelfAttention(\n",
       "              (in_proj): Linear(in_features=768, out_features=2304, bias=False)\n",
       "              (pos_dropout): StableDropout()\n",
       "              (pos_proj): Linear(in_features=768, out_features=768, bias=False)\n",
       "              (pos_q_proj): Linear(in_features=768, out_features=768, bias=True)\n",
       "              (dropout): StableDropout()\n",
       "            )\n",
       "            (output): DebertaSelfOutput(\n",
       "              (dense): Linear(in_features=768, out_features=768, bias=True)\n",
       "              (LayerNorm): DebertaLayerNorm()\n",
       "              (dropout): StableDropout()\n",
       "            )\n",
       "          )\n",
       "          (intermediate): DebertaIntermediate(\n",
       "            (dense): Linear(in_features=768, out_features=3072, bias=True)\n",
       "            (intermediate_act_fn): GELUActivation()\n",
       "          )\n",
       "          (output): DebertaOutput(\n",
       "            (dense): Linear(in_features=3072, out_features=768, bias=True)\n",
       "            (LayerNorm): DebertaLayerNorm()\n",
       "            (dropout): StableDropout()\n",
       "          )\n",
       "        )\n",
       "        (11): DebertaLayer(\n",
       "          (attention): DebertaAttention(\n",
       "            (self): DisentangledSelfAttention(\n",
       "              (in_proj): Linear(in_features=768, out_features=2304, bias=False)\n",
       "              (pos_dropout): StableDropout()\n",
       "              (pos_proj): Linear(in_features=768, out_features=768, bias=False)\n",
       "              (pos_q_proj): Linear(in_features=768, out_features=768, bias=True)\n",
       "              (dropout): StableDropout()\n",
       "            )\n",
       "            (output): DebertaSelfOutput(\n",
       "              (dense): Linear(in_features=768, out_features=768, bias=True)\n",
       "              (LayerNorm): DebertaLayerNorm()\n",
       "              (dropout): StableDropout()\n",
       "            )\n",
       "          )\n",
       "          (intermediate): DebertaIntermediate(\n",
       "            (dense): Linear(in_features=768, out_features=3072, bias=True)\n",
       "            (intermediate_act_fn): GELUActivation()\n",
       "          )\n",
       "          (output): DebertaOutput(\n",
       "            (dense): Linear(in_features=3072, out_features=768, bias=True)\n",
       "            (LayerNorm): DebertaLayerNorm()\n",
       "            (dropout): StableDropout()\n",
       "          )\n",
       "        )\n",
       "      )\n",
       "      (rel_embeddings): Embedding(1024, 768)\n",
       "    )\n",
       "  )\n",
       "  (pooler): ContextPooler(\n",
       "    (dense): Linear(in_features=768, out_features=768, bias=True)\n",
       "    (dropout): StableDropout()\n",
       "  )\n",
       "  (classifier): Linear(in_features=768, out_features=3, bias=True)\n",
       "  (dropout): StableDropout()\n",
       ")"
      ]
     },
     "execution_count": 33,
     "metadata": {},
     "output_type": "execute_result"
    }
   ],
   "source": [
    "# Initializing a DeBERTa-v2 microsoft/deberta-v2-xlarge style configuration\n",
    "#configuration = DebertaV2Config()\n",
    "import torch.nn as nn\n",
    "# Initializing a model (with random weights) from the microsoft/deberta-v2-xlarge style configuration\n",
    "model = AutoModelForSequenceClassification.from_pretrained(model_name, num_labels = 3) # 3 polarities\n",
    "# Tell the model to run on GPU\n",
    "model.to(device)"
   ]
  },
  {
   "cell_type": "markdown",
   "id": "1d87cdcc",
   "metadata": {},
   "source": [
    "Set training parameters/functions to the wanted values/objects.\n",
    "We train for 15 epochs, use the optimizer adamw and use an exponential learning rate scheduler."
   ]
  },
  {
   "cell_type": "code",
   "execution_count": 29,
   "id": "d4d60e25",
   "metadata": {},
   "outputs": [],
   "source": [
    "from transformers import get_linear_schedule_with_warmup, get_constant_schedule_with_warmup, get_cosine_schedule_with_warmup\n",
    "import torch.optim as optim\n",
    "import torch\n",
    "# Implement the training loop\n",
    "epochs = 15\n",
    "\n",
    "# Define the optimizer\n",
    "optimizer = torch.optim.AdamW(model.parameters(), lr=2e-5, eps = 1e-8)\n",
    "\n",
    "# Total number of training steps\n",
    "total_steps = len(train_dataloader) * epochs\n",
    "\n",
    "scheduler = torch.optim.lr_scheduler.ExponentialLR(optimizer, gamma=0.9)\n",
    "# Create the learning rate scheduler."
   ]
  },
  {
   "cell_type": "markdown",
   "id": "ead885d1",
   "metadata": {},
   "source": [
    "### Training function and stats during training"
   ]
  },
  {
   "cell_type": "code",
   "execution_count": 31,
   "id": "d8a09ef7",
   "metadata": {},
   "outputs": [
    {
     "name": "stderr",
     "output_type": "stream",
     "text": [
      "                                                                                                                        \r"
     ]
    },
    {
     "name": "stdout",
     "output_type": "stream",
     "text": [
      "  Average training loss: 0.63\n"
     ]
    },
    {
     "name": "stderr",
     "output_type": "stream",
     "text": [
      "100%|███████████████████████████████████████████████████████████████████████████████████| 39/39 [00:01<00:00, 28.01it/s]\n"
     ]
    },
    {
     "name": "stdout",
     "output_type": "stream",
     "text": [
      "Accuracy: 0.7724\n",
      "Precision: 0.7806\n",
      "Recall: 0.7724\n",
      "F1-Score: 0.7676\n",
      "  Accuracy increased to 0.77 from 0.00, saving model.\n"
     ]
    },
    {
     "name": "stderr",
     "output_type": "stream",
     "text": [
      "                                                                                                                        \r"
     ]
    },
    {
     "name": "stdout",
     "output_type": "stream",
     "text": [
      "  Average training loss: 0.40\n"
     ]
    },
    {
     "name": "stderr",
     "output_type": "stream",
     "text": [
      "100%|███████████████████████████████████████████████████████████████████████████████████| 39/39 [00:01<00:00, 27.76it/s]\n"
     ]
    },
    {
     "name": "stdout",
     "output_type": "stream",
     "text": [
      "Accuracy: 0.7548\n",
      "Precision: 0.7945\n",
      "Recall: 0.7548\n",
      "F1-Score: 0.7557\n"
     ]
    },
    {
     "name": "stderr",
     "output_type": "stream",
     "text": [
      "                                                                                                                        \r"
     ]
    },
    {
     "name": "stdout",
     "output_type": "stream",
     "text": [
      "  Average training loss: 0.25\n"
     ]
    },
    {
     "name": "stderr",
     "output_type": "stream",
     "text": [
      "100%|███████████████████████████████████████████████████████████████████████████████████| 39/39 [00:01<00:00, 27.64it/s]\n"
     ]
    },
    {
     "name": "stdout",
     "output_type": "stream",
     "text": [
      "Accuracy: 0.7853\n",
      "Precision: 0.7793\n",
      "Recall: 0.7853\n",
      "F1-Score: 0.7802\n",
      "  Accuracy increased to 0.79 from 0.77, saving model.\n"
     ]
    },
    {
     "name": "stderr",
     "output_type": "stream",
     "text": [
      "                                                                                                                        \r"
     ]
    },
    {
     "name": "stdout",
     "output_type": "stream",
     "text": [
      "  Average training loss: 0.17\n"
     ]
    },
    {
     "name": "stderr",
     "output_type": "stream",
     "text": [
      "100%|███████████████████████████████████████████████████████████████████████████████████| 39/39 [00:01<00:00, 27.53it/s]\n"
     ]
    },
    {
     "name": "stdout",
     "output_type": "stream",
     "text": [
      "Accuracy: 0.8109\n",
      "Precision: 0.8261\n",
      "Recall: 0.8109\n",
      "F1-Score: 0.8150\n",
      "  Accuracy increased to 0.81 from 0.79, saving model.\n"
     ]
    },
    {
     "name": "stderr",
     "output_type": "stream",
     "text": [
      "                                                                                                                        \r"
     ]
    },
    {
     "name": "stdout",
     "output_type": "stream",
     "text": [
      "  Average training loss: 0.12\n"
     ]
    },
    {
     "name": "stderr",
     "output_type": "stream",
     "text": [
      "100%|███████████████████████████████████████████████████████████████████████████████████| 39/39 [00:01<00:00, 27.43it/s]\n"
     ]
    },
    {
     "name": "stdout",
     "output_type": "stream",
     "text": [
      "Accuracy: 0.7692\n",
      "Precision: 0.7641\n",
      "Recall: 0.7692\n",
      "F1-Score: 0.7515\n"
     ]
    },
    {
     "name": "stderr",
     "output_type": "stream",
     "text": [
      "                                                                                                                        \r"
     ]
    },
    {
     "name": "stdout",
     "output_type": "stream",
     "text": [
      "  Average training loss: 0.08\n"
     ]
    },
    {
     "name": "stderr",
     "output_type": "stream",
     "text": [
      "100%|███████████████████████████████████████████████████████████████████████████████████| 39/39 [00:01<00:00, 27.18it/s]\n"
     ]
    },
    {
     "name": "stdout",
     "output_type": "stream",
     "text": [
      "Accuracy: 0.8013\n",
      "Precision: 0.8050\n",
      "Recall: 0.8013\n",
      "F1-Score: 0.8023\n"
     ]
    },
    {
     "name": "stderr",
     "output_type": "stream",
     "text": [
      "                                                                                                                        \r"
     ]
    },
    {
     "name": "stdout",
     "output_type": "stream",
     "text": [
      "  Average training loss: 0.06\n"
     ]
    },
    {
     "name": "stderr",
     "output_type": "stream",
     "text": [
      "100%|███████████████████████████████████████████████████████████████████████████████████| 39/39 [00:01<00:00, 27.09it/s]\n"
     ]
    },
    {
     "name": "stdout",
     "output_type": "stream",
     "text": [
      "Accuracy: 0.7933\n",
      "Precision: 0.8015\n",
      "Recall: 0.7933\n",
      "F1-Score: 0.7908\n"
     ]
    },
    {
     "name": "stderr",
     "output_type": "stream",
     "text": [
      "                                                                                                                        \r"
     ]
    },
    {
     "name": "stdout",
     "output_type": "stream",
     "text": [
      "  Average training loss: 0.06\n"
     ]
    },
    {
     "name": "stderr",
     "output_type": "stream",
     "text": [
      "100%|███████████████████████████████████████████████████████████████████████████████████| 39/39 [00:01<00:00, 27.02it/s]\n"
     ]
    },
    {
     "name": "stdout",
     "output_type": "stream",
     "text": [
      "Accuracy: 0.8061\n",
      "Precision: 0.8073\n",
      "Recall: 0.8061\n",
      "F1-Score: 0.8060\n"
     ]
    },
    {
     "name": "stderr",
     "output_type": "stream",
     "text": [
      "                                                                                                                        \r"
     ]
    },
    {
     "name": "stdout",
     "output_type": "stream",
     "text": [
      "  Average training loss: 0.07\n"
     ]
    },
    {
     "name": "stderr",
     "output_type": "stream",
     "text": [
      "100%|███████████████████████████████████████████████████████████████████████████████████| 39/39 [00:01<00:00, 26.99it/s]\n"
     ]
    },
    {
     "name": "stdout",
     "output_type": "stream",
     "text": [
      "Accuracy: 0.8045\n",
      "Precision: 0.8138\n",
      "Recall: 0.8045\n",
      "F1-Score: 0.8028\n"
     ]
    },
    {
     "name": "stderr",
     "output_type": "stream",
     "text": [
      "                                                                                                                        \r"
     ]
    },
    {
     "name": "stdout",
     "output_type": "stream",
     "text": [
      "  Average training loss: 0.03\n"
     ]
    },
    {
     "name": "stderr",
     "output_type": "stream",
     "text": [
      "100%|███████████████████████████████████████████████████████████████████████████████████| 39/39 [00:01<00:00, 27.04it/s]\n"
     ]
    },
    {
     "name": "stdout",
     "output_type": "stream",
     "text": [
      "Accuracy: 0.7917\n",
      "Precision: 0.7982\n",
      "Recall: 0.7917\n",
      "F1-Score: 0.7877\n"
     ]
    },
    {
     "name": "stderr",
     "output_type": "stream",
     "text": [
      "                                                                                                                        \r"
     ]
    },
    {
     "name": "stdout",
     "output_type": "stream",
     "text": [
      "  Average training loss: 0.03\n"
     ]
    },
    {
     "name": "stderr",
     "output_type": "stream",
     "text": [
      "100%|███████████████████████████████████████████████████████████████████████████████████| 39/39 [00:01<00:00, 27.05it/s]\n"
     ]
    },
    {
     "name": "stdout",
     "output_type": "stream",
     "text": [
      "Accuracy: 0.8061\n",
      "Precision: 0.8210\n",
      "Recall: 0.8061\n",
      "F1-Score: 0.8039\n"
     ]
    },
    {
     "name": "stderr",
     "output_type": "stream",
     "text": [
      "                                                                                                                        \r"
     ]
    },
    {
     "name": "stdout",
     "output_type": "stream",
     "text": [
      "  Average training loss: 0.01\n"
     ]
    },
    {
     "name": "stderr",
     "output_type": "stream",
     "text": [
      "100%|███████████████████████████████████████████████████████████████████████████████████| 39/39 [00:01<00:00, 27.05it/s]\n"
     ]
    },
    {
     "name": "stdout",
     "output_type": "stream",
     "text": [
      "Accuracy: 0.7981\n",
      "Precision: 0.8232\n",
      "Recall: 0.7981\n",
      "F1-Score: 0.7987\n"
     ]
    },
    {
     "name": "stderr",
     "output_type": "stream",
     "text": [
      "                                                                                                                        \r"
     ]
    },
    {
     "name": "stdout",
     "output_type": "stream",
     "text": [
      "  Average training loss: 0.02\n"
     ]
    },
    {
     "name": "stderr",
     "output_type": "stream",
     "text": [
      "100%|███████████████████████████████████████████████████████████████████████████████████| 39/39 [00:01<00:00, 27.12it/s]\n"
     ]
    },
    {
     "name": "stdout",
     "output_type": "stream",
     "text": [
      "Accuracy: 0.8029\n",
      "Precision: 0.8166\n",
      "Recall: 0.8029\n",
      "F1-Score: 0.7929\n"
     ]
    },
    {
     "name": "stderr",
     "output_type": "stream",
     "text": [
      "                                                                                                                        \r"
     ]
    },
    {
     "name": "stdout",
     "output_type": "stream",
     "text": [
      "  Average training loss: 0.01\n"
     ]
    },
    {
     "name": "stderr",
     "output_type": "stream",
     "text": [
      "100%|███████████████████████████████████████████████████████████████████████████████████| 39/39 [00:01<00:00, 27.11it/s]\n"
     ]
    },
    {
     "name": "stdout",
     "output_type": "stream",
     "text": [
      "Accuracy: 0.7949\n",
      "Precision: 0.8025\n",
      "Recall: 0.7949\n",
      "F1-Score: 0.7870\n"
     ]
    },
    {
     "name": "stderr",
     "output_type": "stream",
     "text": [
      "                                                                                                                        \r"
     ]
    },
    {
     "name": "stdout",
     "output_type": "stream",
     "text": [
      "  Average training loss: 0.03\n"
     ]
    },
    {
     "name": "stderr",
     "output_type": "stream",
     "text": [
      "100%|███████████████████████████████████████████████████████████████████████████████████| 39/39 [00:01<00:00, 27.19it/s]"
     ]
    },
    {
     "name": "stdout",
     "output_type": "stream",
     "text": [
      "Accuracy: 0.7869\n",
      "Precision: 0.8114\n",
      "Recall: 0.7869\n",
      "F1-Score: 0.7760\n"
     ]
    },
    {
     "name": "stderr",
     "output_type": "stream",
     "text": [
      "\n"
     ]
    }
   ],
   "source": [
    "from sklearn.metrics import precision_recall_fscore_support, accuracy_score, confusion_matrix\n",
    "import numpy as np\n",
    "best_accuracy = 0\n",
    "validation_acc = []\n",
    "validation_prec = []\n",
    "validation_f1 = []\n",
    "validation_recall = []\n",
    "validation_loss = []\n",
    "training_loss = []\n",
    "training_progress = []\n",
    "for epoch in range(0, epochs):\n",
    "    # Training step\n",
    "    model.train()\n",
    "    total_train_loss = 0\n",
    "    progress_bar = tqdm(train_dataloader, desc=\"Epoch {:1d}\".format(epoch+1), leave=False, disable=False)\n",
    "    for batch in progress_bar:\n",
    "        b_input_ids = batch[0].to(device)\n",
    "        b_input_mask = batch[1].to(device)\n",
    "        b_labels = batch[2].to(device)\n",
    "\n",
    "        # Clear previously calculated gradients\n",
    "        model.zero_grad()        \n",
    "        # Perform a forward pass\n",
    "        outputs = model(b_input_ids, attention_mask=b_input_mask, labels=b_labels)\n",
    "        loss = outputs.loss\n",
    "        total_train_loss += loss.item()\n",
    "        training_progress.append(loss.item())\n",
    "\n",
    "        # Perform a backward pass\n",
    "        loss.backward()\n",
    "\n",
    "        # Update parameters and take a step using the computed gradient\n",
    "        optimizer.step()\n",
    "        # Update the progress bar\n",
    "        progress_bar.set_postfix({'training_loss': '{:.3f}'.format(loss.item()/len(batch))})\n",
    "    \n",
    "    # Calculate the average loss over the training data.\n",
    "    avg_train_loss = total_train_loss / len(train_dataloader)            \n",
    "    print(f\"  Average training loss: {avg_train_loss:.2f}\")\n",
    "    training_loss.append(avg_train_loss)\n",
    "    \n",
    "    model.eval()\n",
    "\n",
    "    # Initialize variables to gather predictions and true labels\n",
    "    all_predictions = []\n",
    "    all_true_labels = []\n",
    "\n",
    "    with torch.no_grad():\n",
    "        total_eval_loss = 0\n",
    "        for batch in tqdm(test_dataloader):\n",
    "            b_input_ids = batch[0].to(device)\n",
    "            b_input_mask = batch[1].to(device)\n",
    "            b_labels = batch[2].to(device)\n",
    "            #token_type_ids = None\n",
    "            outputs = model(b_input_ids, attention_mask=b_input_mask, labels=b_labels)\n",
    "\n",
    "            loss = outputs.loss\n",
    "            total_eval_loss += loss.item()\n",
    "\n",
    "            logits = outputs.logits.detach().cpu().numpy()\n",
    "            label_ids = b_labels.to('cpu').numpy()\n",
    "\n",
    "            # Store predictions and true labels\n",
    "            all_predictions.extend(np.argmax(logits, axis=1).flatten())\n",
    "            all_true_labels.extend(label_ids.flatten())\n",
    "    precision, recall, f1_score, _ = precision_recall_fscore_support(all_true_labels, all_predictions, average='weighted')\n",
    "    accuracy = accuracy_score(all_true_labels, all_predictions)\n",
    "    avg_test_loss = total_eval_loss / len(test_dataloader)\n",
    "    \n",
    "    scheduler.step(accuracy)\n",
    "    \n",
    "    validation_acc.append(accuracy)\n",
    "    validation_prec.append(precision)\n",
    "    validation_f1.append(f1_score)\n",
    "    validation_recall.append(recall)\n",
    "    validation_loss.append(avg_test_loss)\n",
    "    \n",
    "    print(f'Accuracy: {accuracy:.4f}')\n",
    "    print(f'Precision: {precision:.4f}')\n",
    "    print(f'Recall: {recall:.4f}')\n",
    "    print(f'F1-Score: {f1_score:.4f}')\n",
    "    if accuracy >= best_accuracy:\n",
    "        print(f\"  Accuracy increased to {accuracy:.2f} from {best_accuracy:.2f}, saving model.\")\n",
    "        best_accuracy = accuracy\n",
    "        best_model_state = model.state_dict()\n",
    "        torch.save(best_model_state, 'DeBERTa_Laptop.bin')"
   ]
  },
  {
   "cell_type": "markdown",
   "id": "c2bbb7e0",
   "metadata": {},
   "source": [
    "#### Plot loss curves and other metrics from the training"
   ]
  },
  {
   "cell_type": "code",
   "execution_count": 32,
   "id": "98061c2d",
   "metadata": {},
   "outputs": [
    {
     "data": {
      "image/png": "[encoded data removed]",
      "text/plain": [
       "<Figure size 1500x500 with 6 Axes>"
      ]
     },
     "metadata": {},
     "output_type": "display_data"
    }
   ],
   "source": [
    "import matplotlib.pyplot as plt\n",
    "fig, axs = plt.subplots(2, 3, figsize=(15,5))\n",
    "\n",
    "axs[0, 0].plot(training_progress)\n",
    "axs[0, 0].set_title(\"Training Progress\")\n",
    "axs[0, 0].set_xlabel(\"Iteration\")\n",
    "axs[0, 0].set_ylabel(\"Training Loss\")\n",
    "\n",
    "axs[0, 1].plot(validation_loss)\n",
    "axs[0, 1].plot(training_loss)\n",
    "axs[0, 1].set_title(\"Training Progress\")\n",
    "axs[0, 1].set_xlabel(\"Iteration\")\n",
    "axs[0, 1].set_ylabel(\"Training Loss\")\n",
    "\n",
    "axs[1, 1].plot(validation_f1)\n",
    "axs[1, 1].set_title(\"F1 Score\")\n",
    "axs[1, 1].set_xlabel(\"Iteration\")\n",
    "axs[1, 1].set_ylabel(\"F1 Score\")\n",
    "\n",
    "axs[1, 0].plot(validation_acc)\n",
    "axs[1, 0].set_title(\"Accuracy\")\n",
    "axs[1, 0].set_xlabel(\"Iteration\")\n",
    "axs[1, 0].set_ylabel(\"Validation Accuracy\")\n",
    "\n",
    "axs[1, 2].plot(validation_prec)\n",
    "axs[1, 2].set_title(\"Precision\")\n",
    "axs[1, 2].set_xlabel(\"Iteration\")\n",
    "axs[1, 2].set_ylabel(\"Validation Precision\")\n",
    "\n",
    "\n",
    "plt.tight_layout()\n",
    "plt.show()"
   ]
  },
  {
   "cell_type": "markdown",
   "id": "34f89b55",
   "metadata": {},
   "source": [
    "# Evaluation"
   ]
  },
  {
   "cell_type": "markdown",
   "id": "a084d316",
   "metadata": {},
   "source": [
    "## Evaluation Restaurant\n",
    "\n",
    "We evaluate with precision, recall, accuracy and $F_1$-score.\n",
    "Additionally we show some example sentences together with their original(ground truth) and predicted sentiment."
   ]
  },
  {
   "cell_type": "code",
   "execution_count": 64,
   "id": "d325a254",
   "metadata": {},
   "outputs": [
    {
     "name": "stderr",
     "output_type": "stream",
     "text": [
      "Some weights of DebertaForSequenceClassification were not initialized from the model checkpoint at microsoft/deberta-base and are newly initialized: ['classifier.bias', 'pooler.dense.weight', 'pooler.dense.bias', 'classifier.weight']\n",
      "You should probably TRAIN this model on a down-stream task to be able to use it for predictions and inference.\n",
      "100%|███████████████████████████████████████████████████████████████████████████████████| 70/70 [00:02<00:00, 29.09it/s]"
     ]
    },
    {
     "name": "stdout",
     "output_type": "stream",
     "text": [
      "Accuracy: 0.8854\n",
      "Precision: 0.8834\n",
      "Recall: 0.8854\n",
      "F1-Score: 0.8795\n"
     ]
    },
    {
     "name": "stderr",
     "output_type": "stream",
     "text": [
      "\n"
     ]
    }
   ],
   "source": [
    "from sklearn.metrics import precision_recall_fscore_support, accuracy_score, confusion_matrix\n",
    "import numpy as np\n",
    "model_name = 'microsoft/deberta-base'\n",
    "model = AutoModelForSequenceClassification.from_pretrained(model_name, num_labels = 3)\n",
    "#Load best Model\n",
    "model = model.to(device)\n",
    "model.load_state_dict(torch.load('model_checkpoints/DeBERTa_Restaurant_augmented.bin'))\n",
    "\n",
    "model.eval()\n",
    "# Initialize variables to gather predictions and true labels\n",
    "all_predictions = []\n",
    "all_true_labels = []\n",
    "\n",
    "misclassified_sentences = []\n",
    "correctlyclassified_sentences = []\n",
    "\n",
    "with torch.no_grad():\n",
    "    total_eval_loss = 0\n",
    "    for batch in tqdm(rest_test_dataloader):\n",
    "        b_input_ids = batch[0].to(device)\n",
    "        b_input_mask = batch[1].to(device)\n",
    "        b_labels = batch[2].to(device)\n",
    "        b_original_sentence = batch[3]\n",
    "        #token_type_ids = None\n",
    "        outputs = model(b_input_ids, attention_mask=b_input_mask, labels=b_labels)\n",
    "\n",
    "        loss = outputs.loss\n",
    "        total_eval_loss += loss.item()\n",
    "\n",
    "        logits = outputs.logits.detach().cpu().numpy()\n",
    "        label_ids = b_labels.to('cpu').numpy()\n",
    "        \n",
    "        predictions = np.argmax(logits, axis=1)\n",
    "        for sentence, prediction, actual_label in zip(b_original_sentence, predictions, label_ids):\n",
    "            if prediction != actual_label:\n",
    "                misclassified_sentences.append((sentence, prediction, actual_label))\n",
    "            else:\n",
    "                correctlyclassified_sentences.append((sentence, prediction, actual_label))\n",
    "        \n",
    "        # Store predictions and true labels\n",
    "        all_predictions.extend(predictions.flatten())\n",
    "        all_true_labels.extend(label_ids.flatten())\n",
    "precision, recall, f1_score, _ = precision_recall_fscore_support(all_true_labels, all_predictions, average='weighted')\n",
    "accuracy = accuracy_score(all_true_labels, all_predictions)\n",
    "avg_test_loss = total_eval_loss / len(rest_test_dataloader)\n",
    "\n",
    "conf_matrix_rest = confusion_matrix(all_true_labels, all_predictions)\n",
    "print(f'Accuracy: {accuracy:.4f}')\n",
    "print(f'Precision: {precision:.4f}')\n",
    "print(f'Recall: {recall:.4f}')\n",
    "print(f'F1-Score: {f1_score:.4f}')"
   ]
  },
  {
   "cell_type": "markdown",
   "id": "f1f93e3e",
   "metadata": {},
   "source": [
    "#### Sample sentences from the restaurant dataset "
   ]
  },
  {
   "cell_type": "markdown",
   "id": "da0b4759",
   "metadata": {},
   "source": [
    "##### sentences that were miss classified"
   ]
  },
  {
   "cell_type": "code",
   "execution_count": 63,
   "id": "eace1700",
   "metadata": {},
   "outputs": [
    {
     "name": "stdout",
     "output_type": "stream",
     "text": [
      "quality of food [SEP] the service however is a peg or two below the quality of food horrible bartenders and the clientele for the most part are rowdy loudmouthed commuters this could explain the bad attitudes from the staff getting loaded for an acdc concert or a knicks game\n",
      "Prediction negative | Actual Label positive\n",
      "\n",
      "cake [SEP] the icing made this cake it was fluffy not ultra sweet creamy and light\n",
      "Prediction negative | Actual Label positive\n",
      "\n",
      "sauce [SEP] perfectly al dente pasta not drowned in sauce generous portions\n",
      "Prediction negative | Actual Label neutral\n",
      "\n",
      "dessert pizza [SEP] while theres a decent menu it shouldnt take ten minutes to get your drinks and for a dessert pizza\n",
      "Prediction positive | Actual Label neutral\n",
      "\n",
      "served [SEP] they are served on focacchia bread and are to die for\n",
      "Prediction negative | Actual Label neutral\n",
      "\n",
      "waitress [SEP] when she complained the waitress said sorry\n",
      "Prediction negative | Actual Label neutral\n",
      "\n",
      "french dish [SEP] good place to hang out during the day after shopping or to grab a simple soup or classic french dish over a glass of wine\n",
      "Prediction positive | Actual Label neutral\n",
      "\n",
      "menu [SEP] between my guest and i we sampled at least of the menu and they were all hits\n",
      "Prediction neutral | Actual Label positive\n",
      "\n",
      "fennel flavored Italian sausage [SEP] the lone argentine chorizo appetizer at was a heavy fennel flavored italian sausage like the ones that sell for lb at the store\n",
      "Prediction positive | Actual Label negative\n",
      "\n",
      "argentine chorizo appetizer [SEP] the lone argentine chorizo appetizer at was a heavy fennel flavored italian sausage like the ones that sell for lb at the store\n",
      "Prediction neutral | Actual Label negative\n",
      "\n",
      "dance floor [SEP] we were seated promptly in close proximity to the dance floor\n",
      "Prediction positive | Actual Label neutral\n",
      "\n",
      "food [SEP] yes theyre a bit more expensive then typical but then again so is their food\n",
      "Prediction neutral | Actual Label positive\n",
      "\n",
      "beers [SEP] great beer selection too something like beers\n",
      "Prediction positive | Actual Label neutral\n",
      "\n",
      "taste [SEP] i was pleasently surprised at the taste\n",
      "Prediction negative | Actual Label positive\n",
      "\n",
      "tables [SEP] make more tables perhaps a rooftop bar\n",
      "Prediction positive | Actual Label negative\n",
      "\n",
      "Focacchia bread [SEP] they are served on focacchia bread and are to die for\n",
      "Prediction positive | Actual Label neutral\n",
      "\n",
      "meals [SEP] the absolute worst service ive ever experienced and the food was below average when they actually gave people the meals they ordered\n",
      "Prediction negative | Actual Label neutral\n",
      "\n",
      "brisket [SEP] stick to the items the place does best brisket ribs wings cajun shrimp is good not great\n",
      "Prediction negative | Actual Label positive\n",
      "\n",
      "wings [SEP] stick to the items the place does best brisket ribs wings cajun shrimp is good not great\n",
      "Prediction negative | Actual Label positive\n",
      "\n",
      "new hamburger with special sauce [SEP] new hamburger with special sauce is ok at least better than big mac\n",
      "Prediction neutral | Actual Label positive\n",
      "\n"
     ]
    }
   ],
   "source": [
    "for sentence, prediction, label in misclassified_sentences[:20]:\n",
    "    print(f\"{sentence}\")\n",
    "    print(f\"Prediction {label_encoder.classes_[prediction]} | Actual Label {label_encoder.classes_[label]}\\n\")"
   ]
  },
  {
   "cell_type": "markdown",
   "id": "7feea61e",
   "metadata": {},
   "source": [
    "##### Sentences that are classified correctly"
   ]
  },
  {
   "cell_type": "code",
   "execution_count": 65,
   "id": "27af87fe",
   "metadata": {},
   "outputs": [
    {
     "name": "stdout",
     "output_type": "stream",
     "text": [
      "calamari [SEP] for an appetizer their calamari is a winner\n",
      "Prediction positive | Actual Label positive\n",
      "\n",
      "service [SEP] the service is excellent and always informative without an air\n",
      "Prediction positive | Actual Label positive\n",
      "\n",
      "blue bar area [SEP] dug the blue bar area too\n",
      "Prediction positive | Actual Label positive\n",
      "\n",
      "back patio [SEP] have a mojito and sit in the back patio\n",
      "Prediction positive | Actual Label positive\n",
      "\n",
      "salmon dishes [SEP] i recommend any of their salmon dishes\n",
      "Prediction positive | Actual Label positive\n",
      "\n",
      "slices [SEP] finally let into the store at a time to buy expensive slices from a harried staff\n",
      "Prediction negative | Actual Label negative\n",
      "\n",
      "staff [SEP] finally let into the store at a time to buy expensive slices from a harried staff\n",
      "Prediction negative | Actual Label negative\n",
      "\n",
      "food [SEP] i thought the food isnt cheap at all compared to chinatown\n",
      "Prediction negative | Actual Label negative\n",
      "\n",
      "service [SEP] the service however is a peg or two below the quality of food horrible bartenders and the clientele for the most part are rowdy loudmouthed commuters this could explain the bad attitudes from the staff getting loaded for an acdc concert or a knicks game\n",
      "Prediction negative | Actual Label negative\n",
      "\n",
      "staff [SEP] the service however is a peg or two below the quality of food horrible bartenders and the clientele for the most part are rowdy loudmouthed commuters this could explain the bad attitudes from the staff getting loaded for an acdc concert or a knicks game\n",
      "Prediction negative | Actual Label negative\n",
      "\n",
      "bartenders [SEP] the service however is a peg or two below the quality of food horrible bartenders and the clientele for the most part are rowdy loudmouthed commuters this could explain the bad attitudes from the staff getting loaded for an acdc concert or a knicks game\n",
      "Prediction negative | Actual Label negative\n",
      "\n",
      "clientele [SEP] the service however is a peg or two below the quality of food horrible bartenders and the clientele for the most part are rowdy loudmouthed commuters this could explain the bad attitudes from the staff getting loaded for an acdc concert or a knicks game\n",
      "Prediction negative | Actual Label negative\n",
      "\n",
      "fettucino alfredo [SEP] the fettucino alfredo was amazing\n",
      "Prediction positive | Actual Label positive\n",
      "\n",
      "pasta [SEP] perfectly al dente pasta not drowned in sauce generous portions\n",
      "Prediction positive | Actual Label positive\n",
      "\n",
      "lamb entree [SEP] the comments about fried foods is correct below but the other dishes including the lamb entree and many of the salads avocado shrimp were quite good\n",
      "Prediction positive | Actual Label positive\n",
      "\n",
      "escargot [SEP] not only do they have the best escargot in townthey always try to accomodate our toddler\n",
      "Prediction positive | Actual Label positive\n",
      "\n",
      "food [SEP] however the food and service and dramatically lacking\n",
      "Prediction negative | Actual Label negative\n",
      "\n",
      "service [SEP] however the food and service and dramatically lacking\n",
      "Prediction negative | Actual Label negative\n",
      "\n",
      "sauce [SEP] the sauce is excellent very fresh with dabs of real mozzarella\n",
      "Prediction positive | Actual Label positive\n",
      "\n",
      "pasta [SEP] definitely try the calamari any pasta or even the sliced steak entree\n",
      "Prediction positive | Actual Label positive\n",
      "\n"
     ]
    }
   ],
   "source": [
    "for sentence, prediction, label in correctlyclassified_sentences[:20]:\n",
    "    print(f\"{sentence}\")\n",
    "    print(f\"Prediction {label_encoder.classes_[prediction]} | Actual Label {label_encoder.classes_[label]}\\n\")"
   ]
  },
  {
   "cell_type": "markdown",
   "id": "09cd51fd",
   "metadata": {},
   "source": [
    "## Evaluation Laptop\n",
    "\n",
    "Same as the evaluation for the restaurant dataset above."
   ]
  },
  {
   "cell_type": "code",
   "execution_count": 58,
   "id": "b2f30b7d",
   "metadata": {},
   "outputs": [
    {
     "name": "stderr",
     "output_type": "stream",
     "text": [
      "Some weights of DebertaForSequenceClassification were not initialized from the model checkpoint at microsoft/deberta-base and are newly initialized: ['classifier.bias', 'pooler.dense.weight', 'pooler.dense.bias', 'classifier.weight']\n",
      "You should probably TRAIN this model on a down-stream task to be able to use it for predictions and inference.\n",
      "100%|███████████████████████████████████████████████████████████████████████████████████| 40/40 [00:01<00:00, 29.24it/s]"
     ]
    },
    {
     "name": "stdout",
     "output_type": "stream",
     "text": [
      "Accuracy: 0.8173\n",
      "Precision: 0.8221\n",
      "Recall: 0.8173\n",
      "F1-Score: 0.8171\n"
     ]
    },
    {
     "name": "stderr",
     "output_type": "stream",
     "text": [
      "\n"
     ]
    }
   ],
   "source": [
    "from sklearn.metrics import precision_recall_fscore_support, accuracy_score, confusion_matrix\n",
    "import numpy as np\n",
    "model_name = 'microsoft/deberta-base'\n",
    "model = AutoModelForSequenceClassification.from_pretrained(model_name, num_labels = 3)\n",
    "#Load best Model\n",
    "model = model.to(device)\n",
    "model.load_state_dict(torch.load('model_checkpoints/DeBERTa_Laptop_augmented.bin'))\n",
    "\n",
    "model.eval()\n",
    "# Initialize variables to gather predictions and true labels\n",
    "all_predictions = []\n",
    "all_true_labels = []\n",
    "\n",
    "with torch.no_grad():\n",
    "    total_eval_loss = 0\n",
    "    for batch in tqdm(laptop_test_dataloader):\n",
    "        b_input_ids = batch[0].to(device)\n",
    "        b_input_mask = batch[1].to(device)\n",
    "        b_labels = batch[2].to(device)\n",
    "        #token_type_ids = None\n",
    "        outputs = model(b_input_ids, attention_mask=b_input_mask, labels=b_labels)\n",
    "\n",
    "        loss = outputs.loss\n",
    "        total_eval_loss += loss.item()\n",
    "\n",
    "        logits = outputs.logits.detach().cpu().numpy()\n",
    "        label_ids = b_labels.to('cpu').numpy()\n",
    "\n",
    "        # Store predictions and true labels\n",
    "        all_predictions.extend(np.argmax(logits, axis=1).flatten())\n",
    "        all_true_labels.extend(label_ids.flatten())\n",
    "precision, recall, f1_score, _ = precision_recall_fscore_support(all_true_labels, all_predictions, average='weighted')\n",
    "accuracy = accuracy_score(all_true_labels, all_predictions)\n",
    "avg_test_loss = total_eval_loss / len(laptop_test_dataloader)\n",
    "\n",
    "conf_matrix_laptop = confusion_matrix(all_true_labels, all_predictions)\n",
    "print(f'Accuracy: {accuracy:.4f}')\n",
    "print(f'Precision: {precision:.4f}')\n",
    "print(f'Recall: {recall:.4f}')\n",
    "print(f'F1-Score: {f1_score:.4f}')"
   ]
  },
  {
   "cell_type": "markdown",
   "id": "209ec9dc",
   "metadata": {},
   "source": [
    "#### Further results for each dataset split up for each sentiment."
   ]
  },
  {
   "cell_type": "markdown",
   "id": "c61113c7",
   "metadata": {},
   "source": [
    "##### Confusion matrix"
   ]
  },
  {
   "cell_type": "code",
   "execution_count": 50,
   "id": "9b64b7d3",
   "metadata": {},
   "outputs": [
    {
     "data": {
      "image/png": "[encoded data removed]",
      "text/plain": [
       "<Figure size 1500x500 with 4 Axes>"
      ]
     },
     "metadata": {},
     "output_type": "display_data"
    }
   ],
   "source": [
    "import seaborn as sns\n",
    "import matplotlib.pyplot as plt\n",
    "\n",
    "conf_matrix_rest = conf_matrix_rest.astype('float') / conf_matrix_rest.sum(axis=1)[:, np.newaxis]\n",
    "conf_matrix_laptop = conf_matrix_laptop.astype('float') / conf_matrix_laptop.sum(axis=1)[:, np.newaxis]\n",
    "\n",
    "fig, axs = plt.subplots(1, 2, figsize=(15,5))\n",
    "\n",
    "\n",
    "sns.heatmap(conf_matrix_rest, annot=True, ax=axs[0], xticklabels = [\"Negative\", \"Neutral\", \"Positive\"], yticklabels = [\"Negative\", \"Neutral\", \"Positive\"]\n",
    "           , fmt='.2f', cmap='Blues',)\n",
    "sns.heatmap(conf_matrix_laptop, annot=True, ax=axs[1], xticklabels = [\"Negative\", \"Neutral\", \"Positive\"], yticklabels = [\"Negative\", \"Neutral\", \"Positive\"]\n",
    "           , fmt='.2f', cmap='Blues')\n",
    "axs[0].spines['top'].set_visible=(True)\n",
    "axs[0].spines['right'].set_visible=(True)\n",
    "\n",
    "axs[1].spines['top'].set_visible=(True)\n",
    "axs[1].spines['right'].set_visible=(True)\n",
    "plt.show()"
   ]
  },
  {
   "cell_type": "markdown",
   "id": "63f14153",
   "metadata": {},
   "source": [
    "##### precision, recall, $F_1$score, accuracy for each sentiment."
   ]
  },
  {
   "cell_type": "markdown",
   "id": "66b5673e",
   "metadata": {},
   "source": [
    "###### Resutls for the restaurant dataset"
   ]
  },
  {
   "cell_type": "code",
   "execution_count": 45,
   "id": "f0286a15",
   "metadata": {},
   "outputs": [
    {
     "name": "stdout",
     "output_type": "stream",
     "text": [
      "------------------Negative--------------------\n",
      "Precision Negative: 0.8075117370892019\n",
      "Recall Negative: 0.8775510204081632\n",
      "F1 Score Negative: 0.8410757946210269\n",
      "------------------Neutral--------------------\n",
      "Precision Neutral: 0.8455882352941176\n",
      "Recall Neutral: 0.5867346938775511\n",
      "F1 Score Neutral: 0.6927710843373495\n",
      "------------------Positive--------------------\n",
      "Precision Positive: 0.9140625\n",
      "Recall Positive: 0.9682758620689655\n",
      "F1 Score Positive: 0.9403884795713329\n"
     ]
    }
   ],
   "source": [
    "conf_matrix = conf_matrix_rest\n",
    "# Negative\n",
    "TP = conf_matrix[0,0]\n",
    "FP = sum(conf_matrix[:, 0]) - TP\n",
    "FN = sum(conf_matrix[0, :]) - TP\n",
    "\n",
    "precision = TP / (TP + FP)\n",
    "recall = TP / (TP + FN)\n",
    "f1 = 2 * (precision * recall) / (precision + recall)\n",
    "print(\"------------------Negative--------------------\")\n",
    "print(f\"Precision Negative: {precision}\")\n",
    "print(f\"Recall Negative: {recall}\")\n",
    "print(f\"F1 Score Negative: {f1}\")\n",
    "\n",
    "# Neutral\n",
    "TP = conf_matrix[1,1]\n",
    "FP = sum(conf_matrix[:, 1]) - TP\n",
    "FN = sum(conf_matrix[1, :]) - TP\n",
    "\n",
    "precision = TP / (TP + FP)\n",
    "recall = TP / (TP + FN)\n",
    "f1 = 2 * (precision * recall) / (precision + recall)\n",
    "print(\"------------------Neutral--------------------\")\n",
    "print(f\"Precision Neutral: {precision}\")\n",
    "print(f\"Recall Neutral: {recall}\")\n",
    "print(f\"F1 Score Neutral: {f1}\")\n",
    "\n",
    "# Positive\n",
    "TP = conf_matrix[2,2]\n",
    "FP = sum(conf_matrix[:, 2]) - TP\n",
    "FN = sum(conf_matrix[2, :]) - TP\n",
    "\n",
    "precision = TP / (TP + FP)\n",
    "recall = TP / (TP + FN)\n",
    "f1 = 2 * (precision * recall) / (precision + recall)\n",
    "print(\"------------------Positive--------------------\")\n",
    "print(f\"Precision Positive: {precision}\")\n",
    "print(f\"Recall Positive: {recall}\")\n",
    "print(f\"F1 Score Positive: {f1}\")"
   ]
  },
  {
   "cell_type": "markdown",
   "id": "80efca8e",
   "metadata": {},
   "source": [
    "###### results for the laptop dataset"
   ]
  },
  {
   "cell_type": "code",
   "execution_count": 46,
   "id": "2ca277b3",
   "metadata": {},
   "outputs": [
    {
     "name": "stdout",
     "output_type": "stream",
     "text": [
      "------------------Negative--------------------\n",
      "Precision Negative: 0.7006369426751592\n",
      "Recall Negative: 0.873015873015873\n",
      "F1 Score Negative: 0.7773851590106008\n",
      "------------------Neutral--------------------\n",
      "Precision Neutral: 0.7266666666666667\n",
      "Recall Neutral: 0.6449704142011834\n",
      "F1 Score Neutral: 0.6833855799373041\n",
      "------------------Positive--------------------\n",
      "Precision Positive: 0.9146341463414634\n",
      "Recall Positive: 0.8823529411764706\n",
      "F1 Score Positive: 0.8982035928143712\n"
     ]
    }
   ],
   "source": [
    "conf_matrix = conf_matrix_laptop\n",
    "# Negative\n",
    "TP = conf_matrix[0,0]\n",
    "FP = sum(conf_matrix[:, 0]) - TP\n",
    "FN = sum(conf_matrix[0, :]) - TP\n",
    "\n",
    "precision = TP / (TP + FP)\n",
    "recall = TP / (TP + FN)\n",
    "f1 = 2 * (precision * recall) / (precision + recall)\n",
    "print(\"------------------Negative--------------------\")\n",
    "print(f\"Precision Negative: {precision}\")\n",
    "print(f\"Recall Negative: {recall}\")\n",
    "print(f\"F1 Score Negative: {f1}\")\n",
    "\n",
    "# Neutral\n",
    "TP = conf_matrix[1,1]\n",
    "FP = sum(conf_matrix[:, 1]) - TP\n",
    "FN = sum(conf_matrix[1, :]) - TP\n",
    "\n",
    "precision = TP / (TP + FP)\n",
    "recall = TP / (TP + FN)\n",
    "f1 = 2 * (precision * recall) / (precision + recall)\n",
    "print(\"------------------Neutral--------------------\")\n",
    "print(f\"Precision Neutral: {precision}\")\n",
    "print(f\"Recall Neutral: {recall}\")\n",
    "print(f\"F1 Score Neutral: {f1}\")\n",
    "\n",
    "# Positive\n",
    "TP = conf_matrix[2,2]\n",
    "FP = sum(conf_matrix[:, 2]) - TP\n",
    "FN = sum(conf_matrix[2, :]) - TP\n",
    "\n",
    "precision = TP / (TP + FP)\n",
    "recall = TP / (TP + FN)\n",
    "f1 = 2 * (precision * recall) / (precision + recall)\n",
    "print(\"------------------Positive--------------------\")\n",
    "print(f\"Precision Positive: {precision}\")\n",
    "print(f\"Recall Positive: {recall}\")\n",
    "print(f\"F1 Score Positive: {f1}\")"
   ]
  }
 ],
 "metadata": {
  "kernelspec": {
   "display_name": "Python 3 (ipykernel)",
   "language": "python",
   "name": "python3"
  },
  "language_info": {
   "codemirror_mode": {
    "name": "ipython",
    "version": 3
   },
   "file_extension": ".py",
   "mimetype": "text/x-python",
   "name": "python",
   "nbconvert_exporter": "python",
   "pygments_lexer": "ipython3",
   "version": "3.9.12"
  }
 },
 "nbformat": 4,
 "nbformat_minor": 5
}
