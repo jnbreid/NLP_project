{
 "cells": [
  {
   "cell_type": "code",
   "execution_count": 1,
   "id": "17f10d51",
   "metadata": {},
   "outputs": [],
   "source": [
    "#import dataset_utils\n",
    "#import preprocessing_utils\n",
    "from tqdm import tqdm"
   ]
  },
  {
   "cell_type": "code",
   "execution_count": 2,
   "id": "2c6723b8",
   "metadata": {},
   "outputs": [],
   "source": [
    "import json\n",
    "import pandas as pd"
   ]
  },
  {
   "cell_type": "markdown",
   "id": "f373e377",
   "metadata": {},
   "source": [
    "### Load Datasets"
   ]
  },
  {
   "cell_type": "code",
   "execution_count": 3,
   "id": "3d2356b1",
   "metadata": {},
   "outputs": [],
   "source": [
    "def load_dataset(split={\"train\", \"test\", \"dev\"}, domain={\"rest\", \"laptop\"}):\n",
    "    with open(f'asc/{domain}/{split}.json', 'r') as file:\n",
    "        dataset = json.load(file)\n",
    "    return list(dataset.values())"
   ]
  },
  {
   "cell_type": "code",
   "execution_count": 4,
   "id": "53701c89",
   "metadata": {},
   "outputs": [],
   "source": [
    "import random\n",
    "def print_random_element(dataset):\n",
    "    random_element = random.choice(dataset)\n",
    "    print(random_element)"
   ]
  },
  {
   "cell_type": "code",
   "execution_count": 5,
   "id": "e8b9a704",
   "metadata": {},
   "outputs": [],
   "source": [
    "rest_train = load_dataset(split=\"train\", domain=\"rest\") + load_dataset(split=\"dev\", domain = \"rest\")\n",
    "rest_test = load_dataset(split=\"test\", domain=\"rest\")\n",
    "laptop_train = load_dataset(split=\"train\", domain=\"laptop\") + load_dataset(split=\"dev\", domain = \"laptop\")\n",
    "laptop_test = load_dataset(split=\"test\", domain=\"laptop\")"
   ]
  },
  {
   "cell_type": "code",
   "execution_count": 6,
   "id": "76a61936",
   "metadata": {},
   "outputs": [
    {
     "name": "stdout",
     "output_type": "stream",
     "text": [
      "{'polarity': 'positive', 'term': 'staff', 'id': '2170_0', 'sentence': 'The staff is no nonsense.'}\n"
     ]
    }
   ],
   "source": [
    "print_random_element(rest_train)"
   ]
  },
  {
   "cell_type": "markdown",
   "id": "34171543",
   "metadata": {},
   "source": [
    "### Preprocess "
   ]
  },
  {
   "cell_type": "code",
   "execution_count": 7,
   "id": "aa60b356",
   "metadata": {},
   "outputs": [],
   "source": [
    "import re\n",
    "import string\n",
    "\n",
    "def clean_text(text):\n",
    "    \"\"\"\n",
    "    Function to clean text data.\n",
    "    :param text: The input string containing the text to be cleaned.\n",
    "    :return: Cleaned text.\n",
    "    \"\"\"\n",
    "\n",
    "    # Convert text to lowercase\n",
    "    text = text.lower()\n",
    "\n",
    "    # Remove punctuation\n",
    "    text = text.translate(str.maketrans('', '', string.punctuation))\n",
    "\n",
    "    # Remove numbers\n",
    "    text = re.sub(r'\\d+', '', text)\n",
    "\n",
    "    # Remove extra whitespaces\n",
    "    text = text.strip()\n",
    "    text = re.sub(r'\\s+', ' ', text)\n",
    "\n",
    "    return text"
   ]
  },
  {
   "cell_type": "code",
   "execution_count": 8,
   "id": "aaaa4b67",
   "metadata": {},
   "outputs": [
    {
     "name": "stderr",
     "output_type": "stream",
     "text": [
      "[nltk_data] Downloading package punkt to\n",
      "[nltk_data]     /home/user/welzs0/nltk_data...\n",
      "[nltk_data]   Package punkt is already up-to-date!\n",
      "[nltk_data] Downloading package wordnet to\n",
      "[nltk_data]     /home/user/welzs0/nltk_data...\n",
      "[nltk_data]   Package wordnet is already up-to-date!\n",
      "[nltk_data] Downloading package averaged_perceptron_tagger to\n",
      "[nltk_data]     /home/user/welzs0/nltk_data...\n",
      "[nltk_data]   Package averaged_perceptron_tagger is already up-to-\n",
      "[nltk_data]       date!\n"
     ]
    },
    {
     "data": {
      "text/plain": [
       "True"
      ]
     },
     "execution_count": 8,
     "metadata": {},
     "output_type": "execute_result"
    }
   ],
   "source": [
    "import nltk\n",
    "nltk.download('punkt')\n",
    "nltk.download('wordnet')\n",
    "nltk.download('averaged_perceptron_tagger')"
   ]
  },
  {
   "cell_type": "code",
   "execution_count": 9,
   "id": "c430aa1a",
   "metadata": {},
   "outputs": [],
   "source": [
    "from nltk.tokenize import word_tokenize\n",
    "from nltk.stem import WordNetLemmatizer\n",
    "from nltk.corpus import wordnet\n",
    "\n",
    "def get_wordnet_pos(word):\n",
    "    \"\"\"\n",
    "    Map POS tag to the first character lemmatize() accepts.\n",
    "    \"\"\"\n",
    "    tag = nltk.pos_tag([word])[0][1][0].upper()\n",
    "    tag_dict = {\"J\": wordnet.ADJ,\n",
    "                \"N\": wordnet.NOUN,\n",
    "                \"V\": wordnet.VERB,\n",
    "                \"R\": wordnet.ADV}\n",
    "\n",
    "    return tag_dict.get(tag, wordnet.NOUN)\n",
    "\n",
    "def tokenize_and_lemmatize(text):\n",
    "    \"\"\"\n",
    "    Function to tokenize and lemmatize the input text.\n",
    "    :param text: The input string containing the text to be processed.\n",
    "    :return: A list of lemmatized tokens.\n",
    "    \"\"\"\n",
    "    lemmatizer = WordNetLemmatizer()\n",
    "    tokenized_text = word_tokenize(text)\n",
    "    lemmatized_text = [lemmatizer.lemmatize(w, get_wordnet_pos(w)) for w in tokenized_text]\n",
    "    return lemmatized_text\n"
   ]
  },
  {
   "cell_type": "code",
   "execution_count": 10,
   "id": "5e95c808",
   "metadata": {},
   "outputs": [],
   "source": [
    "def preprocess_text(text):\n",
    "    cleaned_text = clean_text(text)\n",
    "    preprocessed_text = tokenize_and_lemmatize(cleaned_text)\n",
    "    \n",
    "    return preprocessed_text"
   ]
  },
  {
   "cell_type": "code",
   "execution_count": 11,
   "id": "67f3c123",
   "metadata": {},
   "outputs": [],
   "source": [
    "def clean_dataset(dataset):\n",
    "    for element in tqdm(dataset, desc=\"Processing Text\"):\n",
    "        element['sentence'] = clean_text(element['sentence'])"
   ]
  },
  {
   "cell_type": "code",
   "execution_count": 12,
   "id": "b23e75b9",
   "metadata": {},
   "outputs": [],
   "source": [
    "def preprocess_dataset(dataset):\n",
    "    for element in tqdm(dataset, desc=\"Processing Text\"):\n",
    "        element['sentence'] = preprocess_text(element['sentence'])"
   ]
  },
  {
   "cell_type": "code",
   "execution_count": 13,
   "id": "e23974b9",
   "metadata": {},
   "outputs": [
    {
     "name": "stderr",
     "output_type": "stream",
     "text": [
      "Processing Text: 100%|█████████████████████████████████████████████████████████████| 3602/3602 [00:05<00:00, 654.21it/s]\n",
      "Processing Text: 100%|█████████████████████████████████████████████████████████████| 2313/2313 [00:03<00:00, 753.14it/s]\n",
      "Processing Text: 100%|█████████████████████████████████████████████████████████████| 1120/1120 [00:01<00:00, 861.90it/s]\n",
      "Processing Text: 100%|███████████████████████████████████████████████████████████████| 638/638 [00:00<00:00, 891.32it/s]\n"
     ]
    }
   ],
   "source": [
    "preprocess_dataset(rest_train)\n",
    "preprocess_dataset(laptop_train)\n",
    "preprocess_dataset(rest_test)\n",
    "preprocess_dataset(laptop_test)"
   ]
  },
  {
   "cell_type": "code",
   "execution_count": 14,
   "id": "56fd786a",
   "metadata": {},
   "outputs": [
    {
     "name": "stdout",
     "output_type": "stream",
     "text": [
      "{'polarity': 'positive', 'term': 'server', 'id': '1592_0', 'sentence': ['our', 'server', 'be', 'very', 'helpful', 'and', 'friendly']}\n"
     ]
    }
   ],
   "source": [
    "print(rest_train[0])"
   ]
  },
  {
   "cell_type": "markdown",
   "id": "32d9eafe",
   "metadata": {},
   "source": [
    "### TFIDF with Logistic Regression"
   ]
  },
  {
   "cell_type": "code",
   "execution_count": 22,
   "id": "8f86f82b",
   "metadata": {},
   "outputs": [],
   "source": [
    "rest_train_sentences = [\" \".join(item['sentence']) for item in rest_train]\n",
    "rest_train_polarities = [item['polarity'] for item in rest_train]\n",
    "\n",
    "rest_test_sentences = [\" \".join(item['sentence']) for item in rest_test]\n",
    "rest_test_polarities = [item['polarity'] for item in rest_test]"
   ]
  },
  {
   "cell_type": "code",
   "execution_count": 46,
   "id": "668e8901",
   "metadata": {},
   "outputs": [],
   "source": [
    "laptop_train_sentences = [\" \".join(item['sentence']) for item in laptop_train]\n",
    "laptop_train_polarities = [item['polarity'] for item in laptop_train]\n",
    "\n",
    "laptop_test_sentences = [\" \".join(item['sentence']) for item in laptop_test]\n",
    "laptop_test_polarities = [item['polarity'] for item in laptop_test]"
   ]
  },
  {
   "cell_type": "markdown",
   "id": "da819779",
   "metadata": {},
   "source": [
    "Use Tfidf vectorizer to encode sentences."
   ]
  },
  {
   "cell_type": "code",
   "execution_count": 47,
   "id": "98353542",
   "metadata": {},
   "outputs": [],
   "source": [
    "from sklearn.feature_extraction.text import TfidfVectorizer\n",
    "\n",
    "# Assuming 'sentences' is a list of text data (your reviews)\n",
    "tfidf_vectorizer = TfidfVectorizer()\n",
    "\n",
    "all_sentences = laptop_test_sentences + laptop_test_sentences\n",
    "tfidf_vectorizer.fit(all_sentences)\n",
    "X_train = tfidf_vectorizer.transform(laptop_train_sentences)\n",
    "X_test = tfidf_vectorizer.transform(laptop_test_sentences)"
   ]
  },
  {
   "cell_type": "code",
   "execution_count": 48,
   "id": "a36da3ec",
   "metadata": {},
   "outputs": [],
   "source": [
    "from sklearn.preprocessing import LabelEncoder\n",
    "\n",
    "label_encoder = LabelEncoder()\n",
    "y_train = label_encoder.fit_transform(laptop_train_polarities)\n",
    "y_test = label_encoder.transform(laptop_test_polarities)"
   ]
  },
  {
   "cell_type": "markdown",
   "id": "fcb7f98b",
   "metadata": {},
   "source": [
    "Use Logistic regression to classify the sentiments. To use a SVM simply replace logistic regression by SVM from sklearn.svm.SVC in the cell below."
   ]
  },
  {
   "cell_type": "code",
   "execution_count": 50,
   "id": "83bf4686",
   "metadata": {},
   "outputs": [
    {
     "data": {
      "text/html": [
       "<style>#sk-container-id-5 {color: black;}#sk-container-id-5 pre{padding: 0;}#sk-container-id-5 div.sk-toggleable {background-color: white;}#sk-container-id-5 label.sk-toggleable__label {cursor: pointer;display: block;width: 100%;margin-bottom: 0;padding: 0.3em;box-sizing: border-box;text-align: center;}#sk-container-id-5 label.sk-toggleable__label-arrow:before {content: \"▸\";float: left;margin-right: 0.25em;color: #696969;}#sk-container-id-5 label.sk-toggleable__label-arrow:hover:before {color: black;}#sk-container-id-5 div.sk-estimator:hover label.sk-toggleable__label-arrow:before {color: black;}#sk-container-id-5 div.sk-toggleable__content {max-height: 0;max-width: 0;overflow: hidden;text-align: left;background-color: #f0f8ff;}#sk-container-id-5 div.sk-toggleable__content pre {margin: 0.2em;color: black;border-radius: 0.25em;background-color: #f0f8ff;}#sk-container-id-5 input.sk-toggleable__control:checked~div.sk-toggleable__content {max-height: 200px;max-width: 100%;overflow: auto;}#sk-container-id-5 input.sk-toggleable__control:checked~label.sk-toggleable__label-arrow:before {content: \"▾\";}#sk-container-id-5 div.sk-estimator input.sk-toggleable__control:checked~label.sk-toggleable__label {background-color: #d4ebff;}#sk-container-id-5 div.sk-label input.sk-toggleable__control:checked~label.sk-toggleable__label {background-color: #d4ebff;}#sk-container-id-5 input.sk-hidden--visually {border: 0;clip: rect(1px 1px 1px 1px);clip: rect(1px, 1px, 1px, 1px);height: 1px;margin: -1px;overflow: hidden;padding: 0;position: absolute;width: 1px;}#sk-container-id-5 div.sk-estimator {font-family: monospace;background-color: #f0f8ff;border: 1px dotted black;border-radius: 0.25em;box-sizing: border-box;margin-bottom: 0.5em;}#sk-container-id-5 div.sk-estimator:hover {background-color: #d4ebff;}#sk-container-id-5 div.sk-parallel-item::after {content: \"\";width: 100%;border-bottom: 1px solid gray;flex-grow: 1;}#sk-container-id-5 div.sk-label:hover label.sk-toggleable__label {background-color: #d4ebff;}#sk-container-id-5 div.sk-serial::before {content: \"\";position: absolute;border-left: 1px solid gray;box-sizing: border-box;top: 0;bottom: 0;left: 50%;z-index: 0;}#sk-container-id-5 div.sk-serial {display: flex;flex-direction: column;align-items: center;background-color: white;padding-right: 0.2em;padding-left: 0.2em;position: relative;}#sk-container-id-5 div.sk-item {position: relative;z-index: 1;}#sk-container-id-5 div.sk-parallel {display: flex;align-items: stretch;justify-content: center;background-color: white;position: relative;}#sk-container-id-5 div.sk-item::before, #sk-container-id-5 div.sk-parallel-item::before {content: \"\";position: absolute;border-left: 1px solid gray;box-sizing: border-box;top: 0;bottom: 0;left: 50%;z-index: -1;}#sk-container-id-5 div.sk-parallel-item {display: flex;flex-direction: column;z-index: 1;position: relative;background-color: white;}#sk-container-id-5 div.sk-parallel-item:first-child::after {align-self: flex-end;width: 50%;}#sk-container-id-5 div.sk-parallel-item:last-child::after {align-self: flex-start;width: 50%;}#sk-container-id-5 div.sk-parallel-item:only-child::after {width: 0;}#sk-container-id-5 div.sk-dashed-wrapped {border: 1px dashed gray;margin: 0 0.4em 0.5em 0.4em;box-sizing: border-box;padding-bottom: 0.4em;background-color: white;}#sk-container-id-5 div.sk-label label {font-family: monospace;font-weight: bold;display: inline-block;line-height: 1.2em;}#sk-container-id-5 div.sk-label-container {text-align: center;}#sk-container-id-5 div.sk-container {/* jupyter's `normalize.less` sets `[hidden] { display: none; }` but bootstrap.min.css set `[hidden] { display: none !important; }` so we also need the `!important` here to be able to override the default hidden behavior on the sphinx rendered scikit-learn.org. See: https://github.com/scikit-learn/scikit-learn/issues/21755 */display: inline-block !important;position: relative;}#sk-container-id-5 div.sk-text-repr-fallback {display: none;}</style><div id=\"sk-container-id-5\" class=\"sk-top-container\"><div class=\"sk-text-repr-fallback\"><pre>LogisticRegression(max_iter=1000)</pre><b>In a Jupyter environment, please rerun this cell to show the HTML representation or trust the notebook. <br />On GitHub, the HTML representation is unable to render, please try loading this page with nbviewer.org.</b></div><div class=\"sk-container\" hidden><div class=\"sk-item\"><div class=\"sk-estimator sk-toggleable\"><input class=\"sk-toggleable__control sk-hidden--visually\" id=\"sk-estimator-id-5\" type=\"checkbox\" checked><label for=\"sk-estimator-id-5\" class=\"sk-toggleable__label sk-toggleable__label-arrow\">LogisticRegression</label><div class=\"sk-toggleable__content\"><pre>LogisticRegression(max_iter=1000)</pre></div></div></div></div></div>"
      ],
      "text/plain": [
       "LogisticRegression(max_iter=1000)"
      ]
     },
     "execution_count": 50,
     "metadata": {},
     "output_type": "execute_result"
    }
   ],
   "source": [
    "from sklearn.linear_model import LogisticRegression\n",
    "\n",
    "# Example: Training a Logistic Regression model\n",
    "log_reg_model = LogisticRegression(solver='lbfgs', max_iter=1000)\n",
    "log_reg_model.fit(X_train, y_train)"
   ]
  },
  {
   "cell_type": "code",
   "execution_count": 51,
   "id": "366dd5ae",
   "metadata": {},
   "outputs": [],
   "source": [
    "# Predict on test data\n",
    "y_pred = log_reg_model.predict(X_test)"
   ]
  },
  {
   "cell_type": "code",
   "execution_count": 52,
   "id": "0c2e2d99",
   "metadata": {},
   "outputs": [
    {
     "name": "stdout",
     "output_type": "stream",
     "text": [
      "              precision    recall  f1-score   support\n",
      "\n",
      "    negative       0.43      0.70      0.53       128\n",
      "     neutral       0.63      0.20      0.30       169\n",
      "    positive       0.76      0.85      0.80       341\n",
      "\n",
      "    accuracy                           0.65       638\n",
      "   macro avg       0.61      0.58      0.55       638\n",
      "weighted avg       0.66      0.65      0.62       638\n",
      "\n"
     ]
    }
   ],
   "source": [
    "from sklearn.metrics import classification_report\n",
    "\n",
    "print(classification_report(y_test, y_pred, target_names=label_encoder.classes_))"
   ]
  }
 ],
 "metadata": {
  "kernelspec": {
   "display_name": "Python 3 (ipykernel)",
   "language": "python",
   "name": "python3"
  },
  "language_info": {
   "codemirror_mode": {
    "name": "ipython",
    "version": 3
   },
   "file_extension": ".py",
   "mimetype": "text/x-python",
   "name": "python",
   "nbconvert_exporter": "python",
   "pygments_lexer": "ipython3",
   "version": "3.9.12"
  }
 },
 "nbformat": 4,
 "nbformat_minor": 5
}
