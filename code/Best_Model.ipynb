{
 "cells": [
  {
   "cell_type": "markdown",
   "id": "7abe4673",
   "metadata": {},
   "source": [
    "Restaurant:\n",
    "lr 1e-5\n",
    "- Without Augmentation 85 %\n",
    "- With Augmentation 88% (Dataset_Augmented/DeBERTa_Restaurant_Augmented) ReduceOnPlateau patience =3 factor = 0.1\n",
    "\n",
    "Laptop:\n",
    "lr = 2e-5\n",
    "- Without Augmentation:  \n",
    "- With Augmentation: 81.73% (Exponential Scheduler gamme = 0.9)"
   ]
  },
  {
   "cell_type": "code",
   "execution_count": 1,
   "id": "ff0f9354",
   "metadata": {},
   "outputs": [],
   "source": [
    "import torch\n",
    "from tqdm import tqdm"
   ]
  },
  {
   "cell_type": "code",
   "execution_count": 2,
   "id": "09c92dcd",
   "metadata": {},
   "outputs": [],
   "source": [
    "import json\n",
    "import pandas as pd"
   ]
  },
  {
   "cell_type": "code",
   "execution_count": 3,
   "id": "b367a83f",
   "metadata": {},
   "outputs": [
    {
     "data": {
      "text/plain": [
       "'cuda'"
      ]
     },
     "execution_count": 3,
     "metadata": {},
     "output_type": "execute_result"
    }
   ],
   "source": [
    "device = \"cuda\" if torch.cuda.is_available() else \"cpu\"\n",
    "device"
   ]
  },
  {
   "cell_type": "code",
   "execution_count": 4,
   "id": "1c27cacc",
   "metadata": {},
   "outputs": [
    {
     "name": "stdout",
     "output_type": "stream",
     "text": [
      "Mon Jan 29 15:02:59 2024       \r\n",
      "+---------------------------------------------------------------------------------------+\r\n",
      "| NVIDIA-SMI 535.54.03              Driver Version: 535.54.03    CUDA Version: 12.2     |\r\n",
      "|-----------------------------------------+----------------------+----------------------+\r\n",
      "| GPU  Name                 Persistence-M | Bus-Id        Disp.A | Volatile Uncorr. ECC |\r\n",
      "| Fan  Temp   Perf          Pwr:Usage/Cap |         Memory-Usage | GPU-Util  Compute M. |\r\n",
      "|                                         |                      |               MIG M. |\r\n",
      "|=========================================+======================+======================|\r\n",
      "|   0  NVIDIA GeForce RTX 3090        Off | 00000000:01:00.0 Off |                  N/A |\r\n",
      "| 33%   34C    P5              63W / 350W |   2940MiB / 24576MiB |      0%      Default |\r\n",
      "|                                         |                      |                  N/A |\r\n",
      "+-----------------------------------------+----------------------+----------------------+\r\n",
      "                                                                                         \r\n",
      "+---------------------------------------------------------------------------------------+\r\n",
      "| Processes:                                                                            |\r\n",
      "|  GPU   GI   CI        PID   Type   Process name                            GPU Memory |\r\n",
      "|        ID   ID                                                             Usage      |\r\n",
      "|=======================================================================================|\r\n",
      "|    0   N/A  N/A    302112      C   .../deylamipourm0/anaconda3/bin/python     2100MiB |\r\n",
      "|    0   N/A  N/A   1280115      G   /usr/lib/xorg/Xorg                          468MiB |\r\n",
      "|    0   N/A  N/A   2776418      G   /usr/bin/kwin_x11                            96MiB |\r\n",
      "|    0   N/A  N/A   2776430      G   /usr/bin/plasmashell                         68MiB |\r\n",
      "|    0   N/A  N/A   2795562      G   ...nux-gnu/libexec/kscreenlocker_greet      175MiB |\r\n",
      "+---------------------------------------------------------------------------------------+\r\n"
     ]
    }
   ],
   "source": [
    "!nvidia-smi"
   ]
  },
  {
   "cell_type": "markdown",
   "id": "12ca3ad7",
   "metadata": {},
   "source": [
    "## Load Datasets"
   ]
  },
  {
   "cell_type": "code",
   "execution_count": 5,
   "id": "1676d627",
   "metadata": {},
   "outputs": [],
   "source": [
    "def load_dataset(split={\"train\", \"test\", \"dev\"}, domain={\"rest\", \"laptop\"}):\n",
    "    with open(f'asc/{domain}/{split}.json', 'r') as file:\n",
    "        dataset = json.load(file)\n",
    "    return list(dataset.values())"
   ]
  },
  {
   "cell_type": "code",
   "execution_count": 6,
   "id": "b944fcd3",
   "metadata": {},
   "outputs": [],
   "source": [
    "rest_train = load_dataset(split=\"train\", domain=\"rest\") + load_dataset(split=\"dev\", domain = \"rest\")\n",
    "rest_test = load_dataset(split=\"test\", domain=\"rest\")\n",
    "laptop_train = load_dataset(split=\"train\", domain=\"laptop\") + load_dataset(split=\"dev\", domain = \"laptop\")\n",
    "laptop_test = load_dataset(split=\"test\", domain=\"laptop\")"
   ]
  },
  {
   "cell_type": "markdown",
   "id": "4b058654",
   "metadata": {},
   "source": [
    "## Preprocess"
   ]
  },
  {
   "cell_type": "code",
   "execution_count": 7,
   "id": "431be80e",
   "metadata": {},
   "outputs": [],
   "source": [
    "import re\n",
    "import string\n",
    "\n",
    "def clean_text(text):\n",
    "    \"\"\"\n",
    "    Function to clean text data.\n",
    "    :param text: The input string containing the text to be cleaned.\n",
    "    :return: Cleaned text.\n",
    "    \"\"\"\n",
    "\n",
    "    # Convert text to lowercase\n",
    "    text = text.lower()\n",
    "\n",
    "    # Remove punctuation\n",
    "    text = text.translate(str.maketrans('', '', string.punctuation))\n",
    "\n",
    "    # Remove numbers\n",
    "    text = re.sub(r'\\d+', '', text)\n",
    "\n",
    "    # Remove extra whitespaces\n",
    "    text = text.strip()\n",
    "    text = re.sub(r'\\s+', ' ', text)\n",
    "\n",
    "    return text"
   ]
  },
  {
   "cell_type": "code",
   "execution_count": 8,
   "id": "c5fc0d2b",
   "metadata": {},
   "outputs": [],
   "source": [
    "def clean_dataset(dataset):\n",
    "    for element in tqdm(dataset, desc=\"Processing Text\"):\n",
    "        element['sentence'] = clean_text(element['sentence'])"
   ]
  },
  {
   "cell_type": "code",
   "execution_count": 9,
   "id": "9356d4c6",
   "metadata": {},
   "outputs": [
    {
     "name": "stderr",
     "output_type": "stream",
     "text": [
      "Processing Text: 100%|██████████████████████████████████████████████████████████| 3602/3602 [00:00<00:00, 114088.92it/s]\n",
      "Processing Text: 100%|██████████████████████████████████████████████████████████| 2313/2313 [00:00<00:00, 110862.03it/s]\n",
      "Processing Text: 100%|██████████████████████████████████████████████████████████| 1120/1120 [00:00<00:00, 124390.85it/s]\n",
      "Processing Text: 100%|████████████████████████████████████████████████████████████| 638/638 [00:00<00:00, 126159.35it/s]\n"
     ]
    }
   ],
   "source": [
    "clean_dataset(rest_train)\n",
    "clean_dataset(laptop_train)\n",
    "clean_dataset(rest_test)\n",
    "clean_dataset(laptop_test)"
   ]
  },
  {
   "cell_type": "code",
   "execution_count": 10,
   "id": "0195a102",
   "metadata": {},
   "outputs": [],
   "source": [
    "def remove_duplicates(dataset):\n",
    "    unique_data = []\n",
    "    seen = set()\n",
    "    \n",
    "    for item in dataset:\n",
    "        key = (item['sentence'], item['term'])\n",
    "        if key not in seen:\n",
    "            seen.add(key)\n",
    "            unique_data.append(item)\n",
    "    return unique_data"
   ]
  },
  {
   "cell_type": "code",
   "execution_count": 11,
   "id": "f2c380a7",
   "metadata": {},
   "outputs": [],
   "source": [
    "def check_duplicate(dataset):\n",
    "    seen = set()\n",
    "    for item in dataset:\n",
    "        key = (item['sentence'], item['term'])\n",
    "        if key in seen:\n",
    "            print(key)\n",
    "            return True\n",
    "        seen.add(key)\n",
    "    return False"
   ]
  },
  {
   "cell_type": "code",
   "execution_count": 12,
   "id": "e0b2421d",
   "metadata": {},
   "outputs": [],
   "source": [
    "rest_train = remove_duplicates(rest_train)\n",
    "rest_test = remove_duplicates(rest_test)\n",
    "laptop_train = remove_duplicates(laptop_train)\n",
    "laptop_test = remove_duplicates(laptop_test)"
   ]
  },
  {
   "cell_type": "code",
   "execution_count": 13,
   "id": "1b8ddb25",
   "metadata": {},
   "outputs": [
    {
     "name": "stdout",
     "output_type": "stream",
     "text": [
      "False\n"
     ]
    }
   ],
   "source": [
    "print(check_duplicate(rest_test))"
   ]
  },
  {
   "cell_type": "markdown",
   "id": "2b8e94a6",
   "metadata": {},
   "source": [
    "## Some DataAugmentation for imbalanced classes"
   ]
  },
  {
   "cell_type": "code",
   "execution_count": 14,
   "id": "bf26ad6d",
   "metadata": {},
   "outputs": [],
   "source": [
    "from nlpaug.augmenter.word.synonym import SynonymAug\n",
    "from nlpaug.augmenter.word.back_translation import BackTranslationAug\n",
    "from nlpaug.augmenter.word.random import RandomWordAug\n",
    "from nlpaug.augmenter.word.context_word_embs import ContextualWordEmbsAug\n",
    "import random\n",
    "def augment_dataset(dataset, negative_neutral_polarities = {'negative', 'neutral'}, probabilities = [0.5, 0.25, 0.25]):\n",
    "    aug_syn = SynonymAug()\n",
    "    aug_trans = BackTranslationAug(from_model_name='Helsinki-NLP/opus-mt-en-zh', to_model_name='Helsinki-NLP/opus-mt-zh-en')\n",
    "    aug_word = RandomWordAug(action='swap')\n",
    "    aug_context = ContextualWordEmbsAug(action='insert',model_path='roberta-base')\n",
    "    \n",
    "    augmented_data = []\n",
    "    for item in tqdm(dataset):\n",
    "        if item['polarity'] in negative_neutral_polarities:\n",
    "            sentence = item['sentence']\n",
    "            augmented_sentences = [sentence]\n",
    "            n=random.choice([1,2])\n",
    "            random_number = random.random()\n",
    "            #if random_number <= probabilities[0]:\n",
    "                #augmented_sentences += aug_word.augment(sentence)\n",
    "            #elif random_number <= sum(probabilities[:2]):\n",
    "                #augmented_sentences += aug_syn.augment(sentence, n=n)\n",
    "            #elif random_number <= sum(probabilities[:3]):\n",
    "                #augmented_sentences += aug_context.augment(sentence, n = n)\n",
    "            if random_number <= sum(probabilities):\n",
    "                try:\n",
    "                    augmented_sentences += aug_trans.augment(sentence, n=n)\n",
    "                except Exception as e:\n",
    "                    print(f\"Error in back-translation: {e}\")\n",
    "            for new_sentence in augmented_sentences:\n",
    "                augmented_data.append({\n",
    "                    'polarity': item['polarity'],\n",
    "                    'term': item['term'],\n",
    "                    'id': item['id'],\n",
    "                    'sentence': new_sentence\n",
    "                })\n",
    "        else:\n",
    "            augmented_data.append({\n",
    "                    'polarity': item['polarity'],\n",
    "                    'term': item['term'],\n",
    "                    'id': item['id'],\n",
    "                    'sentence': item['sentence']\n",
    "                })\n",
    "    print(\"Finished Augmentation\")\n",
    "    return augmented_data"
   ]
  },
  {
   "cell_type": "code",
   "execution_count": 15,
   "id": "00945cd6",
   "metadata": {},
   "outputs": [],
   "source": [
    "rest_train_augmented = rest_train#augment_dataset(rest_train, negative_neutral_polarities={'neutral', 'negative'}, probabilities=[0, 0, 0, 1])"
   ]
  },
  {
   "cell_type": "code",
   "execution_count": 16,
   "id": "46197940",
   "metadata": {},
   "outputs": [],
   "source": [
    "laptop_train_augmented = laptop_train#augment_dataset(laptop_train, negative_neutral_polarities={'neutral'}, probabilities=[0, 0, 0, 1])"
   ]
  },
  {
   "cell_type": "code",
   "execution_count": 17,
   "id": "4f93ceaf",
   "metadata": {},
   "outputs": [],
   "source": [
    "import json\n",
    "with open('datasets/rest_train_augmented.json', 'r') as file:\n",
    "    rest_train_augmented = json.load(file)"
   ]
  },
  {
   "cell_type": "code",
   "execution_count": 18,
   "id": "091a2a9a",
   "metadata": {},
   "outputs": [
    {
     "name": "stdout",
     "output_type": "stream",
     "text": [
      "Positive : 2144\n",
      "Negative : 1988\n",
      "Neutral : 1549\n",
      "Total: 5681\n"
     ]
    }
   ],
   "source": [
    "pos = 0\n",
    "neg = 0\n",
    "neu = 0\n",
    "for item in rest_train_augmented:\n",
    "    polarity = item['polarity']\n",
    "    if polarity == 'positive':\n",
    "        pos += 1\n",
    "    elif polarity == 'negative':\n",
    "        neg += 1\n",
    "    elif polarity == 'neutral':\n",
    "        neu += 1\n",
    "print(f\"Positive : {pos}\")\n",
    "print(f\"Negative : {neg}\")\n",
    "print(f\"Neutral : {neu}\")\n",
    "\n",
    "print(f\"Total: {len(rest_train_augmented)}\")"
   ]
  },
  {
   "cell_type": "markdown",
   "id": "27acb552",
   "metadata": {},
   "source": [
    "## Add Aspects"
   ]
  },
  {
   "cell_type": "code",
   "execution_count": 19,
   "id": "73b40d7c",
   "metadata": {},
   "outputs": [],
   "source": [
    "rest_train_sentences = [item['term'] + ' [SEP] ' + item['sentence'] for item in rest_train_augmented]\n",
    "laptop_train_sentences = [item['term'] + ' [SEP] ' + item['sentence'] for item in laptop_train_augmented]\n",
    "\n",
    "rest_test_sentences = [item['term'] + ' [SEP] ' + item['sentence'] for item in rest_test]\n",
    "laptop_test_sentences = [item['term'] + ' [SEP] ' + item['sentence'] for item in laptop_test]"
   ]
  },
  {
   "cell_type": "code",
   "execution_count": 20,
   "id": "a414916d",
   "metadata": {},
   "outputs": [],
   "source": [
    "#rest_train_sentences = [\" \".join(item['sentence']) for item in rest_train]\n",
    "rest_train_polarities = [item['polarity'] for item in rest_train_augmented]\n",
    "\n",
    "#rest_test_sentences = [\" \".join(item['sentence']) for item in rest_test]\n",
    "rest_test_polarities = [item['polarity'] for item in rest_test]\n",
    "\n",
    "\n",
    "#laptop_train_sentences = [\" \".join(item['sentence']) for item in laptop_train]\n",
    "laptop_train_polarities = [item['polarity'] for item in laptop_train_augmented]\n",
    "\n",
    "#laptop_test_sentences = [\" \".join(item['sentence']) for item in laptop_test]\n",
    "laptop_test_polarities = [item['polarity'] for item in laptop_test]"
   ]
  },
  {
   "cell_type": "code",
   "execution_count": 21,
   "id": "b6b284e9",
   "metadata": {},
   "outputs": [
    {
     "name": "stdout",
     "output_type": "stream",
     "text": [
      "selection of wine [SEP] great selection of wine and seafood\n",
      "positive\n"
     ]
    }
   ],
   "source": [
    "import random\n",
    "random_index = random.randint(0, len(rest_train_sentences))\n",
    "random_sentence = rest_train_sentences[random_index]\n",
    "random_polarity = rest_train_polarities[random_index]\n",
    "print(random_sentence)\n",
    "print(random_polarity)"
   ]
  },
  {
   "cell_type": "code",
   "execution_count": 22,
   "id": "6db65393",
   "metadata": {},
   "outputs": [],
   "source": [
    "from sklearn.preprocessing import LabelEncoder\n",
    "\n",
    "label_encoder = LabelEncoder()\n",
    "rest_y_train = label_encoder.fit_transform(rest_train_polarities)\n",
    "rest_y_test = label_encoder.transform(rest_test_polarities)\n",
    "\n",
    "laptop_y_train = label_encoder.fit_transform(laptop_train_polarities)\n",
    "laptop_y_test = label_encoder.transform(laptop_test_polarities)"
   ]
  },
  {
   "cell_type": "markdown",
   "id": "1705b510",
   "metadata": {},
   "source": [
    "## Define Model (Deberta)"
   ]
  },
  {
   "cell_type": "code",
   "execution_count": 23,
   "id": "d27f1c08",
   "metadata": {},
   "outputs": [
    {
     "name": "stdout",
     "output_type": "stream",
     "text": [
      "['service', 'Ġ', '[SEP]', 'Ġservice', 'Ġwas', 'Ġgreat']\n"
     ]
    }
   ],
   "source": [
    "from transformers import DebertaTokenizer\n",
    "\n",
    "sentence = \"service [SEP] service was great\"\n",
    "# Load the DeBERTa tokenizer\n",
    "tokenizer = DebertaTokenizer.from_pretrained('microsoft/deberta-base')\n",
    "\n",
    "tokenized_output = tokenizer.tokenize(sentence)\n",
    "\n",
    "#encoded_input = tokenizer.encode(sentence, add_special_tokens=True)\n",
    "\n",
    "print(tokenized_output)"
   ]
  },
  {
   "cell_type": "code",
   "execution_count": 24,
   "id": "257caae4",
   "metadata": {},
   "outputs": [],
   "source": [
    "from transformers import DebertaV2Config, DebertaV2ForSequenceClassification, DebertaV2Tokenizer\n",
    "from transformers import DebertaForSequenceClassification, DebertaTokenizer\n",
    "from transformers import DistilBertTokenizer, DistilBertForSequenceClassification\n",
    "from transformers import AutoTokenizer, AutoModelForSequenceClassification\n",
    "import torch\n",
    "from torch.utils.data import DataLoader, RandomSampler, SequentialSampler, TensorDataset\n",
    "\n",
    "model_name = 'microsoft/deberta-base'\n",
    "# Load the BERT tokenizer\n",
    "tokenizer = AutoTokenizer.from_pretrained(model_name)\n",
    "\n",
    "def encode_sentences(sentences, max_length=128):\n",
    "    input_ids = []\n",
    "    attention_masks = []\n",
    "\n",
    "    for sentence in sentences:\n",
    "        encoded_dict = tokenizer.encode_plus(\n",
    "                            sentence,                      # Sentence to encode\n",
    "                            add_special_tokens=True,       # Add '[CLS]' and '[SEP]'\n",
    "                            max_length=max_length,         # Pad & truncate all sentences\n",
    "                            padding='max_length',          # Pad all sentences to max length\n",
    "                            truncation=True,               # Explicitly truncate to max length\n",
    "                            return_attention_mask=True,    # Construct attention masks\n",
    "                            return_tensors='pt',           # Return pytorch tensors\n",
    "                        )\n",
    "        \n",
    "        input_ids.append(encoded_dict['input_ids'])\n",
    "        attention_masks.append(encoded_dict['attention_mask'])\n",
    "    return torch.cat(input_ids, dim=0), torch.cat(attention_masks, dim=0)\n",
    "\n",
    "\n",
    "# Encode the sentences (X_train and X_test)\n",
    "rest_train_inputs, rest_train_masks = encode_sentences(rest_train_sentences)\n",
    "rest_test_inputs, rest_test_masks = encode_sentences(rest_test_sentences)\n",
    "\n",
    "laptop_train_inputs, laptop_train_masks = encode_sentences(laptop_train_sentences)\n",
    "laptop_test_inputs, laptop_test_masks = encode_sentences(laptop_test_sentences)"
   ]
  },
  {
   "cell_type": "code",
   "execution_count": 25,
   "id": "d87d34d4",
   "metadata": {},
   "outputs": [
    {
     "name": "stdout",
     "output_type": "stream",
     "text": [
      "5681\n",
      "5681\n",
      "5681\n"
     ]
    }
   ],
   "source": [
    "print(len(rest_train_inputs))\n",
    "print(len(rest_train_sentences))\n",
    "print(len(rest_train_masks))"
   ]
  },
  {
   "cell_type": "code",
   "execution_count": 26,
   "id": "52a7b274",
   "metadata": {},
   "outputs": [],
   "source": [
    "rest_train_labels = torch.tensor(rest_y_train)\n",
    "rest_test_labels = torch.tensor(rest_y_test)\n",
    "\n",
    "laptop_train_labels = torch.tensor(laptop_y_train)\n",
    "laptop_test_labels = torch.tensor(laptop_y_test)"
   ]
  },
  {
   "cell_type": "code",
   "execution_count": 27,
   "id": "130dc830",
   "metadata": {},
   "outputs": [],
   "source": [
    "from torch.utils.data import Dataset, DataLoader\n",
    "\n",
    "class MyDataset(Dataset):\n",
    "    def __init__(self, inputs, masks, labels, original_sentences):\n",
    "        self.inputs = inputs\n",
    "        self.masks = masks\n",
    "        self.labels = labels\n",
    "        self.original_sentences = original_sentences\n",
    "\n",
    "    def __len__(self):\n",
    "        return len(self.original_sentences)\n",
    "\n",
    "    def __getitem__(self, idx):\n",
    "        input = self.inputs[idx] \n",
    "        mask = self.masks[idx]\n",
    "        label = self.labels[idx]\n",
    "        original_sentence = self.original_sentences[idx]  # Storing the original sentence\n",
    "        return input, mask, label, original_sentence"
   ]
  },
  {
   "cell_type": "code",
   "execution_count": 28,
   "id": "52dd18ed",
   "metadata": {},
   "outputs": [],
   "source": [
    "from torch.utils.data import TensorDataset, DataLoader, RandomSampler, SequentialSampler\n",
    "\n",
    "batch_size = 16  # Adjust this according to your GPU capacity\n",
    "\n",
    "\n",
    "# Create the DataLoader for our training set\n",
    "rest_train_data = TensorDataset(rest_train_inputs, rest_train_masks, rest_train_labels)\n",
    "rest_train_sampler = RandomSampler(rest_train_data)\n",
    "rest_train_dataloader = DataLoader(rest_train_data, sampler=rest_train_sampler, batch_size=batch_size) \n",
    "\n",
    "# Create the DataLoader for our test set\n",
    "rest_test_data = MyDataset(rest_test_inputs, rest_test_masks, rest_test_labels, rest_test_sentences)\n",
    "rest_test_sampler = SequentialSampler(rest_test_data)\n",
    "rest_test_dataloader = DataLoader(rest_test_data, sampler=rest_test_sampler, batch_size=batch_size)\n",
    "\n",
    "# Create the DataLoader for our training set\n",
    "laptop_train_data = TensorDataset(laptop_train_inputs, laptop_train_masks, laptop_train_labels)\n",
    "laptop_train_sampler = RandomSampler(laptop_train_data)\n",
    "laptop_train_dataloader = DataLoader(laptop_train_data, sampler=laptop_train_sampler, batch_size=batch_size) \n",
    "\n",
    "# Create the DataLoader for our test set\n",
    "laptop_test_data = MyDataset(laptop_test_inputs, laptop_test_masks, laptop_test_labels, laptop_test_sentences)\n",
    "laptop_test_sampler = SequentialSampler(laptop_test_data)\n",
    "laptop_test_dataloader = DataLoader(laptop_test_data, sampler=laptop_test_sampler, batch_size=batch_size)"
   ]
  },
  {
   "cell_type": "code",
   "execution_count": 29,
   "id": "55b6bb5b",
   "metadata": {},
   "outputs": [
    {
     "name": "stderr",
     "output_type": "stream",
     "text": [
      "Some weights of DebertaForSequenceClassification were not initialized from the model checkpoint at microsoft/deberta-base and are newly initialized: ['classifier.weight', 'pooler.dense.bias', 'classifier.bias', 'pooler.dense.weight']\n",
      "You should probably TRAIN this model on a down-stream task to be able to use it for predictions and inference.\n"
     ]
    },
    {
     "data": {
      "text/plain": [
       "DebertaForSequenceClassification(\n",
       "  (deberta): DebertaModel(\n",
       "    (embeddings): DebertaEmbeddings(\n",
       "      (word_embeddings): Embedding(50265, 768, padding_idx=0)\n",
       "      (LayerNorm): DebertaLayerNorm()\n",
       "      (dropout): StableDropout()\n",
       "    )\n",
       "    (encoder): DebertaEncoder(\n",
       "      (layer): ModuleList(\n",
       "        (0): DebertaLayer(\n",
       "          (attention): DebertaAttention(\n",
       "            (self): DisentangledSelfAttention(\n",
       "              (in_proj): Linear(in_features=768, out_features=2304, bias=False)\n",
       "              (pos_dropout): StableDropout()\n",
       "              (pos_proj): Linear(in_features=768, out_features=768, bias=False)\n",
       "              (pos_q_proj): Linear(in_features=768, out_features=768, bias=True)\n",
       "              (dropout): StableDropout()\n",
       "            )\n",
       "            (output): DebertaSelfOutput(\n",
       "              (dense): Linear(in_features=768, out_features=768, bias=True)\n",
       "              (LayerNorm): DebertaLayerNorm()\n",
       "              (dropout): StableDropout()\n",
       "            )\n",
       "          )\n",
       "          (intermediate): DebertaIntermediate(\n",
       "            (dense): Linear(in_features=768, out_features=3072, bias=True)\n",
       "            (intermediate_act_fn): GELUActivation()\n",
       "          )\n",
       "          (output): DebertaOutput(\n",
       "            (dense): Linear(in_features=3072, out_features=768, bias=True)\n",
       "            (LayerNorm): DebertaLayerNorm()\n",
       "            (dropout): StableDropout()\n",
       "          )\n",
       "        )\n",
       "        (1): DebertaLayer(\n",
       "          (attention): DebertaAttention(\n",
       "            (self): DisentangledSelfAttention(\n",
       "              (in_proj): Linear(in_features=768, out_features=2304, bias=False)\n",
       "              (pos_dropout): StableDropout()\n",
       "              (pos_proj): Linear(in_features=768, out_features=768, bias=False)\n",
       "              (pos_q_proj): Linear(in_features=768, out_features=768, bias=True)\n",
       "              (dropout): StableDropout()\n",
       "            )\n",
       "            (output): DebertaSelfOutput(\n",
       "              (dense): Linear(in_features=768, out_features=768, bias=True)\n",
       "              (LayerNorm): DebertaLayerNorm()\n",
       "              (dropout): StableDropout()\n",
       "            )\n",
       "          )\n",
       "          (intermediate): DebertaIntermediate(\n",
       "            (dense): Linear(in_features=768, out_features=3072, bias=True)\n",
       "            (intermediate_act_fn): GELUActivation()\n",
       "          )\n",
       "          (output): DebertaOutput(\n",
       "            (dense): Linear(in_features=3072, out_features=768, bias=True)\n",
       "            (LayerNorm): DebertaLayerNorm()\n",
       "            (dropout): StableDropout()\n",
       "          )\n",
       "        )\n",
       "        (2): DebertaLayer(\n",
       "          (attention): DebertaAttention(\n",
       "            (self): DisentangledSelfAttention(\n",
       "              (in_proj): Linear(in_features=768, out_features=2304, bias=False)\n",
       "              (pos_dropout): StableDropout()\n",
       "              (pos_proj): Linear(in_features=768, out_features=768, bias=False)\n",
       "              (pos_q_proj): Linear(in_features=768, out_features=768, bias=True)\n",
       "              (dropout): StableDropout()\n",
       "            )\n",
       "            (output): DebertaSelfOutput(\n",
       "              (dense): Linear(in_features=768, out_features=768, bias=True)\n",
       "              (LayerNorm): DebertaLayerNorm()\n",
       "              (dropout): StableDropout()\n",
       "            )\n",
       "          )\n",
       "          (intermediate): DebertaIntermediate(\n",
       "            (dense): Linear(in_features=768, out_features=3072, bias=True)\n",
       "            (intermediate_act_fn): GELUActivation()\n",
       "          )\n",
       "          (output): DebertaOutput(\n",
       "            (dense): Linear(in_features=3072, out_features=768, bias=True)\n",
       "            (LayerNorm): DebertaLayerNorm()\n",
       "            (dropout): StableDropout()\n",
       "          )\n",
       "        )\n",
       "        (3): DebertaLayer(\n",
       "          (attention): DebertaAttention(\n",
       "            (self): DisentangledSelfAttention(\n",
       "              (in_proj): Linear(in_features=768, out_features=2304, bias=False)\n",
       "              (pos_dropout): StableDropout()\n",
       "              (pos_proj): Linear(in_features=768, out_features=768, bias=False)\n",
       "              (pos_q_proj): Linear(in_features=768, out_features=768, bias=True)\n",
       "              (dropout): StableDropout()\n",
       "            )\n",
       "            (output): DebertaSelfOutput(\n",
       "              (dense): Linear(in_features=768, out_features=768, bias=True)\n",
       "              (LayerNorm): DebertaLayerNorm()\n",
       "              (dropout): StableDropout()\n",
       "            )\n",
       "          )\n",
       "          (intermediate): DebertaIntermediate(\n",
       "            (dense): Linear(in_features=768, out_features=3072, bias=True)\n",
       "            (intermediate_act_fn): GELUActivation()\n",
       "          )\n",
       "          (output): DebertaOutput(\n",
       "            (dense): Linear(in_features=3072, out_features=768, bias=True)\n",
       "            (LayerNorm): DebertaLayerNorm()\n",
       "            (dropout): StableDropout()\n",
       "          )\n",
       "        )\n",
       "        (4): DebertaLayer(\n",
       "          (attention): DebertaAttention(\n",
       "            (self): DisentangledSelfAttention(\n",
       "              (in_proj): Linear(in_features=768, out_features=2304, bias=False)\n",
       "              (pos_dropout): StableDropout()\n",
       "              (pos_proj): Linear(in_features=768, out_features=768, bias=False)\n",
       "              (pos_q_proj): Linear(in_features=768, out_features=768, bias=True)\n",
       "              (dropout): StableDropout()\n",
       "            )\n",
       "            (output): DebertaSelfOutput(\n",
       "              (dense): Linear(in_features=768, out_features=768, bias=True)\n",
       "              (LayerNorm): DebertaLayerNorm()\n",
       "              (dropout): StableDropout()\n",
       "            )\n",
       "          )\n",
       "          (intermediate): DebertaIntermediate(\n",
       "            (dense): Linear(in_features=768, out_features=3072, bias=True)\n",
       "            (intermediate_act_fn): GELUActivation()\n",
       "          )\n",
       "          (output): DebertaOutput(\n",
       "            (dense): Linear(in_features=3072, out_features=768, bias=True)\n",
       "            (LayerNorm): DebertaLayerNorm()\n",
       "            (dropout): StableDropout()\n",
       "          )\n",
       "        )\n",
       "        (5): DebertaLayer(\n",
       "          (attention): DebertaAttention(\n",
       "            (self): DisentangledSelfAttention(\n",
       "              (in_proj): Linear(in_features=768, out_features=2304, bias=False)\n",
       "              (pos_dropout): StableDropout()\n",
       "              (pos_proj): Linear(in_features=768, out_features=768, bias=False)\n",
       "              (pos_q_proj): Linear(in_features=768, out_features=768, bias=True)\n",
       "              (dropout): StableDropout()\n",
       "            )\n",
       "            (output): DebertaSelfOutput(\n",
       "              (dense): Linear(in_features=768, out_features=768, bias=True)\n",
       "              (LayerNorm): DebertaLayerNorm()\n",
       "              (dropout): StableDropout()\n",
       "            )\n",
       "          )\n",
       "          (intermediate): DebertaIntermediate(\n",
       "            (dense): Linear(in_features=768, out_features=3072, bias=True)\n",
       "            (intermediate_act_fn): GELUActivation()\n",
       "          )\n",
       "          (output): DebertaOutput(\n",
       "            (dense): Linear(in_features=3072, out_features=768, bias=True)\n",
       "            (LayerNorm): DebertaLayerNorm()\n",
       "            (dropout): StableDropout()\n",
       "          )\n",
       "        )\n",
       "        (6): DebertaLayer(\n",
       "          (attention): DebertaAttention(\n",
       "            (self): DisentangledSelfAttention(\n",
       "              (in_proj): Linear(in_features=768, out_features=2304, bias=False)\n",
       "              (pos_dropout): StableDropout()\n",
       "              (pos_proj): Linear(in_features=768, out_features=768, bias=False)\n",
       "              (pos_q_proj): Linear(in_features=768, out_features=768, bias=True)\n",
       "              (dropout): StableDropout()\n",
       "            )\n",
       "            (output): DebertaSelfOutput(\n",
       "              (dense): Linear(in_features=768, out_features=768, bias=True)\n",
       "              (LayerNorm): DebertaLayerNorm()\n",
       "              (dropout): StableDropout()\n",
       "            )\n",
       "          )\n",
       "          (intermediate): DebertaIntermediate(\n",
       "            (dense): Linear(in_features=768, out_features=3072, bias=True)\n",
       "            (intermediate_act_fn): GELUActivation()\n",
       "          )\n",
       "          (output): DebertaOutput(\n",
       "            (dense): Linear(in_features=3072, out_features=768, bias=True)\n",
       "            (LayerNorm): DebertaLayerNorm()\n",
       "            (dropout): StableDropout()\n",
       "          )\n",
       "        )\n",
       "        (7): DebertaLayer(\n",
       "          (attention): DebertaAttention(\n",
       "            (self): DisentangledSelfAttention(\n",
       "              (in_proj): Linear(in_features=768, out_features=2304, bias=False)\n",
       "              (pos_dropout): StableDropout()\n",
       "              (pos_proj): Linear(in_features=768, out_features=768, bias=False)\n",
       "              (pos_q_proj): Linear(in_features=768, out_features=768, bias=True)\n",
       "              (dropout): StableDropout()\n",
       "            )\n",
       "            (output): DebertaSelfOutput(\n",
       "              (dense): Linear(in_features=768, out_features=768, bias=True)\n",
       "              (LayerNorm): DebertaLayerNorm()\n",
       "              (dropout): StableDropout()\n",
       "            )\n",
       "          )\n",
       "          (intermediate): DebertaIntermediate(\n",
       "            (dense): Linear(in_features=768, out_features=3072, bias=True)\n",
       "            (intermediate_act_fn): GELUActivation()\n",
       "          )\n",
       "          (output): DebertaOutput(\n",
       "            (dense): Linear(in_features=3072, out_features=768, bias=True)\n",
       "            (LayerNorm): DebertaLayerNorm()\n",
       "            (dropout): StableDropout()\n",
       "          )\n",
       "        )\n",
       "        (8): DebertaLayer(\n",
       "          (attention): DebertaAttention(\n",
       "            (self): DisentangledSelfAttention(\n",
       "              (in_proj): Linear(in_features=768, out_features=2304, bias=False)\n",
       "              (pos_dropout): StableDropout()\n",
       "              (pos_proj): Linear(in_features=768, out_features=768, bias=False)\n",
       "              (pos_q_proj): Linear(in_features=768, out_features=768, bias=True)\n",
       "              (dropout): StableDropout()\n",
       "            )\n",
       "            (output): DebertaSelfOutput(\n",
       "              (dense): Linear(in_features=768, out_features=768, bias=True)\n",
       "              (LayerNorm): DebertaLayerNorm()\n",
       "              (dropout): StableDropout()\n",
       "            )\n",
       "          )\n",
       "          (intermediate): DebertaIntermediate(\n",
       "            (dense): Linear(in_features=768, out_features=3072, bias=True)\n",
       "            (intermediate_act_fn): GELUActivation()\n",
       "          )\n",
       "          (output): DebertaOutput(\n",
       "            (dense): Linear(in_features=3072, out_features=768, bias=True)\n",
       "            (LayerNorm): DebertaLayerNorm()\n",
       "            (dropout): StableDropout()\n",
       "          )\n",
       "        )\n",
       "        (9): DebertaLayer(\n",
       "          (attention): DebertaAttention(\n",
       "            (self): DisentangledSelfAttention(\n",
       "              (in_proj): Linear(in_features=768, out_features=2304, bias=False)\n",
       "              (pos_dropout): StableDropout()\n",
       "              (pos_proj): Linear(in_features=768, out_features=768, bias=False)\n",
       "              (pos_q_proj): Linear(in_features=768, out_features=768, bias=True)\n",
       "              (dropout): StableDropout()\n",
       "            )\n",
       "            (output): DebertaSelfOutput(\n",
       "              (dense): Linear(in_features=768, out_features=768, bias=True)\n",
       "              (LayerNorm): DebertaLayerNorm()\n",
       "              (dropout): StableDropout()\n",
       "            )\n",
       "          )\n",
       "          (intermediate): DebertaIntermediate(\n",
       "            (dense): Linear(in_features=768, out_features=3072, bias=True)\n",
       "            (intermediate_act_fn): GELUActivation()\n",
       "          )\n",
       "          (output): DebertaOutput(\n",
       "            (dense): Linear(in_features=3072, out_features=768, bias=True)\n",
       "            (LayerNorm): DebertaLayerNorm()\n",
       "            (dropout): StableDropout()\n",
       "          )\n",
       "        )\n",
       "        (10): DebertaLayer(\n",
       "          (attention): DebertaAttention(\n",
       "            (self): DisentangledSelfAttention(\n",
       "              (in_proj): Linear(in_features=768, out_features=2304, bias=False)\n",
       "              (pos_dropout): StableDropout()\n",
       "              (pos_proj): Linear(in_features=768, out_features=768, bias=False)\n",
       "              (pos_q_proj): Linear(in_features=768, out_features=768, bias=True)\n",
       "              (dropout): StableDropout()\n",
       "            )\n",
       "            (output): DebertaSelfOutput(\n",
       "              (dense): Linear(in_features=768, out_features=768, bias=True)\n",
       "              (LayerNorm): DebertaLayerNorm()\n",
       "              (dropout): StableDropout()\n",
       "            )\n",
       "          )\n",
       "          (intermediate): DebertaIntermediate(\n",
       "            (dense): Linear(in_features=768, out_features=3072, bias=True)\n",
       "            (intermediate_act_fn): GELUActivation()\n",
       "          )\n",
       "          (output): DebertaOutput(\n",
       "            (dense): Linear(in_features=3072, out_features=768, bias=True)\n",
       "            (LayerNorm): DebertaLayerNorm()\n",
       "            (dropout): StableDropout()\n",
       "          )\n",
       "        )\n",
       "        (11): DebertaLayer(\n",
       "          (attention): DebertaAttention(\n",
       "            (self): DisentangledSelfAttention(\n",
       "              (in_proj): Linear(in_features=768, out_features=2304, bias=False)\n",
       "              (pos_dropout): StableDropout()\n",
       "              (pos_proj): Linear(in_features=768, out_features=768, bias=False)\n",
       "              (pos_q_proj): Linear(in_features=768, out_features=768, bias=True)\n",
       "              (dropout): StableDropout()\n",
       "            )\n",
       "            (output): DebertaSelfOutput(\n",
       "              (dense): Linear(in_features=768, out_features=768, bias=True)\n",
       "              (LayerNorm): DebertaLayerNorm()\n",
       "              (dropout): StableDropout()\n",
       "            )\n",
       "          )\n",
       "          (intermediate): DebertaIntermediate(\n",
       "            (dense): Linear(in_features=768, out_features=3072, bias=True)\n",
       "            (intermediate_act_fn): GELUActivation()\n",
       "          )\n",
       "          (output): DebertaOutput(\n",
       "            (dense): Linear(in_features=3072, out_features=768, bias=True)\n",
       "            (LayerNorm): DebertaLayerNorm()\n",
       "            (dropout): StableDropout()\n",
       "          )\n",
       "        )\n",
       "      )\n",
       "      (rel_embeddings): Embedding(1024, 768)\n",
       "    )\n",
       "  )\n",
       "  (pooler): ContextPooler(\n",
       "    (dense): Linear(in_features=768, out_features=768, bias=True)\n",
       "    (dropout): StableDropout()\n",
       "  )\n",
       "  (classifier): Linear(in_features=768, out_features=3, bias=True)\n",
       "  (dropout): StableDropout()\n",
       ")"
      ]
     },
     "execution_count": 29,
     "metadata": {},
     "output_type": "execute_result"
    }
   ],
   "source": [
    "# Initializing a DeBERTa-v2 microsoft/deberta-v2-xlarge style configuration\n",
    "#configuration = DebertaV2Config()\n",
    "import torch.nn as nn\n",
    "# Initializing a model (with random weights) from the microsoft/deberta-v2-xlarge style configuration\n",
    "model = AutoModelForSequenceClassification.from_pretrained(model_name, num_labels = 3)\n",
    "# Tell the model to run on GPU\n",
    "model.to(device)"
   ]
  },
  {
   "cell_type": "code",
   "execution_count": 43,
   "id": "d4d60e25",
   "metadata": {},
   "outputs": [
    {
     "ename": "AttributeError",
     "evalue": "module 'torch.optim.lr_scheduler' has no attribute 'ReduceOnPlateau'",
     "output_type": "error",
     "traceback": [
      "\u001b[0;31m---------------------------------------------------------------------------\u001b[0m",
      "\u001b[0;31mAttributeError\u001b[0m                            Traceback (most recent call last)",
      "Cell \u001b[0;32mIn[43], line 13\u001b[0m\n\u001b[1;32m     10\u001b[0m \u001b[38;5;66;03m# Total number of training steps\u001b[39;00m\n\u001b[1;32m     11\u001b[0m total_steps \u001b[38;5;241m=\u001b[39m \u001b[38;5;28mlen\u001b[39m(rest_train_dataloader) \u001b[38;5;241m*\u001b[39m epochs\n\u001b[0;32m---> 13\u001b[0m scheduler \u001b[38;5;241m=\u001b[39m \u001b[43mtorch\u001b[49m\u001b[38;5;241;43m.\u001b[39;49m\u001b[43moptim\u001b[49m\u001b[38;5;241;43m.\u001b[39;49m\u001b[43mlr_scheduler\u001b[49m\u001b[38;5;241;43m.\u001b[39;49m\u001b[43mReduceOnPlateau\u001b[49m(optimizer, patience \u001b[38;5;241m=\u001b[39m\u001b[38;5;241m3\u001b[39m, factor \u001b[38;5;241m=\u001b[39m \u001b[38;5;241m0.1\u001b[39m)\n",
      "\u001b[0;31mAttributeError\u001b[0m: module 'torch.optim.lr_scheduler' has no attribute 'ReduceOnPlateau'"
     ]
    }
   ],
   "source": [
    "from transformers import get_linear_schedule_with_warmup, get_constant_schedule_with_warmup, get_cosine_schedule_with_warmup\n",
    "import torch.optim as optim\n",
    "import torch\n",
    "# Implement the training loop\n",
    "epochs = 15\n",
    "\n",
    "# Define the optimizer\n",
    "optimizer = torch.optim.AdamW(model.parameters(), lr=2e-5, eps = 1e-8)\n",
    "\n",
    "# Total number of training steps\n",
    "total_steps = len(rest_train_dataloader) * epochs\n",
    "\n",
    "scheduler = torch.optim.lr_scheduler.ReduceLROnPlateau(optimizer, patience =3, factor = 0.1)\n",
    "# Create the learning rate scheduler.\n",
    "#scheduler = get_constant_schedule_with_warmup(optimizer, num_warmup_steps=2 * len(train_dataloader))"
   ]
  },
  {
   "cell_type": "code",
   "execution_count": 45,
   "id": "e114464f",
   "metadata": {},
   "outputs": [],
   "source": [
    "def train(model, epochs, train_dataloader, optimizer):\n",
    "    training_loss = []\n",
    "    training_progress = []\n",
    "    for epoch in range(0, epochs):\n",
    "        # Training step\n",
    "        model.train()\n",
    "        total_train_loss = 0\n",
    "        progress_bar = tqdm(train_dataloader, desc=\"Epoch {:1d}\".format(epoch+1), leave=False, disable=False)\n",
    "        for batch in progress_bar:\n",
    "            b_input_ids = batch[0].to(device)\n",
    "            b_input_mask = batch[1].to(device)\n",
    "            b_labels = batch[2].to(device)\n",
    "\n",
    "            # Clear previously calculated gradients\n",
    "            model.zero_grad()        \n",
    "            # Perform a forward pass\n",
    "            outputs = model(b_input_ids, attention_mask=b_input_mask, labels=b_labels)\n",
    "            loss = outputs.loss\n",
    "            total_train_loss += loss.item()\n",
    "            training_progress.append(loss.item())\n",
    "\n",
    "            # Perform a backward pass\n",
    "            loss.backward()\n",
    "\n",
    "            # Update parameters and take a step using the computed gradient\n",
    "            optimizer.step()\n",
    "            # Update the progress bar\n",
    "            progress_bar.set_postfix({'training_loss': '{:.3f}'.format(loss.item()/len(batch))})\n",
    "\n",
    "        # Calculate the average loss over the training data.\n",
    "        avg_train_loss = total_train_loss / len(train_dataloader)            \n",
    "        print(f\"  Average training loss: {avg_train_loss:.2f}\")\n",
    "        training_loss.append(avg_train_loss)"
   ]
  },
  {
   "cell_type": "code",
   "execution_count": 46,
   "id": "e3677579",
   "metadata": {},
   "outputs": [],
   "source": [
    "def evaluate(model, test_dataloader, scheduler):\n",
    "    from sklearn.metrics import precision_recall_fscore_support, accuracy_score, confusion_matrix\n",
    "    import numpy as np\n",
    "    validation_acc = []\n",
    "    validation_prec = []\n",
    "    validation_f1 = []\n",
    "    validation_recall = []\n",
    "    validation_loss = []\n",
    "\n",
    "    \n",
    "    model.eval()\n",
    "\n",
    "    # Initialize variables to gather predictions and true labels\n",
    "    all_predictions = []\n",
    "    all_true_labels = []\n",
    "\n",
    "    with torch.no_grad():\n",
    "        total_eval_loss = 0\n",
    "        for batch in tqdm(test_dataloader):\n",
    "            b_input_ids = batch[0].to(device)\n",
    "            b_input_mask = batch[1].to(device)\n",
    "            b_labels = batch[2].to(device)\n",
    "            #token_type_ids = None\n",
    "            outputs = model(b_input_ids, attention_mask=b_input_mask, labels=b_labels)\n",
    "\n",
    "            loss = outputs.loss\n",
    "            total_eval_loss += loss.item()\n",
    "\n",
    "            logits = outputs.logits.detach().cpu().numpy()\n",
    "            label_ids = b_labels.to('cpu').numpy()\n",
    "\n",
    "            # Store predictions and true labels\n",
    "            all_predictions.extend(np.argmax(logits, axis=1).flatten())\n",
    "            all_true_labels.extend(label_ids.flatten())\n",
    "    precision, recall, f1_score, _ = precision_recall_fscore_support(all_true_labels, all_predictions, average='weighted')\n",
    "    accuracy = accuracy_score(all_true_labels, all_predictions)\n",
    "    avg_test_loss = total_eval_loss / len(test_dataloader)\n",
    "    \n",
    "    scheduler.step(accuracy)\n",
    "    \n",
    "    validation_acc.append(accuracy)\n",
    "    validation_prec.append(precision)\n",
    "    validation_f1.append(f1_score)\n",
    "    validation_recall.append(recall)\n",
    "    validation_loss.append(avg_test_loss)\n",
    "    \n",
    "    print(f'Accuracy: {accuracy:.4f}')\n",
    "    print(f'Precision: {precision:.4f}')\n",
    "    print(f'Recall: {recall:.4f}')\n",
    "    print(f'F1-Score: {f1_score:.4f}')\n",
    "    return accuracy"
   ]
  },
  {
   "cell_type": "code",
   "execution_count": 47,
   "id": "977733b1",
   "metadata": {},
   "outputs": [],
   "source": [
    "from torch.optim.lr_scheduler import ReduceLROnPlateau\n",
    "def objective(trial):\n",
    "    LR = trial.suggest_float('lr', 2e-6, 2e-4)\n",
    "    num_epochs = trial.suggest_int('num_epochs', 5, 15)\n",
    "    \n",
    "    model = AutoModelForSequenceClassification.from_pretrained(model_name, num_labels = 3)\n",
    "    # Tell the model to run on GPU\n",
    "    model.to(device)\n",
    "    optimizer = torch.optim.AdamW(model.parameters(), lr=LR, eps = 1e-8) \n",
    "    scheduler = torch.optim.lr_scheduler.ReduceLROnPlateau(optimizer, patience =3, factor = 0.1)\n",
    "    \n",
    "    train(model, num_epochs, rest_train_dataloader, optimizer)\n",
    "    \n",
    "    acc = evaluate(model, scheduler= scheduler, test_dataloader=rest_test_dataloader)\n",
    "    return acc"
   ]
  },
  {
   "cell_type": "code",
   "execution_count": 48,
   "id": "ed4a73e9",
   "metadata": {},
   "outputs": [],
   "source": [
    "import optuna"
   ]
  },
  {
   "cell_type": "code",
   "execution_count": 49,
   "id": "43de9770",
   "metadata": {},
   "outputs": [
    {
     "name": "stderr",
     "output_type": "stream",
     "text": [
      "[I 2024-01-29 15:56:29,612] A new study created in memory with name: no-name-49420337-f5ca-4a64-9c4d-2a6c31b296de\n",
      "Some weights of DebertaForSequenceClassification were not initialized from the model checkpoint at microsoft/deberta-base and are newly initialized: ['classifier.weight', 'pooler.dense.bias', 'classifier.bias', 'pooler.dense.weight']\n",
      "You should probably TRAIN this model on a down-stream task to be able to use it for predictions and inference.\n",
      "                                                                                                                        \r"
     ]
    },
    {
     "name": "stdout",
     "output_type": "stream",
     "text": [
      "  Average training loss: 1.10\n"
     ]
    },
    {
     "name": "stderr",
     "output_type": "stream",
     "text": [
      "                                                                                                                        \r"
     ]
    },
    {
     "name": "stdout",
     "output_type": "stream",
     "text": [
      "  Average training loss: 1.09\n"
     ]
    },
    {
     "name": "stderr",
     "output_type": "stream",
     "text": [
      "                                                                                                                        \r"
     ]
    },
    {
     "name": "stdout",
     "output_type": "stream",
     "text": [
      "  Average training loss: 1.09\n"
     ]
    },
    {
     "name": "stderr",
     "output_type": "stream",
     "text": [
      "                                                                                                                        \r"
     ]
    },
    {
     "name": "stdout",
     "output_type": "stream",
     "text": [
      "  Average training loss: 1.09\n"
     ]
    },
    {
     "name": "stderr",
     "output_type": "stream",
     "text": [
      "                                                                                                                        \r"
     ]
    },
    {
     "name": "stdout",
     "output_type": "stream",
     "text": [
      "  Average training loss: 1.09\n"
     ]
    },
    {
     "name": "stderr",
     "output_type": "stream",
     "text": [
      "                                                                                                                        \r"
     ]
    },
    {
     "name": "stdout",
     "output_type": "stream",
     "text": [
      "  Average training loss: 1.09\n"
     ]
    },
    {
     "name": "stderr",
     "output_type": "stream",
     "text": [
      "                                                                                                                        \r"
     ]
    },
    {
     "name": "stdout",
     "output_type": "stream",
     "text": [
      "  Average training loss: 1.09\n"
     ]
    },
    {
     "name": "stderr",
     "output_type": "stream",
     "text": [
      "                                                                                                                        \r"
     ]
    },
    {
     "name": "stdout",
     "output_type": "stream",
     "text": [
      "  Average training loss: 1.09\n"
     ]
    },
    {
     "name": "stderr",
     "output_type": "stream",
     "text": [
      "                                                                                                                        \r"
     ]
    },
    {
     "name": "stdout",
     "output_type": "stream",
     "text": [
      "  Average training loss: 1.09\n"
     ]
    },
    {
     "name": "stderr",
     "output_type": "stream",
     "text": [
      "                                                                                                                        \r"
     ]
    },
    {
     "name": "stdout",
     "output_type": "stream",
     "text": [
      "  Average training loss: 1.09\n"
     ]
    },
    {
     "name": "stderr",
     "output_type": "stream",
     "text": [
      "                                                                                                                        \r"
     ]
    },
    {
     "name": "stdout",
     "output_type": "stream",
     "text": [
      "  Average training loss: 1.09\n"
     ]
    },
    {
     "name": "stderr",
     "output_type": "stream",
     "text": [
      "                                                                                                                        \r"
     ]
    },
    {
     "name": "stdout",
     "output_type": "stream",
     "text": [
      "  Average training loss: 1.09\n"
     ]
    },
    {
     "name": "stderr",
     "output_type": "stream",
     "text": [
      "                                                                                                                        \r"
     ]
    },
    {
     "name": "stdout",
     "output_type": "stream",
     "text": [
      "  Average training loss: 1.09\n"
     ]
    },
    {
     "name": "stderr",
     "output_type": "stream",
     "text": [
      "100%|███████████████████████████████████████████████████████████████████████████████████| 70/70 [00:02<00:00, 26.97it/s]\n",
      "/home/user/welzs0/anaconda3/envs/CudaLab/lib/python3.9/site-packages/sklearn/metrics/_classification.py:1471: UndefinedMetricWarning: Precision and F-score are ill-defined and being set to 0.0 in labels with no predicted samples. Use `zero_division` parameter to control this behavior.\n",
      "  _warn_prf(average, modifier, msg_start, len(result))\n",
      "[I 2024-01-29 16:06:33,568] Trial 0 finished with value: 0.649059982094897 and parameters: {'lr': 5.982447760378066e-05, 'num_epochs': 13}. Best is trial 0 with value: 0.649059982094897.\n"
     ]
    },
    {
     "name": "stdout",
     "output_type": "stream",
     "text": [
      "Accuracy: 0.6491\n",
      "Precision: 0.4213\n",
      "Recall: 0.6491\n",
      "F1-Score: 0.5109\n"
     ]
    },
    {
     "name": "stderr",
     "output_type": "stream",
     "text": [
      "Some weights of DebertaForSequenceClassification were not initialized from the model checkpoint at microsoft/deberta-base and are newly initialized: ['classifier.weight', 'pooler.dense.bias', 'classifier.bias', 'pooler.dense.weight']\n",
      "You should probably TRAIN this model on a down-stream task to be able to use it for predictions and inference.\n",
      "                                                                                                                        \r"
     ]
    },
    {
     "name": "stdout",
     "output_type": "stream",
     "text": [
      "  Average training loss: 0.87\n"
     ]
    },
    {
     "name": "stderr",
     "output_type": "stream",
     "text": [
      "                                                                                                                        \r"
     ]
    },
    {
     "name": "stdout",
     "output_type": "stream",
     "text": [
      "  Average training loss: 0.42\n"
     ]
    },
    {
     "name": "stderr",
     "output_type": "stream",
     "text": [
      "                                                                                                                        \r"
     ]
    },
    {
     "name": "stdout",
     "output_type": "stream",
     "text": [
      "  Average training loss: 0.23\n"
     ]
    },
    {
     "name": "stderr",
     "output_type": "stream",
     "text": [
      "                                                                                                                        \r"
     ]
    },
    {
     "name": "stdout",
     "output_type": "stream",
     "text": [
      "  Average training loss: 0.12\n"
     ]
    },
    {
     "name": "stderr",
     "output_type": "stream",
     "text": [
      "                                                                                                                        \r"
     ]
    },
    {
     "name": "stdout",
     "output_type": "stream",
     "text": [
      "  Average training loss: 0.09\n"
     ]
    },
    {
     "name": "stderr",
     "output_type": "stream",
     "text": [
      "                                                                                                                        \r"
     ]
    },
    {
     "name": "stdout",
     "output_type": "stream",
     "text": [
      "  Average training loss: 0.06\n"
     ]
    },
    {
     "name": "stderr",
     "output_type": "stream",
     "text": [
      "                                                                                                                        \r"
     ]
    },
    {
     "name": "stdout",
     "output_type": "stream",
     "text": [
      "  Average training loss: 0.06\n"
     ]
    },
    {
     "name": "stderr",
     "output_type": "stream",
     "text": [
      "                                                                                                                        \r"
     ]
    },
    {
     "name": "stdout",
     "output_type": "stream",
     "text": [
      "  Average training loss: 0.03\n"
     ]
    },
    {
     "name": "stderr",
     "output_type": "stream",
     "text": [
      "                                                                                                                        \r"
     ]
    },
    {
     "name": "stdout",
     "output_type": "stream",
     "text": [
      "  Average training loss: 0.04\n"
     ]
    },
    {
     "name": "stderr",
     "output_type": "stream",
     "text": [
      "                                                                                                                        \r"
     ]
    },
    {
     "name": "stdout",
     "output_type": "stream",
     "text": [
      "  Average training loss: 0.03\n"
     ]
    },
    {
     "name": "stderr",
     "output_type": "stream",
     "text": [
      "                                                                                                                        \r"
     ]
    },
    {
     "name": "stdout",
     "output_type": "stream",
     "text": [
      "  Average training loss: 0.03\n"
     ]
    },
    {
     "name": "stderr",
     "output_type": "stream",
     "text": [
      "                                                                                                                        \r"
     ]
    },
    {
     "name": "stdout",
     "output_type": "stream",
     "text": [
      "  Average training loss: 0.02\n"
     ]
    },
    {
     "name": "stderr",
     "output_type": "stream",
     "text": [
      "                                                                                                                        \r"
     ]
    },
    {
     "name": "stdout",
     "output_type": "stream",
     "text": [
      "  Average training loss: 0.04\n"
     ]
    },
    {
     "name": "stderr",
     "output_type": "stream",
     "text": [
      "100%|███████████████████████████████████████████████████████████████████████████████████| 70/70 [00:02<00:00, 26.97it/s]\n",
      "[I 2024-01-29 16:16:39,103] Trial 1 finished with value: 0.8495971351835273 and parameters: {'lr': 2.1547226208157202e-05, 'num_epochs': 13}. Best is trial 1 with value: 0.8495971351835273.\n"
     ]
    },
    {
     "name": "stdout",
     "output_type": "stream",
     "text": [
      "Accuracy: 0.8496\n",
      "Precision: 0.8405\n",
      "Recall: 0.8496\n",
      "F1-Score: 0.8423\n"
     ]
    },
    {
     "name": "stderr",
     "output_type": "stream",
     "text": [
      "Some weights of DebertaForSequenceClassification were not initialized from the model checkpoint at microsoft/deberta-base and are newly initialized: ['classifier.weight', 'pooler.dense.bias', 'classifier.bias', 'pooler.dense.weight']\n",
      "You should probably TRAIN this model on a down-stream task to be able to use it for predictions and inference.\n",
      "                                                                                                                        \r"
     ]
    },
    {
     "name": "stdout",
     "output_type": "stream",
     "text": [
      "  Average training loss: 1.09\n"
     ]
    },
    {
     "name": "stderr",
     "output_type": "stream",
     "text": [
      "                                                                                                                        \r"
     ]
    },
    {
     "name": "stdout",
     "output_type": "stream",
     "text": [
      "  Average training loss: 1.09\n"
     ]
    },
    {
     "name": "stderr",
     "output_type": "stream",
     "text": [
      "                                                                                                                        \r"
     ]
    },
    {
     "name": "stdout",
     "output_type": "stream",
     "text": [
      "  Average training loss: 1.09\n"
     ]
    },
    {
     "name": "stderr",
     "output_type": "stream",
     "text": [
      "                                                                                                                        \r"
     ]
    },
    {
     "name": "stdout",
     "output_type": "stream",
     "text": [
      "  Average training loss: 1.09\n"
     ]
    },
    {
     "name": "stderr",
     "output_type": "stream",
     "text": [
      "                                                                                                                        \r"
     ]
    },
    {
     "name": "stdout",
     "output_type": "stream",
     "text": [
      "  Average training loss: 1.09\n"
     ]
    },
    {
     "name": "stderr",
     "output_type": "stream",
     "text": [
      "100%|███████████████████████████████████████████████████████████████████████████████████| 70/70 [00:02<00:00, 27.02it/s]\n",
      "/home/user/welzs0/anaconda3/envs/CudaLab/lib/python3.9/site-packages/sklearn/metrics/_classification.py:1471: UndefinedMetricWarning: Precision and F-score are ill-defined and being set to 0.0 in labels with no predicted samples. Use `zero_division` parameter to control this behavior.\n",
      "  _warn_prf(average, modifier, msg_start, len(result))\n",
      "[I 2024-01-29 16:20:34,139] Trial 2 finished with value: 0.649059982094897 and parameters: {'lr': 9.85753489182704e-05, 'num_epochs': 5}. Best is trial 1 with value: 0.8495971351835273.\n"
     ]
    },
    {
     "name": "stdout",
     "output_type": "stream",
     "text": [
      "Accuracy: 0.6491\n",
      "Precision: 0.4213\n",
      "Recall: 0.6491\n",
      "F1-Score: 0.5109\n"
     ]
    },
    {
     "name": "stderr",
     "output_type": "stream",
     "text": [
      "Some weights of DebertaForSequenceClassification were not initialized from the model checkpoint at microsoft/deberta-base and are newly initialized: ['classifier.weight', 'pooler.dense.bias', 'classifier.bias', 'pooler.dense.weight']\n",
      "You should probably TRAIN this model on a down-stream task to be able to use it for predictions and inference.\n",
      "                                                                                                                        \r"
     ]
    },
    {
     "name": "stdout",
     "output_type": "stream",
     "text": [
      "  Average training loss: 1.09\n"
     ]
    },
    {
     "name": "stderr",
     "output_type": "stream",
     "text": [
      "                                                                                                                        \r"
     ]
    },
    {
     "name": "stdout",
     "output_type": "stream",
     "text": [
      "  Average training loss: 1.06\n"
     ]
    },
    {
     "name": "stderr",
     "output_type": "stream",
     "text": [
      "                                                                                                                        \r"
     ]
    },
    {
     "name": "stdout",
     "output_type": "stream",
     "text": [
      "  Average training loss: 1.06\n"
     ]
    },
    {
     "name": "stderr",
     "output_type": "stream",
     "text": [
      "                                                                                                                        \r"
     ]
    },
    {
     "name": "stdout",
     "output_type": "stream",
     "text": [
      "  Average training loss: 1.09\n"
     ]
    },
    {
     "name": "stderr",
     "output_type": "stream",
     "text": [
      "                                                                                                                        \r"
     ]
    },
    {
     "name": "stdout",
     "output_type": "stream",
     "text": [
      "  Average training loss: 1.09\n"
     ]
    },
    {
     "name": "stderr",
     "output_type": "stream",
     "text": [
      "                                                                                                                        \r"
     ]
    },
    {
     "name": "stdout",
     "output_type": "stream",
     "text": [
      "  Average training loss: 1.09\n"
     ]
    },
    {
     "name": "stderr",
     "output_type": "stream",
     "text": [
      "100%|███████████████████████████████████████████████████████████████████████████████████| 70/70 [00:02<00:00, 27.01it/s]\n",
      "/home/user/welzs0/anaconda3/envs/CudaLab/lib/python3.9/site-packages/sklearn/metrics/_classification.py:1471: UndefinedMetricWarning: Precision and F-score are ill-defined and being set to 0.0 in labels with no predicted samples. Use `zero_division` parameter to control this behavior.\n",
      "  _warn_prf(average, modifier, msg_start, len(result))\n",
      "[I 2024-01-29 16:25:15,208] Trial 3 finished with value: 0.649059982094897 and parameters: {'lr': 4.946444661921309e-05, 'num_epochs': 6}. Best is trial 1 with value: 0.8495971351835273.\n"
     ]
    },
    {
     "name": "stdout",
     "output_type": "stream",
     "text": [
      "Accuracy: 0.6491\n",
      "Precision: 0.4213\n",
      "Recall: 0.6491\n",
      "F1-Score: 0.5109\n"
     ]
    },
    {
     "name": "stderr",
     "output_type": "stream",
     "text": [
      "Some weights of DebertaForSequenceClassification were not initialized from the model checkpoint at microsoft/deberta-base and are newly initialized: ['classifier.weight', 'pooler.dense.bias', 'classifier.bias', 'pooler.dense.weight']\n",
      "You should probably TRAIN this model on a down-stream task to be able to use it for predictions and inference.\n",
      "                                                                                                                        \r"
     ]
    },
    {
     "name": "stdout",
     "output_type": "stream",
     "text": [
      "  Average training loss: 1.10\n"
     ]
    },
    {
     "name": "stderr",
     "output_type": "stream",
     "text": [
      "                                                                                                                        \r"
     ]
    },
    {
     "name": "stdout",
     "output_type": "stream",
     "text": [
      "  Average training loss: 1.09\n"
     ]
    },
    {
     "name": "stderr",
     "output_type": "stream",
     "text": [
      "                                                                                                                        \r"
     ]
    },
    {
     "name": "stdout",
     "output_type": "stream",
     "text": [
      "  Average training loss: 1.09\n"
     ]
    },
    {
     "name": "stderr",
     "output_type": "stream",
     "text": [
      "                                                                                                                        \r"
     ]
    },
    {
     "name": "stdout",
     "output_type": "stream",
     "text": [
      "  Average training loss: 1.09\n"
     ]
    },
    {
     "name": "stderr",
     "output_type": "stream",
     "text": [
      "                                                                                                                        \r"
     ]
    },
    {
     "name": "stdout",
     "output_type": "stream",
     "text": [
      "  Average training loss: 1.09\n"
     ]
    },
    {
     "name": "stderr",
     "output_type": "stream",
     "text": [
      "                                                                                                                        \r"
     ]
    },
    {
     "name": "stdout",
     "output_type": "stream",
     "text": [
      "  Average training loss: 1.09\n"
     ]
    },
    {
     "name": "stderr",
     "output_type": "stream",
     "text": [
      "                                                                                                                        \r"
     ]
    },
    {
     "name": "stdout",
     "output_type": "stream",
     "text": [
      "  Average training loss: 1.09\n"
     ]
    },
    {
     "name": "stderr",
     "output_type": "stream",
     "text": [
      "                                                                                                                        \r"
     ]
    },
    {
     "name": "stdout",
     "output_type": "stream",
     "text": [
      "  Average training loss: 1.09\n"
     ]
    },
    {
     "name": "stderr",
     "output_type": "stream",
     "text": [
      "                                                                                                                        \r"
     ]
    },
    {
     "name": "stdout",
     "output_type": "stream",
     "text": [
      "  Average training loss: 1.09\n"
     ]
    },
    {
     "name": "stderr",
     "output_type": "stream",
     "text": [
      "                                                                                                                        \r"
     ]
    },
    {
     "name": "stdout",
     "output_type": "stream",
     "text": [
      "  Average training loss: 1.09\n"
     ]
    },
    {
     "name": "stderr",
     "output_type": "stream",
     "text": [
      "                                                                                                                        \r"
     ]
    },
    {
     "name": "stdout",
     "output_type": "stream",
     "text": [
      "  Average training loss: 1.09\n"
     ]
    },
    {
     "name": "stderr",
     "output_type": "stream",
     "text": [
      "                                                                                                                        \r"
     ]
    },
    {
     "name": "stdout",
     "output_type": "stream",
     "text": [
      "  Average training loss: 1.09\n"
     ]
    },
    {
     "name": "stderr",
     "output_type": "stream",
     "text": [
      "                                                                                                                        \r"
     ]
    },
    {
     "name": "stdout",
     "output_type": "stream",
     "text": [
      "  Average training loss: 1.09\n"
     ]
    },
    {
     "name": "stderr",
     "output_type": "stream",
     "text": [
      "100%|███████████████████████████████████████████████████████████████████████████████████| 70/70 [00:02<00:00, 27.04it/s]\n",
      "/home/user/welzs0/anaconda3/envs/CudaLab/lib/python3.9/site-packages/sklearn/metrics/_classification.py:1471: UndefinedMetricWarning: Precision and F-score are ill-defined and being set to 0.0 in labels with no predicted samples. Use `zero_division` parameter to control this behavior.\n",
      "  _warn_prf(average, modifier, msg_start, len(result))\n",
      "[I 2024-01-29 16:35:20,558] Trial 4 finished with value: 0.649059982094897 and parameters: {'lr': 0.00019131950983481498, 'num_epochs': 13}. Best is trial 1 with value: 0.8495971351835273.\n"
     ]
    },
    {
     "name": "stdout",
     "output_type": "stream",
     "text": [
      "Accuracy: 0.6491\n",
      "Precision: 0.4213\n",
      "Recall: 0.6491\n",
      "F1-Score: 0.5109\n"
     ]
    },
    {
     "name": "stderr",
     "output_type": "stream",
     "text": [
      "Some weights of DebertaForSequenceClassification were not initialized from the model checkpoint at microsoft/deberta-base and are newly initialized: ['classifier.weight', 'pooler.dense.bias', 'classifier.bias', 'pooler.dense.weight']\n",
      "You should probably TRAIN this model on a down-stream task to be able to use it for predictions and inference.\n",
      "                                                                                                                        \r"
     ]
    },
    {
     "name": "stdout",
     "output_type": "stream",
     "text": [
      "  Average training loss: 0.66\n"
     ]
    },
    {
     "name": "stderr",
     "output_type": "stream",
     "text": [
      "                                                                                                                        \r"
     ]
    },
    {
     "name": "stdout",
     "output_type": "stream",
     "text": [
      "  Average training loss: 0.34\n"
     ]
    },
    {
     "name": "stderr",
     "output_type": "stream",
     "text": [
      "                                                                                                                        \r"
     ]
    },
    {
     "name": "stdout",
     "output_type": "stream",
     "text": [
      "  Average training loss: 0.17\n"
     ]
    },
    {
     "name": "stderr",
     "output_type": "stream",
     "text": [
      "                                                                                                                        \r"
     ]
    },
    {
     "name": "stdout",
     "output_type": "stream",
     "text": [
      "  Average training loss: 0.13\n"
     ]
    },
    {
     "name": "stderr",
     "output_type": "stream",
     "text": [
      "                                                                                                                        \r"
     ]
    },
    {
     "name": "stdout",
     "output_type": "stream",
     "text": [
      "  Average training loss: 0.07\n"
     ]
    },
    {
     "name": "stderr",
     "output_type": "stream",
     "text": [
      "100%|███████████████████████████████████████████████████████████████████████████████████| 70/70 [00:02<00:00, 26.98it/s]\n",
      "[I 2024-01-29 16:39:15,283] Trial 5 finished with value: 0.8433303491495077 and parameters: {'lr': 3.479167321966627e-05, 'num_epochs': 5}. Best is trial 1 with value: 0.8495971351835273.\n"
     ]
    },
    {
     "name": "stdout",
     "output_type": "stream",
     "text": [
      "Accuracy: 0.8433\n",
      "Precision: 0.8402\n",
      "Recall: 0.8433\n",
      "F1-Score: 0.8398\n"
     ]
    },
    {
     "name": "stderr",
     "output_type": "stream",
     "text": [
      "Some weights of DebertaForSequenceClassification were not initialized from the model checkpoint at microsoft/deberta-base and are newly initialized: ['classifier.weight', 'pooler.dense.bias', 'classifier.bias', 'pooler.dense.weight']\n",
      "You should probably TRAIN this model on a down-stream task to be able to use it for predictions and inference.\n",
      "                                                                                                                        \r"
     ]
    },
    {
     "name": "stdout",
     "output_type": "stream",
     "text": [
      "  Average training loss: 1.09\n"
     ]
    },
    {
     "name": "stderr",
     "output_type": "stream",
     "text": [
      "                                                                                                                        \r"
     ]
    },
    {
     "name": "stdout",
     "output_type": "stream",
     "text": [
      "  Average training loss: 1.09\n"
     ]
    },
    {
     "name": "stderr",
     "output_type": "stream",
     "text": [
      "                                                                                                                        \r"
     ]
    },
    {
     "name": "stdout",
     "output_type": "stream",
     "text": [
      "  Average training loss: 1.09\n"
     ]
    },
    {
     "name": "stderr",
     "output_type": "stream",
     "text": [
      "                                                                                                                        \r"
     ]
    },
    {
     "name": "stdout",
     "output_type": "stream",
     "text": [
      "  Average training loss: 1.09\n"
     ]
    },
    {
     "name": "stderr",
     "output_type": "stream",
     "text": [
      "                                                                                                                        \r"
     ]
    },
    {
     "name": "stdout",
     "output_type": "stream",
     "text": [
      "  Average training loss: 1.09\n"
     ]
    },
    {
     "name": "stderr",
     "output_type": "stream",
     "text": [
      "                                                                                                                        \r"
     ]
    },
    {
     "name": "stdout",
     "output_type": "stream",
     "text": [
      "  Average training loss: 1.09\n"
     ]
    },
    {
     "name": "stderr",
     "output_type": "stream",
     "text": [
      "                                                                                                                        \r"
     ]
    },
    {
     "name": "stdout",
     "output_type": "stream",
     "text": [
      "  Average training loss: 1.09\n"
     ]
    },
    {
     "name": "stderr",
     "output_type": "stream",
     "text": [
      "                                                                                                                        \r"
     ]
    },
    {
     "name": "stdout",
     "output_type": "stream",
     "text": [
      "  Average training loss: 1.09\n"
     ]
    },
    {
     "name": "stderr",
     "output_type": "stream",
     "text": [
      "100%|███████████████████████████████████████████████████████████████████████████████████| 70/70 [00:02<00:00, 27.06it/s]\n",
      "/home/user/welzs0/anaconda3/envs/CudaLab/lib/python3.9/site-packages/sklearn/metrics/_classification.py:1471: UndefinedMetricWarning: Precision and F-score are ill-defined and being set to 0.0 in labels with no predicted samples. Use `zero_division` parameter to control this behavior.\n",
      "  _warn_prf(average, modifier, msg_start, len(result))\n",
      "[I 2024-01-29 16:45:28,751] Trial 6 finished with value: 0.649059982094897 and parameters: {'lr': 4.9785219821521424e-05, 'num_epochs': 8}. Best is trial 1 with value: 0.8495971351835273.\n"
     ]
    },
    {
     "name": "stdout",
     "output_type": "stream",
     "text": [
      "Accuracy: 0.6491\n",
      "Precision: 0.4213\n",
      "Recall: 0.6491\n",
      "F1-Score: 0.5109\n"
     ]
    },
    {
     "name": "stderr",
     "output_type": "stream",
     "text": [
      "Some weights of DebertaForSequenceClassification were not initialized from the model checkpoint at microsoft/deberta-base and are newly initialized: ['classifier.weight', 'pooler.dense.bias', 'classifier.bias', 'pooler.dense.weight']\n",
      "You should probably TRAIN this model on a down-stream task to be able to use it for predictions and inference.\n",
      "                                                                                                                        \r"
     ]
    },
    {
     "name": "stdout",
     "output_type": "stream",
     "text": [
      "  Average training loss: 1.10\n"
     ]
    },
    {
     "name": "stderr",
     "output_type": "stream",
     "text": [
      "                                                                                                                        \r"
     ]
    },
    {
     "name": "stdout",
     "output_type": "stream",
     "text": [
      "  Average training loss: 1.09\n"
     ]
    },
    {
     "name": "stderr",
     "output_type": "stream",
     "text": [
      "                                                                                                                        \r"
     ]
    },
    {
     "name": "stdout",
     "output_type": "stream",
     "text": [
      "  Average training loss: 1.09\n"
     ]
    },
    {
     "name": "stderr",
     "output_type": "stream",
     "text": [
      "                                                                                                                        \r"
     ]
    },
    {
     "name": "stdout",
     "output_type": "stream",
     "text": [
      "  Average training loss: 1.09\n"
     ]
    },
    {
     "name": "stderr",
     "output_type": "stream",
     "text": [
      "                                                                                                                        \r"
     ]
    },
    {
     "name": "stdout",
     "output_type": "stream",
     "text": [
      "  Average training loss: 1.09\n"
     ]
    },
    {
     "name": "stderr",
     "output_type": "stream",
     "text": [
      "                                                                                                                        \r"
     ]
    },
    {
     "name": "stdout",
     "output_type": "stream",
     "text": [
      "  Average training loss: 1.09\n"
     ]
    },
    {
     "name": "stderr",
     "output_type": "stream",
     "text": [
      "                                                                                                                        \r"
     ]
    },
    {
     "name": "stdout",
     "output_type": "stream",
     "text": [
      "  Average training loss: 1.09\n"
     ]
    },
    {
     "name": "stderr",
     "output_type": "stream",
     "text": [
      "                                                                                                                        \r"
     ]
    },
    {
     "name": "stdout",
     "output_type": "stream",
     "text": [
      "  Average training loss: 1.09\n"
     ]
    },
    {
     "name": "stderr",
     "output_type": "stream",
     "text": [
      "                                                                                                                        \r"
     ]
    },
    {
     "name": "stdout",
     "output_type": "stream",
     "text": [
      "  Average training loss: 1.09\n"
     ]
    },
    {
     "name": "stderr",
     "output_type": "stream",
     "text": [
      "                                                                                                                        \r"
     ]
    },
    {
     "name": "stdout",
     "output_type": "stream",
     "text": [
      "  Average training loss: 1.09\n"
     ]
    },
    {
     "name": "stderr",
     "output_type": "stream",
     "text": [
      "                                                                                                                        \r"
     ]
    },
    {
     "name": "stdout",
     "output_type": "stream",
     "text": [
      "  Average training loss: 1.09\n"
     ]
    },
    {
     "name": "stderr",
     "output_type": "stream",
     "text": [
      "                                                                                                                        \r"
     ]
    },
    {
     "name": "stdout",
     "output_type": "stream",
     "text": [
      "  Average training loss: 1.09\n"
     ]
    },
    {
     "name": "stderr",
     "output_type": "stream",
     "text": [
      "100%|███████████████████████████████████████████████████████████████████████████████████| 70/70 [00:02<00:00, 26.98it/s]\n",
      "/home/user/welzs0/anaconda3/envs/CudaLab/lib/python3.9/site-packages/sklearn/metrics/_classification.py:1471: UndefinedMetricWarning: Precision and F-score are ill-defined and being set to 0.0 in labels with no predicted samples. Use `zero_division` parameter to control this behavior.\n",
      "  _warn_prf(average, modifier, msg_start, len(result))\n",
      "[I 2024-01-29 16:54:48,588] Trial 7 finished with value: 0.649059982094897 and parameters: {'lr': 0.00011416169692075062, 'num_epochs': 12}. Best is trial 1 with value: 0.8495971351835273.\n"
     ]
    },
    {
     "name": "stdout",
     "output_type": "stream",
     "text": [
      "Accuracy: 0.6491\n",
      "Precision: 0.4213\n",
      "Recall: 0.6491\n",
      "F1-Score: 0.5109\n"
     ]
    },
    {
     "name": "stderr",
     "output_type": "stream",
     "text": [
      "Some weights of DebertaForSequenceClassification were not initialized from the model checkpoint at microsoft/deberta-base and are newly initialized: ['classifier.weight', 'pooler.dense.bias', 'classifier.bias', 'pooler.dense.weight']\n",
      "You should probably TRAIN this model on a down-stream task to be able to use it for predictions and inference.\n",
      "                                                                                                                        \r"
     ]
    },
    {
     "name": "stdout",
     "output_type": "stream",
     "text": [
      "  Average training loss: 1.09\n"
     ]
    },
    {
     "name": "stderr",
     "output_type": "stream",
     "text": [
      "                                                                                                                        \r"
     ]
    },
    {
     "name": "stdout",
     "output_type": "stream",
     "text": [
      "  Average training loss: 1.09\n"
     ]
    },
    {
     "name": "stderr",
     "output_type": "stream",
     "text": [
      "                                                                                                                        \r"
     ]
    },
    {
     "name": "stdout",
     "output_type": "stream",
     "text": [
      "  Average training loss: 1.09\n"
     ]
    },
    {
     "name": "stderr",
     "output_type": "stream",
     "text": [
      "                                                                                                                        \r"
     ]
    },
    {
     "name": "stdout",
     "output_type": "stream",
     "text": [
      "  Average training loss: 1.09\n"
     ]
    },
    {
     "name": "stderr",
     "output_type": "stream",
     "text": [
      "                                                                                                                        \r"
     ]
    },
    {
     "name": "stdout",
     "output_type": "stream",
     "text": [
      "  Average training loss: 1.09\n"
     ]
    },
    {
     "name": "stderr",
     "output_type": "stream",
     "text": [
      "                                                                                                                        \r"
     ]
    },
    {
     "name": "stdout",
     "output_type": "stream",
     "text": [
      "  Average training loss: 1.09\n"
     ]
    },
    {
     "name": "stderr",
     "output_type": "stream",
     "text": [
      "                                                                                                                        \r"
     ]
    },
    {
     "name": "stdout",
     "output_type": "stream",
     "text": [
      "  Average training loss: 1.09\n"
     ]
    },
    {
     "name": "stderr",
     "output_type": "stream",
     "text": [
      "                                                                                                                        \r"
     ]
    },
    {
     "name": "stdout",
     "output_type": "stream",
     "text": [
      "  Average training loss: 1.09\n"
     ]
    },
    {
     "name": "stderr",
     "output_type": "stream",
     "text": [
      "                                                                                                                        \r"
     ]
    },
    {
     "name": "stdout",
     "output_type": "stream",
     "text": [
      "  Average training loss: 1.09\n"
     ]
    },
    {
     "name": "stderr",
     "output_type": "stream",
     "text": [
      "                                                                                                                        \r"
     ]
    },
    {
     "name": "stdout",
     "output_type": "stream",
     "text": [
      "  Average training loss: 1.09\n"
     ]
    },
    {
     "name": "stderr",
     "output_type": "stream",
     "text": [
      "                                                                                                                        \r"
     ]
    },
    {
     "name": "stdout",
     "output_type": "stream",
     "text": [
      "  Average training loss: 1.09\n"
     ]
    },
    {
     "name": "stderr",
     "output_type": "stream",
     "text": [
      "                                                                                                                        \r"
     ]
    },
    {
     "name": "stdout",
     "output_type": "stream",
     "text": [
      "  Average training loss: 1.09\n"
     ]
    },
    {
     "name": "stderr",
     "output_type": "stream",
     "text": [
      "100%|███████████████████████████████████████████████████████████████████████████████████| 70/70 [00:02<00:00, 27.06it/s]\n",
      "/home/user/welzs0/anaconda3/envs/CudaLab/lib/python3.9/site-packages/sklearn/metrics/_classification.py:1471: UndefinedMetricWarning: Precision and F-score are ill-defined and being set to 0.0 in labels with no predicted samples. Use `zero_division` parameter to control this behavior.\n",
      "  _warn_prf(average, modifier, msg_start, len(result))\n",
      "[I 2024-01-29 17:04:08,027] Trial 8 finished with value: 0.17547000895255147 and parameters: {'lr': 0.00014433401570259136, 'num_epochs': 12}. Best is trial 1 with value: 0.8495971351835273.\n"
     ]
    },
    {
     "name": "stdout",
     "output_type": "stream",
     "text": [
      "Accuracy: 0.1755\n",
      "Precision: 0.0308\n",
      "Recall: 0.1755\n",
      "F1-Score: 0.0524\n"
     ]
    },
    {
     "name": "stderr",
     "output_type": "stream",
     "text": [
      "Some weights of DebertaForSequenceClassification were not initialized from the model checkpoint at microsoft/deberta-base and are newly initialized: ['classifier.weight', 'pooler.dense.bias', 'classifier.bias', 'pooler.dense.weight']\n",
      "You should probably TRAIN this model on a down-stream task to be able to use it for predictions and inference.\n",
      "                                                                                                                        \r"
     ]
    },
    {
     "name": "stdout",
     "output_type": "stream",
     "text": [
      "  Average training loss: 1.09\n"
     ]
    },
    {
     "name": "stderr",
     "output_type": "stream",
     "text": [
      "                                                                                                                        \r"
     ]
    },
    {
     "name": "stdout",
     "output_type": "stream",
     "text": [
      "  Average training loss: 1.09\n"
     ]
    },
    {
     "name": "stderr",
     "output_type": "stream",
     "text": [
      "                                                                                                                        \r"
     ]
    },
    {
     "name": "stdout",
     "output_type": "stream",
     "text": [
      "  Average training loss: 1.09\n"
     ]
    },
    {
     "name": "stderr",
     "output_type": "stream",
     "text": [
      "                                                                                                                        \r"
     ]
    },
    {
     "name": "stdout",
     "output_type": "stream",
     "text": [
      "  Average training loss: 1.09\n"
     ]
    },
    {
     "name": "stderr",
     "output_type": "stream",
     "text": [
      "                                                                                                                        \r"
     ]
    },
    {
     "name": "stdout",
     "output_type": "stream",
     "text": [
      "  Average training loss: 1.09\n"
     ]
    },
    {
     "name": "stderr",
     "output_type": "stream",
     "text": [
      "                                                                                                                        \r"
     ]
    },
    {
     "name": "stdout",
     "output_type": "stream",
     "text": [
      "  Average training loss: 1.09\n"
     ]
    },
    {
     "name": "stderr",
     "output_type": "stream",
     "text": [
      "                                                                                                                        \r"
     ]
    },
    {
     "name": "stdout",
     "output_type": "stream",
     "text": [
      "  Average training loss: 1.09\n"
     ]
    },
    {
     "name": "stderr",
     "output_type": "stream",
     "text": [
      "                                                                                                                        \r"
     ]
    },
    {
     "name": "stdout",
     "output_type": "stream",
     "text": [
      "  Average training loss: 1.09\n"
     ]
    },
    {
     "name": "stderr",
     "output_type": "stream",
     "text": [
      "                                                                                                                        \r"
     ]
    },
    {
     "name": "stdout",
     "output_type": "stream",
     "text": [
      "  Average training loss: 1.09\n"
     ]
    },
    {
     "name": "stderr",
     "output_type": "stream",
     "text": [
      "                                                                                                                        \r"
     ]
    },
    {
     "name": "stdout",
     "output_type": "stream",
     "text": [
      "  Average training loss: 1.09\n"
     ]
    },
    {
     "name": "stderr",
     "output_type": "stream",
     "text": [
      "                                                                                                                        \r"
     ]
    },
    {
     "name": "stdout",
     "output_type": "stream",
     "text": [
      "  Average training loss: 1.09\n"
     ]
    },
    {
     "name": "stderr",
     "output_type": "stream",
     "text": [
      "                                                                                                                        \r"
     ]
    },
    {
     "name": "stdout",
     "output_type": "stream",
     "text": [
      "  Average training loss: 1.09\n"
     ]
    },
    {
     "name": "stderr",
     "output_type": "stream",
     "text": [
      "                                                                                                                        \r"
     ]
    },
    {
     "name": "stdout",
     "output_type": "stream",
     "text": [
      "  Average training loss: 1.09\n"
     ]
    },
    {
     "name": "stderr",
     "output_type": "stream",
     "text": [
      "                                                                                                                        \r"
     ]
    },
    {
     "name": "stdout",
     "output_type": "stream",
     "text": [
      "  Average training loss: 1.09\n"
     ]
    },
    {
     "name": "stderr",
     "output_type": "stream",
     "text": [
      "100%|███████████████████████████████████████████████████████████████████████████████████| 70/70 [00:02<00:00, 27.09it/s]\n",
      "/home/user/welzs0/anaconda3/envs/CudaLab/lib/python3.9/site-packages/sklearn/metrics/_classification.py:1471: UndefinedMetricWarning: Precision and F-score are ill-defined and being set to 0.0 in labels with no predicted samples. Use `zero_division` parameter to control this behavior.\n",
      "  _warn_prf(average, modifier, msg_start, len(result))\n",
      "[I 2024-01-29 17:14:59,616] Trial 9 finished with value: 0.649059982094897 and parameters: {'lr': 0.0001928163243436889, 'num_epochs': 14}. Best is trial 1 with value: 0.8495971351835273.\n"
     ]
    },
    {
     "name": "stdout",
     "output_type": "stream",
     "text": [
      "Accuracy: 0.6491\n",
      "Precision: 0.4213\n",
      "Recall: 0.6491\n",
      "F1-Score: 0.5109\n"
     ]
    },
    {
     "name": "stderr",
     "output_type": "stream",
     "text": [
      "Some weights of DebertaForSequenceClassification were not initialized from the model checkpoint at microsoft/deberta-base and are newly initialized: ['classifier.weight', 'pooler.dense.bias', 'classifier.bias', 'pooler.dense.weight']\n",
      "You should probably TRAIN this model on a down-stream task to be able to use it for predictions and inference.\n",
      "                                                                                                                        \r"
     ]
    },
    {
     "name": "stdout",
     "output_type": "stream",
     "text": [
      "  Average training loss: 0.81\n"
     ]
    },
    {
     "name": "stderr",
     "output_type": "stream",
     "text": [
      "                                                                                                                        \r"
     ]
    },
    {
     "name": "stdout",
     "output_type": "stream",
     "text": [
      "  Average training loss: 0.42\n"
     ]
    },
    {
     "name": "stderr",
     "output_type": "stream",
     "text": [
      "                                                                                                                        \r"
     ]
    },
    {
     "name": "stdout",
     "output_type": "stream",
     "text": [
      "  Average training loss: 0.25\n"
     ]
    },
    {
     "name": "stderr",
     "output_type": "stream",
     "text": [
      "                                                                                                                        \r"
     ]
    },
    {
     "name": "stdout",
     "output_type": "stream",
     "text": [
      "  Average training loss: 0.14\n"
     ]
    },
    {
     "name": "stderr",
     "output_type": "stream",
     "text": [
      "                                                                                                                        \r"
     ]
    },
    {
     "name": "stdout",
     "output_type": "stream",
     "text": [
      "  Average training loss: 0.09\n"
     ]
    },
    {
     "name": "stderr",
     "output_type": "stream",
     "text": [
      "                                                                                                                        \r"
     ]
    },
    {
     "name": "stdout",
     "output_type": "stream",
     "text": [
      "  Average training loss: 0.06\n"
     ]
    },
    {
     "name": "stderr",
     "output_type": "stream",
     "text": [
      "                                                                                                                        \r"
     ]
    },
    {
     "name": "stdout",
     "output_type": "stream",
     "text": [
      "  Average training loss: 0.05\n"
     ]
    },
    {
     "name": "stderr",
     "output_type": "stream",
     "text": [
      "                                                                                                                        \r"
     ]
    },
    {
     "name": "stdout",
     "output_type": "stream",
     "text": [
      "  Average training loss: 0.04\n"
     ]
    },
    {
     "name": "stderr",
     "output_type": "stream",
     "text": [
      "                                                                                                                        \r"
     ]
    },
    {
     "name": "stdout",
     "output_type": "stream",
     "text": [
      "  Average training loss: 0.04\n"
     ]
    },
    {
     "name": "stderr",
     "output_type": "stream",
     "text": [
      "                                                                                                                        \r"
     ]
    },
    {
     "name": "stdout",
     "output_type": "stream",
     "text": [
      "  Average training loss: 0.03\n"
     ]
    },
    {
     "name": "stderr",
     "output_type": "stream",
     "text": [
      "100%|███████████████████████████████████████████████████████████████████████████████████| 70/70 [00:02<00:00, 27.00it/s]\n",
      "[I 2024-01-29 17:22:45,753] Trial 10 finished with value: 0.8639212175470009 and parameters: {'lr': 1.5084992337052115e-05, 'num_epochs': 10}. Best is trial 10 with value: 0.8639212175470009.\n"
     ]
    },
    {
     "name": "stdout",
     "output_type": "stream",
     "text": [
      "Accuracy: 0.8639\n",
      "Precision: 0.8634\n",
      "Recall: 0.8639\n",
      "F1-Score: 0.8477\n"
     ]
    },
    {
     "name": "stderr",
     "output_type": "stream",
     "text": [
      "Some weights of DebertaForSequenceClassification were not initialized from the model checkpoint at microsoft/deberta-base and are newly initialized: ['classifier.weight', 'pooler.dense.bias', 'classifier.bias', 'pooler.dense.weight']\n",
      "You should probably TRAIN this model on a down-stream task to be able to use it for predictions and inference.\n",
      "                                                                                                                        \r"
     ]
    },
    {
     "name": "stdout",
     "output_type": "stream",
     "text": [
      "  Average training loss: 0.82\n"
     ]
    },
    {
     "name": "stderr",
     "output_type": "stream",
     "text": [
      "                                                                                                                        \r"
     ]
    },
    {
     "name": "stdout",
     "output_type": "stream",
     "text": [
      "  Average training loss: 0.44\n"
     ]
    },
    {
     "name": "stderr",
     "output_type": "stream",
     "text": [
      "                                                                                                                        \r"
     ]
    },
    {
     "name": "stdout",
     "output_type": "stream",
     "text": [
      "  Average training loss: 0.28\n"
     ]
    },
    {
     "name": "stderr",
     "output_type": "stream",
     "text": [
      "                                                                                                                        \r"
     ]
    },
    {
     "name": "stdout",
     "output_type": "stream",
     "text": [
      "  Average training loss: 0.19\n"
     ]
    },
    {
     "name": "stderr",
     "output_type": "stream",
     "text": [
      "                                                                                                                        \r"
     ]
    },
    {
     "name": "stdout",
     "output_type": "stream",
     "text": [
      "  Average training loss: 0.11\n"
     ]
    },
    {
     "name": "stderr",
     "output_type": "stream",
     "text": [
      "                                                                                                                        \r"
     ]
    },
    {
     "name": "stdout",
     "output_type": "stream",
     "text": [
      "  Average training loss: 0.07\n"
     ]
    },
    {
     "name": "stderr",
     "output_type": "stream",
     "text": [
      "                                                                                                                        \r"
     ]
    },
    {
     "name": "stdout",
     "output_type": "stream",
     "text": [
      "  Average training loss: 0.06\n"
     ]
    },
    {
     "name": "stderr",
     "output_type": "stream",
     "text": [
      "                                                                                                                        \r"
     ]
    },
    {
     "name": "stdout",
     "output_type": "stream",
     "text": [
      "  Average training loss: 0.04\n"
     ]
    },
    {
     "name": "stderr",
     "output_type": "stream",
     "text": [
      "                                                                                                                        \r"
     ]
    },
    {
     "name": "stdout",
     "output_type": "stream",
     "text": [
      "  Average training loss: 0.04\n"
     ]
    },
    {
     "name": "stderr",
     "output_type": "stream",
     "text": [
      "                                                                                                                        \r"
     ]
    },
    {
     "name": "stdout",
     "output_type": "stream",
     "text": [
      "  Average training loss: 0.05\n"
     ]
    },
    {
     "name": "stderr",
     "output_type": "stream",
     "text": [
      "100%|███████████████████████████████████████████████████████████████████████████████████| 70/70 [00:02<00:00, 26.99it/s]\n",
      "[I 2024-01-29 17:30:32,362] Trial 11 finished with value: 0.8675022381378693 and parameters: {'lr': 1.0953308546770373e-05, 'num_epochs': 10}. Best is trial 11 with value: 0.8675022381378693.\n"
     ]
    },
    {
     "name": "stdout",
     "output_type": "stream",
     "text": [
      "Accuracy: 0.8675\n",
      "Precision: 0.8607\n",
      "Recall: 0.8675\n",
      "F1-Score: 0.8621\n"
     ]
    },
    {
     "name": "stderr",
     "output_type": "stream",
     "text": [
      "Some weights of DebertaForSequenceClassification were not initialized from the model checkpoint at microsoft/deberta-base and are newly initialized: ['classifier.weight', 'pooler.dense.bias', 'classifier.bias', 'pooler.dense.weight']\n",
      "You should probably TRAIN this model on a down-stream task to be able to use it for predictions and inference.\n",
      "                                                                                                                        \r"
     ]
    },
    {
     "name": "stdout",
     "output_type": "stream",
     "text": [
      "  Average training loss: 1.05\n"
     ]
    },
    {
     "name": "stderr",
     "output_type": "stream",
     "text": [
      "                                                                                                                        \r"
     ]
    },
    {
     "name": "stdout",
     "output_type": "stream",
     "text": [
      "  Average training loss: 0.59\n"
     ]
    },
    {
     "name": "stderr",
     "output_type": "stream",
     "text": [
      "                                                                                                                        \r"
     ]
    },
    {
     "name": "stdout",
     "output_type": "stream",
     "text": [
      "  Average training loss: 0.34\n"
     ]
    },
    {
     "name": "stderr",
     "output_type": "stream",
     "text": [
      "                                                                                                                        \r"
     ]
    },
    {
     "name": "stdout",
     "output_type": "stream",
     "text": [
      "  Average training loss: 0.21\n"
     ]
    },
    {
     "name": "stderr",
     "output_type": "stream",
     "text": [
      "                                                                                                                        \r"
     ]
    },
    {
     "name": "stdout",
     "output_type": "stream",
     "text": [
      "  Average training loss: 0.13\n"
     ]
    },
    {
     "name": "stderr",
     "output_type": "stream",
     "text": [
      "                                                                                                                        \r"
     ]
    },
    {
     "name": "stdout",
     "output_type": "stream",
     "text": [
      "  Average training loss: 0.08\n"
     ]
    },
    {
     "name": "stderr",
     "output_type": "stream",
     "text": [
      "                                                                                                                        \r"
     ]
    },
    {
     "name": "stdout",
     "output_type": "stream",
     "text": [
      "  Average training loss: 0.06\n"
     ]
    },
    {
     "name": "stderr",
     "output_type": "stream",
     "text": [
      "                                                                                                                        \r"
     ]
    },
    {
     "name": "stdout",
     "output_type": "stream",
     "text": [
      "  Average training loss: 0.05\n"
     ]
    },
    {
     "name": "stderr",
     "output_type": "stream",
     "text": [
      "                                                                                                                        \r"
     ]
    },
    {
     "name": "stdout",
     "output_type": "stream",
     "text": [
      "  Average training loss: 0.04\n"
     ]
    },
    {
     "name": "stderr",
     "output_type": "stream",
     "text": [
      "                                                                                                                        \r"
     ]
    },
    {
     "name": "stdout",
     "output_type": "stream",
     "text": [
      "  Average training loss: 0.03\n"
     ]
    },
    {
     "name": "stderr",
     "output_type": "stream",
     "text": [
      "100%|███████████████████████████████████████████████████████████████████████████████████| 70/70 [00:02<00:00, 26.97it/s]\n",
      "[I 2024-01-29 17:38:18,584] Trial 12 finished with value: 0.8639212175470009 and parameters: {'lr': 8.35935077219885e-06, 'num_epochs': 10}. Best is trial 11 with value: 0.8675022381378693.\n"
     ]
    },
    {
     "name": "stdout",
     "output_type": "stream",
     "text": [
      "Accuracy: 0.8639\n",
      "Precision: 0.8620\n",
      "Recall: 0.8639\n",
      "F1-Score: 0.8535\n"
     ]
    },
    {
     "name": "stderr",
     "output_type": "stream",
     "text": [
      "Some weights of DebertaForSequenceClassification were not initialized from the model checkpoint at microsoft/deberta-base and are newly initialized: ['classifier.weight', 'pooler.dense.bias', 'classifier.bias', 'pooler.dense.weight']\n",
      "You should probably TRAIN this model on a down-stream task to be able to use it for predictions and inference.\n",
      "                                                                                                                        \r"
     ]
    },
    {
     "name": "stdout",
     "output_type": "stream",
     "text": [
      "  Average training loss: 1.04\n"
     ]
    },
    {
     "name": "stderr",
     "output_type": "stream",
     "text": [
      "                                                                                                                        \r"
     ]
    },
    {
     "name": "stdout",
     "output_type": "stream",
     "text": [
      "  Average training loss: 0.56\n"
     ]
    },
    {
     "name": "stderr",
     "output_type": "stream",
     "text": [
      "                                                                                                                        \r"
     ]
    },
    {
     "name": "stdout",
     "output_type": "stream",
     "text": [
      "  Average training loss: 0.32\n"
     ]
    },
    {
     "name": "stderr",
     "output_type": "stream",
     "text": [
      "                                                                                                                        \r"
     ]
    },
    {
     "name": "stdout",
     "output_type": "stream",
     "text": [
      "  Average training loss: 0.21\n"
     ]
    },
    {
     "name": "stderr",
     "output_type": "stream",
     "text": [
      "                                                                                                                        \r"
     ]
    },
    {
     "name": "stdout",
     "output_type": "stream",
     "text": [
      "  Average training loss: 0.13\n"
     ]
    },
    {
     "name": "stderr",
     "output_type": "stream",
     "text": [
      "                                                                                                                        \r"
     ]
    },
    {
     "name": "stdout",
     "output_type": "stream",
     "text": [
      "  Average training loss: 0.08\n"
     ]
    },
    {
     "name": "stderr",
     "output_type": "stream",
     "text": [
      "                                                                                                                        \r"
     ]
    },
    {
     "name": "stdout",
     "output_type": "stream",
     "text": [
      "  Average training loss: 0.08\n"
     ]
    },
    {
     "name": "stderr",
     "output_type": "stream",
     "text": [
      "                                                                                                                        \r"
     ]
    },
    {
     "name": "stdout",
     "output_type": "stream",
     "text": [
      "  Average training loss: 0.05\n"
     ]
    },
    {
     "name": "stderr",
     "output_type": "stream",
     "text": [
      "                                                                                                                        \r"
     ]
    },
    {
     "name": "stdout",
     "output_type": "stream",
     "text": [
      "  Average training loss: 0.04\n"
     ]
    },
    {
     "name": "stderr",
     "output_type": "stream",
     "text": [
      "100%|███████████████████████████████████████████████████████████████████████████████████| 70/70 [00:02<00:00, 27.00it/s]\n",
      "[I 2024-01-29 17:45:18,484] Trial 13 finished with value: 0.8630259623992838 and parameters: {'lr': 7.325824573759959e-06, 'num_epochs': 9}. Best is trial 11 with value: 0.8675022381378693.\n"
     ]
    },
    {
     "name": "stdout",
     "output_type": "stream",
     "text": [
      "Accuracy: 0.8630\n",
      "Precision: 0.8574\n",
      "Recall: 0.8630\n",
      "F1-Score: 0.8587\n"
     ]
    },
    {
     "name": "stderr",
     "output_type": "stream",
     "text": [
      "Some weights of DebertaForSequenceClassification were not initialized from the model checkpoint at microsoft/deberta-base and are newly initialized: ['classifier.weight', 'pooler.dense.bias', 'classifier.bias', 'pooler.dense.weight']\n",
      "You should probably TRAIN this model on a down-stream task to be able to use it for predictions and inference.\n",
      "                                                                                                                        \r"
     ]
    },
    {
     "name": "stdout",
     "output_type": "stream",
     "text": [
      "  Average training loss: 0.74\n"
     ]
    },
    {
     "name": "stderr",
     "output_type": "stream",
     "text": [
      "                                                                                                                        \r"
     ]
    },
    {
     "name": "stdout",
     "output_type": "stream",
     "text": [
      "  Average training loss: 0.43\n"
     ]
    },
    {
     "name": "stderr",
     "output_type": "stream",
     "text": [
      "                                                                                                                        \r"
     ]
    },
    {
     "name": "stdout",
     "output_type": "stream",
     "text": [
      "  Average training loss: 0.26\n"
     ]
    },
    {
     "name": "stderr",
     "output_type": "stream",
     "text": [
      "                                                                                                                        \r"
     ]
    },
    {
     "name": "stdout",
     "output_type": "stream",
     "text": [
      "  Average training loss: 0.16\n"
     ]
    },
    {
     "name": "stderr",
     "output_type": "stream",
     "text": [
      "                                                                                                                        \r"
     ]
    },
    {
     "name": "stdout",
     "output_type": "stream",
     "text": [
      "  Average training loss: 0.10\n"
     ]
    },
    {
     "name": "stderr",
     "output_type": "stream",
     "text": [
      "                                                                                                                        \r"
     ]
    },
    {
     "name": "stdout",
     "output_type": "stream",
     "text": [
      "  Average training loss: 0.08\n"
     ]
    },
    {
     "name": "stderr",
     "output_type": "stream",
     "text": [
      "                                                                                                                        \r"
     ]
    },
    {
     "name": "stdout",
     "output_type": "stream",
     "text": [
      "  Average training loss: 0.05\n"
     ]
    },
    {
     "name": "stderr",
     "output_type": "stream",
     "text": [
      "                                                                                                                        \r"
     ]
    },
    {
     "name": "stdout",
     "output_type": "stream",
     "text": [
      "  Average training loss: 0.05\n"
     ]
    },
    {
     "name": "stderr",
     "output_type": "stream",
     "text": [
      "100%|███████████████████████████████████████████████████████████████████████████████████| 70/70 [00:02<00:00, 27.05it/s]\n",
      "[I 2024-01-29 17:51:32,450] Trial 14 finished with value: 0.8585496866606983 and parameters: {'lr': 1.1082904713202193e-05, 'num_epochs': 8}. Best is trial 11 with value: 0.8675022381378693.\n"
     ]
    },
    {
     "name": "stdout",
     "output_type": "stream",
     "text": [
      "Accuracy: 0.8585\n",
      "Precision: 0.8532\n",
      "Recall: 0.8585\n",
      "F1-Score: 0.8539\n"
     ]
    }
   ],
   "source": [
    "#Create Study and Optimize Parameters\n",
    "study = optuna.create_study(direction=\"maximize\")\n",
    "study.optimize(objective, n_trials=15, timeout=7200)"
   ]
  },
  {
   "cell_type": "code",
   "execution_count": 69,
   "id": "08f0fd02",
   "metadata": {},
   "outputs": [],
   "source": [
    "import pickle\n",
    "\n",
    "# Save the study to a file\n",
    "with open(\"saved_study_restaurant.pkl\", \"wb\") as f:\n",
    "    pickle.dump(study, f)\n",
    "\n",
    "# Load the study from a file\n",
    "#with open(\"saved_study.pkl\", \"rb\") as f:\n",
    "    #loaded_study = pickle.load(f)"
   ]
  },
  {
   "cell_type": "code",
   "execution_count": 67,
   "id": "11ce6267",
   "metadata": {},
   "outputs": [],
   "source": [
    "initial_combination = {'lr': [2e-5], 'num_epochs': [15], 'accuracy': [0.885]}\n",
    "optunas_trials = {'lr': [], 'num_epochs': [], 'accuracy': []}\n",
    "\n",
    "for trial in study.trials:\n",
    "    optunas_trials['accuracy'].append(trial.value)\n",
    "    for key, value in trial.params.items():\n",
    "        optunas_trials[key].append(value)\n"
   ]
  },
  {
   "cell_type": "code",
   "execution_count": 68,
   "id": "48402d17",
   "metadata": {},
   "outputs": [
    {
     "name": "stderr",
     "output_type": "stream",
     "text": [
      "No artists with labels found to put in legend.  Note that artists whose label start with an underscore are ignored when legend() is called with no argument.\n"
     ]
    },
    {
     "data": {
      "image/png": "[encoded data removed]",
      "text/plain": [
       "<Figure size 1000x600 with 2 Axes>"
      ]
     },
     "metadata": {},
     "output_type": "display_data"
    }
   ],
   "source": [
    "import numpy as np\n",
    "import matplotlib.pyplot as plt\n",
    "\n",
    "learning_rates = optunas_trials['lr'] + initial_combination['lr']\n",
    "num_epochs = optunas_trials['num_epochs'] + initial_combination['num_epochs']\n",
    "accuracies = optunas_trials['accuracy'] + initial_combination['accuracy']\n",
    "\n",
    "# Assuming learning_rates, num_epochs, and accuracies are your data lists\n",
    "LR = np.array(learning_rates)\n",
    "NE = np.array(num_epochs)\n",
    "Acc = np.array(accuracies)\n",
    "\n",
    "# Normalize accuracies for bubble sizes\n",
    "# The size can be adjusted to make the plot clearer\n",
    "bubble_sizes = (Acc - Acc.min()) / (Acc.max() - Acc.min()) * 1000 + 100  # +100 to avoid size 0\n",
    "\n",
    "plt.figure(figsize=(10, 6))\n",
    "\n",
    "# Create the bubble plot\n",
    "scatter = plt.scatter(LR, NE, s=bubble_sizes, c=Acc, cmap='viridis', alpha=0.6, edgecolors='w', linewidth=0.5)\n",
    "\n",
    "# Adding a color bar to show the accuracy values\n",
    "cbar = plt.colorbar(scatter)\n",
    "cbar.set_label('Accuracy')\n",
    "\n",
    "plt.xscale('log')  # Using a log scale for learning rates due to wide range\n",
    "plt.xlabel('Learning Rate')\n",
    "plt.ylabel('Number of Epochs')\n",
    "plt.title('Hyperparameter Optimization Results (Bubble Plot)')\n",
    "\n",
    "plt.legend()\n",
    "plt.grid(True)\n",
    "plt.show()\n",
    "\n"
   ]
  },
  {
   "cell_type": "code",
   "execution_count": 32,
   "id": "98061c2d",
   "metadata": {},
   "outputs": [
    {
     "data": {
      "image/png": "[encoded data removed]",
      "text/plain": [
       "<Figure size 1500x500 with 6 Axes>"
      ]
     },
     "metadata": {},
     "output_type": "display_data"
    }
   ],
   "source": [
    "import matplotlib.pyplot as plt\n",
    "fig, axs = plt.subplots(2, 3, figsize=(15,5))\n",
    "\n",
    "axs[0, 0].plot(training_progress)\n",
    "axs[0, 0].set_title(\"Training Progress\")\n",
    "axs[0, 0].set_xlabel(\"Iteration\")\n",
    "axs[0, 0].set_ylabel(\"Training Loss\")\n",
    "\n",
    "axs[0, 1].plot(validation_loss)\n",
    "axs[0, 1].plot(training_loss)\n",
    "axs[0, 1].set_title(\"Training Progress\")\n",
    "axs[0, 1].set_xlabel(\"Iteration\")\n",
    "axs[0, 1].set_ylabel(\"Training Loss\")\n",
    "\n",
    "axs[1, 1].plot(validation_f1)\n",
    "axs[1, 1].set_title(\"F1 Score\")\n",
    "axs[1, 1].set_xlabel(\"Iteration\")\n",
    "axs[1, 1].set_ylabel(\"F1 Score\")\n",
    "\n",
    "axs[1, 0].plot(validation_acc)\n",
    "axs[1, 0].set_title(\"Accuracy\")\n",
    "axs[1, 0].set_xlabel(\"Iteration\")\n",
    "axs[1, 0].set_ylabel(\"Validation Accuracy\")\n",
    "\n",
    "axs[1, 2].plot(validation_prec)\n",
    "axs[1, 2].set_title(\"Precision\")\n",
    "axs[1, 2].set_xlabel(\"Iteration\")\n",
    "axs[1, 2].set_ylabel(\"Validation Precision\")\n",
    "\n",
    "\n",
    "plt.tight_layout()\n",
    "plt.show()"
   ]
  },
  {
   "cell_type": "markdown",
   "id": "9921eaa6",
   "metadata": {},
   "source": [
    "## Evaluation Restaurant"
   ]
  },
  {
   "cell_type": "code",
   "execution_count": 42,
   "id": "d325a254",
   "metadata": {},
   "outputs": [
    {
     "name": "stderr",
     "output_type": "stream",
     "text": [
      "Some weights of DebertaForSequenceClassification were not initialized from the model checkpoint at microsoft/deberta-base and are newly initialized: ['pooler.dense.weight', 'classifier.bias', 'pooler.dense.bias', 'classifier.weight']\n",
      "You should probably TRAIN this model on a down-stream task to be able to use it for predictions and inference.\n",
      "100%|███████████████████████████████████████████████████████████████████████████████████| 70/70 [00:07<00:00,  8.83it/s]"
     ]
    },
    {
     "name": "stdout",
     "output_type": "stream",
     "text": [
      "Accuracy: 0.8854\n",
      "Precision: 0.8834\n",
      "Recall: 0.8854\n",
      "F1-Score: 0.8795\n"
     ]
    },
    {
     "name": "stderr",
     "output_type": "stream",
     "text": [
      "\n"
     ]
    }
   ],
   "source": [
    "from sklearn.metrics import precision_recall_fscore_support, accuracy_score, confusion_matrix\n",
    "import numpy as np\n",
    "model_name = 'microsoft/deberta-base'\n",
    "model = AutoModelForSequenceClassification.from_pretrained(model_name, num_labels = 3)\n",
    "#Load best Model\n",
    "model = model.to(device)\n",
    "model.load_state_dict(torch.load('model_checkpoints/DeBERTa_Restaurant_augmented.bin'))\n",
    "\n",
    "model.eval()\n",
    "# Initialize variables to gather predictions and true labels\n",
    "all_predictions = []\n",
    "all_true_labels = []\n",
    "\n",
    "misclassified_sentences = []\n",
    "correctlyclassified_sentences = []\n",
    "\n",
    "with torch.no_grad():\n",
    "    total_eval_loss = 0\n",
    "    for batch in tqdm(rest_test_dataloader):\n",
    "        b_input_ids = batch[0].to(device)\n",
    "        b_input_mask = batch[1].to(device)\n",
    "        b_labels = batch[2].to(device)\n",
    "        b_original_sentence = batch[3]\n",
    "        #token_type_ids = None\n",
    "        outputs = model(b_input_ids, attention_mask=b_input_mask, labels=b_labels)\n",
    "\n",
    "        loss = outputs.loss\n",
    "        total_eval_loss += loss.item()\n",
    "\n",
    "        logits = outputs.logits.detach().cpu().numpy()\n",
    "        label_ids = b_labels.to('cpu').numpy()\n",
    "        \n",
    "        predictions = np.argmax(logits, axis=1)\n",
    "        for sentence, prediction, actual_label in zip(b_original_sentence, predictions, label_ids):\n",
    "            if prediction != actual_label and actual_label == 1:\n",
    "                misclassified_sentences.append((sentence, prediction, actual_label))\n",
    "            elif prediction == actual_label:\n",
    "                correctlyclassified_sentences.append((sentence, prediction, actual_label))\n",
    "        \n",
    "        # Store predictions and true labels\n",
    "        all_predictions.extend(predictions.flatten())\n",
    "        all_true_labels.extend(label_ids.flatten())\n",
    "precision, recall, f1_score, _ = precision_recall_fscore_support(all_true_labels, all_predictions, average='weighted')\n",
    "accuracy = accuracy_score(all_true_labels, all_predictions)\n",
    "avg_test_loss = total_eval_loss / len(rest_test_dataloader)\n",
    "\n",
    "conf_matrix_rest = confusion_matrix(all_true_labels, all_predictions)\n",
    "print(f'Accuracy: {accuracy:.4f}')\n",
    "print(f'Precision: {precision:.4f}')\n",
    "print(f'Recall: {recall:.4f}')\n",
    "print(f'F1-Score: {f1_score:.4f}')"
   ]
  },
  {
   "cell_type": "code",
   "execution_count": 29,
   "id": "46f67e6d",
   "metadata": {},
   "outputs": [
    {
     "name": "stdout",
     "output_type": "stream",
     "text": [
      "sauce [SEP] perfectly al dente pasta not drowned in sauce generous portions\n",
      "Prediction negative | Actual Label neutral\n",
      "\n",
      "dessert pizza [SEP] while theres a decent menu it shouldnt take ten minutes to get your drinks and for a dessert pizza\n",
      "Prediction positive | Actual Label neutral\n",
      "\n",
      "served [SEP] they are served on focacchia bread and are to die for\n",
      "Prediction negative | Actual Label neutral\n",
      "\n",
      "waitress [SEP] when she complained the waitress said sorry\n",
      "Prediction negative | Actual Label neutral\n",
      "\n",
      "french dish [SEP] good place to hang out during the day after shopping or to grab a simple soup or classic french dish over a glass of wine\n",
      "Prediction positive | Actual Label neutral\n",
      "\n",
      "dance floor [SEP] we were seated promptly in close proximity to the dance floor\n",
      "Prediction positive | Actual Label neutral\n",
      "\n",
      "beers [SEP] great beer selection too something like beers\n",
      "Prediction positive | Actual Label neutral\n",
      "\n",
      "Focacchia bread [SEP] they are served on focacchia bread and are to die for\n",
      "Prediction positive | Actual Label neutral\n",
      "\n",
      "meals [SEP] the absolute worst service ive ever experienced and the food was below average when they actually gave people the meals they ordered\n",
      "Prediction negative | Actual Label neutral\n",
      "\n",
      "margarita [SEP] for about eleven bucks you get a gigantic burrito or tacos margarita and dessert\n",
      "Prediction positive | Actual Label neutral\n",
      "\n",
      "anchovy dressing [SEP] no green beans no egg no anchovy dressing no nicoise olives no red onion\n",
      "Prediction negative | Actual Label neutral\n",
      "\n",
      "table [SEP] i went in one day asking for a table for a group and was greeted by a very rude hostess\n",
      "Prediction negative | Actual Label neutral\n",
      "\n",
      "egg [SEP] no green beans no egg no anchovy dressing no nicoise olives no red onion\n",
      "Prediction negative | Actual Label neutral\n",
      "\n",
      "green beans [SEP] no green beans no egg no anchovy dressing no nicoise olives no red onion\n",
      "Prediction negative | Actual Label neutral\n",
      "\n",
      "nicoise olives [SEP] no green beans no egg no anchovy dressing no nicoise olives no red onion\n",
      "Prediction negative | Actual Label neutral\n",
      "\n",
      "drinks [SEP] the food was definitely good but when all was said and done i just couldnt justify it for the price including drinks person\n",
      "Prediction negative | Actual Label neutral\n",
      "\n",
      "sweet corn-foie gras brulee [SEP] menus feature seasonal picks like sweet cornfoie gras brulee\n",
      "Prediction positive | Actual Label neutral\n",
      "\n",
      "Menus [SEP] menus feature seasonal picks like sweet cornfoie gras brulee\n",
      "Prediction positive | Actual Label neutral\n",
      "\n",
      "bartender [SEP] would you ever believe that when you complain about over an hour wait when they tell you it will be minutes the manager tells the bartender to spill the drinks you just paid for\n",
      "Prediction negative | Actual Label neutral\n",
      "\n",
      "food [SEP] since i cook for a living im very fussy about the food i eat in restaurants\n",
      "Prediction negative | Actual Label neutral\n",
      "\n",
      "soup [SEP] good place to hang out during the day after shopping or to grab a simple soup or classic french dish over a glass of wine\n",
      "Prediction positive | Actual Label neutral\n",
      "\n",
      "dinner [SEP] my wife and i recently visited the bistro for dinner and had a wonderful experience\n",
      "Prediction positive | Actual Label neutral\n",
      "\n",
      "decor [SEP] the decor is designed in a contemporary japanese style restaurant\n",
      "Prediction positive | Actual Label neutral\n",
      "\n",
      "portabella lasagna [SEP] the menu includes pub fareburgers steaks and shepherds pieand even a portabella lasagna for those black sheep known as vegetarians\n",
      "Prediction positive | Actual Label neutral\n",
      "\n",
      "booth by the windows [SEP] the other times ive gone its romantic date heaven you can walk in get a booth by the windows be treated like a vip in a notcrowded place with great food and service\n",
      "Prediction positive | Actual Label neutral\n",
      "\n",
      "entrees [SEP] not only was the sushi fresh they also served other entrees allowed each guest something to choose from and we all left happy try the duck\n",
      "Prediction positive | Actual Label neutral\n",
      "\n",
      "non-meat alternatives [SEP] the dinner menu offers a variety of great entrees including fresh seafood and huge steaks theres also a couple of nonmeat alternatives\n",
      "Prediction positive | Actual Label neutral\n",
      "\n",
      "red onion [SEP] no green beans no egg no anchovy dressing no nicoise olives no red onion\n",
      "Prediction negative | Actual Label neutral\n",
      "\n",
      "entrees [SEP] waiting three hours before getting our entrees was a treat as well\n",
      "Prediction positive | Actual Label neutral\n",
      "\n",
      "pub fare [SEP] the menu includes pub fareburgers steaks and shepherds pieand even a portabella lasagna for those black sheep known as vegetarians\n",
      "Prediction positive | Actual Label neutral\n",
      "\n",
      "asian fusion [SEP] cuisine is billed as asian fusion doesnt meet the bill\n",
      "Prediction negative | Actual Label neutral\n",
      "\n",
      "stuffed baked potatoes [SEP] thick fries meaty chili and stuffed baked potatoes round out a menu that includes a cool ultrathick chocolate frosty\n",
      "Prediction positive | Actual Label neutral\n",
      "\n",
      "mozzarella sticks [SEP] two complaints their appetizer selection stinks it would be nice to get some mozzarella sticks on the menu\n",
      "Prediction negative | Actual Label neutral\n",
      "\n",
      "meaty chili [SEP] thick fries meaty chili and stuffed baked potatoes round out a menu that includes a cool ultrathick chocolate frosty\n",
      "Prediction positive | Actual Label neutral\n",
      "\n",
      "menu [SEP] thick fries meaty chili and stuffed baked potatoes round out a menu that includes a cool ultrathick chocolate frosty\n",
      "Prediction positive | Actual Label neutral\n",
      "\n",
      "fries [SEP] thick fries meaty chili and stuffed baked potatoes round out a menu that includes a cool ultrathick chocolate frosty\n",
      "Prediction positive | Actual Label neutral\n",
      "\n",
      "fresh salsa [SEP] the guac is fresh yet lacking flavor we like to add our fresh salsa into it\n",
      "Prediction positive | Actual Label neutral\n",
      "\n",
      "dinner [SEP] had dinner here on a friday and the food was great\n",
      "Prediction positive | Actual Label neutral\n",
      "\n",
      "Branzini [SEP] my date and i both ordered the branzini and both felt the fish was very average\n",
      "Prediction positive | Actual Label neutral\n",
      "\n",
      "WAITERS [SEP] they have waiters on the sidewalk trying to pull you in which made us suspicious\n",
      "Prediction negative | Actual Label neutral\n",
      "\n"
     ]
    }
   ],
   "source": [
    "\n",
    "for sentence, prediction, label in misclassified_sentences[:40]:\n",
    "    print(f\"{sentence}\")\n",
    "    print(f\"Prediction {label_encoder.classes_[prediction]} | Actual Label {label_encoder.classes_[label]}\\n\")"
   ]
  },
  {
   "cell_type": "code",
   "execution_count": 30,
   "id": "d548a2d9",
   "metadata": {},
   "outputs": [
    {
     "name": "stdout",
     "output_type": "stream",
     "text": [
      "calamari [SEP] for an appetizer their calamari is a winner\n",
      "Prediction positive | Actual Label positive\n",
      "\n",
      "service [SEP] the service is excellent and always informative without an air\n",
      "Prediction positive | Actual Label positive\n",
      "\n",
      "blue bar area [SEP] dug the blue bar area too\n",
      "Prediction positive | Actual Label positive\n",
      "\n",
      "back patio [SEP] have a mojito and sit in the back patio\n",
      "Prediction positive | Actual Label positive\n",
      "\n",
      "salmon dishes [SEP] i recommend any of their salmon dishes\n",
      "Prediction positive | Actual Label positive\n",
      "\n",
      "slices [SEP] finally let into the store at a time to buy expensive slices from a harried staff\n",
      "Prediction negative | Actual Label negative\n",
      "\n",
      "staff [SEP] finally let into the store at a time to buy expensive slices from a harried staff\n",
      "Prediction negative | Actual Label negative\n",
      "\n",
      "food [SEP] i thought the food isnt cheap at all compared to chinatown\n",
      "Prediction negative | Actual Label negative\n",
      "\n",
      "service [SEP] the service however is a peg or two below the quality of food horrible bartenders and the clientele for the most part are rowdy loudmouthed commuters this could explain the bad attitudes from the staff getting loaded for an acdc concert or a knicks game\n",
      "Prediction negative | Actual Label negative\n",
      "\n",
      "staff [SEP] the service however is a peg or two below the quality of food horrible bartenders and the clientele for the most part are rowdy loudmouthed commuters this could explain the bad attitudes from the staff getting loaded for an acdc concert or a knicks game\n",
      "Prediction negative | Actual Label negative\n",
      "\n",
      "bartenders [SEP] the service however is a peg or two below the quality of food horrible bartenders and the clientele for the most part are rowdy loudmouthed commuters this could explain the bad attitudes from the staff getting loaded for an acdc concert or a knicks game\n",
      "Prediction negative | Actual Label negative\n",
      "\n",
      "clientele [SEP] the service however is a peg or two below the quality of food horrible bartenders and the clientele for the most part are rowdy loudmouthed commuters this could explain the bad attitudes from the staff getting loaded for an acdc concert or a knicks game\n",
      "Prediction negative | Actual Label negative\n",
      "\n",
      "fettucino alfredo [SEP] the fettucino alfredo was amazing\n",
      "Prediction positive | Actual Label positive\n",
      "\n",
      "pasta [SEP] perfectly al dente pasta not drowned in sauce generous portions\n",
      "Prediction positive | Actual Label positive\n",
      "\n",
      "lamb entree [SEP] the comments about fried foods is correct below but the other dishes including the lamb entree and many of the salads avocado shrimp were quite good\n",
      "Prediction positive | Actual Label positive\n",
      "\n",
      "escargot [SEP] not only do they have the best escargot in townthey always try to accomodate our toddler\n",
      "Prediction positive | Actual Label positive\n",
      "\n",
      "food [SEP] however the food and service and dramatically lacking\n",
      "Prediction negative | Actual Label negative\n",
      "\n",
      "service [SEP] however the food and service and dramatically lacking\n",
      "Prediction negative | Actual Label negative\n",
      "\n",
      "sauce [SEP] the sauce is excellent very fresh with dabs of real mozzarella\n",
      "Prediction positive | Actual Label positive\n",
      "\n",
      "pasta [SEP] definitely try the calamari any pasta or even the sliced steak entree\n",
      "Prediction positive | Actual Label positive\n",
      "\n"
     ]
    }
   ],
   "source": [
    "for sentence, prediction, label in correctlyclassified_sentences[:20]:\n",
    "    print(f\"{sentence}\")\n",
    "    print(f\"Prediction {label_encoder.classes_[prediction]} | Actual Label {label_encoder.classes_[label]}\\n\")"
   ]
  },
  {
   "cell_type": "markdown",
   "id": "a6be279e",
   "metadata": {},
   "source": [
    "## Evaluation Laptop"
   ]
  },
  {
   "cell_type": "code",
   "execution_count": 43,
   "id": "40f2ba67",
   "metadata": {},
   "outputs": [
    {
     "name": "stderr",
     "output_type": "stream",
     "text": [
      "Some weights of DebertaForSequenceClassification were not initialized from the model checkpoint at microsoft/deberta-base and are newly initialized: ['pooler.dense.weight', 'classifier.bias', 'pooler.dense.bias', 'classifier.weight']\n",
      "You should probably TRAIN this model on a down-stream task to be able to use it for predictions and inference.\n",
      "100%|███████████████████████████████████████████████████████████████████████████████████| 40/40 [00:01<00:00, 23.48it/s]"
     ]
    },
    {
     "name": "stdout",
     "output_type": "stream",
     "text": [
      "Accuracy: 0.8173\n",
      "Precision: 0.8221\n",
      "Recall: 0.8173\n",
      "F1-Score: 0.8171\n"
     ]
    },
    {
     "name": "stderr",
     "output_type": "stream",
     "text": [
      "\n"
     ]
    }
   ],
   "source": [
    "from sklearn.metrics import precision_recall_fscore_support, accuracy_score, confusion_matrix\n",
    "import numpy as np\n",
    "model_name = 'microsoft/deberta-base'\n",
    "model = AutoModelForSequenceClassification.from_pretrained(model_name, num_labels = 3)\n",
    "#Load best Model\n",
    "model = model.to(device)\n",
    "model.load_state_dict(torch.load('model_checkpoints/DeBERTa_Laptop_augmented.bin'))\n",
    "\n",
    "model.eval()\n",
    "# Initialize variables to gather predictions and true labels\n",
    "all_predictions = []\n",
    "all_true_labels = []\n",
    "\n",
    "with torch.no_grad():\n",
    "    total_eval_loss = 0\n",
    "    for batch in tqdm(laptop_test_dataloader):\n",
    "        b_input_ids = batch[0].to(device)\n",
    "        b_input_mask = batch[1].to(device)\n",
    "        b_labels = batch[2].to(device)\n",
    "        #token_type_ids = None\n",
    "        outputs = model(b_input_ids, attention_mask=b_input_mask, labels=b_labels)\n",
    "\n",
    "        loss = outputs.loss\n",
    "        total_eval_loss += loss.item()\n",
    "\n",
    "        logits = outputs.logits.detach().cpu().numpy()\n",
    "        label_ids = b_labels.to('cpu').numpy()\n",
    "\n",
    "        # Store predictions and true labels\n",
    "        all_predictions.extend(np.argmax(logits, axis=1).flatten())\n",
    "        all_true_labels.extend(label_ids.flatten())\n",
    "precision, recall, f1_score, _ = precision_recall_fscore_support(all_true_labels, all_predictions, average='weighted')\n",
    "accuracy = accuracy_score(all_true_labels, all_predictions)\n",
    "avg_test_loss = total_eval_loss / len(laptop_test_dataloader)\n",
    "\n",
    "conf_matrix_laptop = confusion_matrix(all_true_labels, all_predictions)\n",
    "print(f'Accuracy: {accuracy:.4f}')\n",
    "print(f'Precision: {precision:.4f}')\n",
    "print(f'Recall: {recall:.4f}')\n",
    "print(f'F1-Score: {f1_score:.4f}')"
   ]
  },
  {
   "cell_type": "code",
   "execution_count": 46,
   "id": "9b64b7d3",
   "metadata": {},
   "outputs": [
    {
     "data": {
      "image/png": "[encoded data removed]",
      "text/plain": [
       "<Figure size 1500x500 with 4 Axes>"
      ]
     },
     "metadata": {},
     "output_type": "display_data"
    }
   ],
   "source": [
    "import seaborn as sns\n",
    "import matplotlib.pyplot as plt\n",
    "\n",
    "conf_matrix_rest = conf_matrix_rest.astype('float') / conf_matrix_rest.sum(axis=1)[:, np.newaxis]\n",
    "conf_matrix_laptop = conf_matrix_laptop.astype('float') / conf_matrix_laptop.sum(axis=1)[:, np.newaxis]\n",
    "\n",
    "fig, axs = plt.subplots(1, 2, figsize=(15,5))\n",
    "\n",
    "annot_kws = {\"size\": 18}\n",
    "labelsize = 18\n",
    "\n",
    "sns.heatmap(conf_matrix_rest, annot=True, ax=axs[0], xticklabels = [\"Negative\", \"Neutral\", \"Positive\"], yticklabels = [\"Negative\", \"Neutral\", \"Positive\"]\n",
    "           , fmt='.2f', cmap='Blues', annot_kws=annot_kws)\n",
    "sns.heatmap(conf_matrix_laptop, annot=True, ax=axs[1], xticklabels = [\"Negative\", \"Neutral\", \"Positive\"], yticklabels = [\"Negative\", \"Neutral\", \"Positive\"]\n",
    "           , fmt='.2f', cmap='Blues', annot_kws=annot_kws)\n",
    "\n",
    "\n",
    "axs[0].tick_params(axis='both', which='major', labelsize=labelsize)\n",
    "axs[1].tick_params(axis='both', which='major', labelsize=labelsize)\n",
    "\n",
    "\n",
    "axs[0].spines['top'].set_visible=(True)\n",
    "axs[0].spines['right'].set_visible=(True)\n",
    "\n",
    "\n",
    "\n",
    "axs[1].spines['top'].set_visible=(True)\n",
    "axs[1].spines['right'].set_visible=(True)\n",
    "plt.savefig('Confusion_Matrix.png', dpi=300, transparent=True)\n",
    "plt.show()"
   ]
  },
  {
   "cell_type": "code",
   "execution_count": 45,
   "id": "f0286a15",
   "metadata": {},
   "outputs": [
    {
     "name": "stdout",
     "output_type": "stream",
     "text": [
      "------------------Negative--------------------\n",
      "Precision Negative: 0.8075117370892019\n",
      "Recall Negative: 0.8775510204081632\n",
      "F1 Score Negative: 0.8410757946210269\n",
      "------------------Neutral--------------------\n",
      "Precision Neutral: 0.8455882352941176\n",
      "Recall Neutral: 0.5867346938775511\n",
      "F1 Score Neutral: 0.6927710843373495\n",
      "------------------Positive--------------------\n",
      "Precision Positive: 0.9140625\n",
      "Recall Positive: 0.9682758620689655\n",
      "F1 Score Positive: 0.9403884795713329\n"
     ]
    }
   ],
   "source": [
    "conf_matrix = conf_matrix_rest\n",
    "# Negative\n",
    "TP = conf_matrix[0,0]\n",
    "FP = sum(conf_matrix[:, 0]) - TP\n",
    "FN = sum(conf_matrix[0, :]) - TP\n",
    "\n",
    "precision = TP / (TP + FP)\n",
    "recall = TP / (TP + FN)\n",
    "f1 = 2 * (precision * recall) / (precision + recall)\n",
    "print(\"------------------Negative--------------------\")\n",
    "print(f\"Precision Negative: {precision}\")\n",
    "print(f\"Recall Negative: {recall}\")\n",
    "print(f\"F1 Score Negative: {f1}\")\n",
    "\n",
    "# Neutral\n",
    "TP = conf_matrix[1,1]\n",
    "FP = sum(conf_matrix[:, 1]) - TP\n",
    "FN = sum(conf_matrix[1, :]) - TP\n",
    "\n",
    "precision = TP / (TP + FP)\n",
    "recall = TP / (TP + FN)\n",
    "f1 = 2 * (precision * recall) / (precision + recall)\n",
    "print(\"------------------Neutral--------------------\")\n",
    "print(f\"Precision Neutral: {precision}\")\n",
    "print(f\"Recall Neutral: {recall}\")\n",
    "print(f\"F1 Score Neutral: {f1}\")\n",
    "\n",
    "# Positive\n",
    "TP = conf_matrix[2,2]\n",
    "FP = sum(conf_matrix[:, 2]) - TP\n",
    "FN = sum(conf_matrix[2, :]) - TP\n",
    "\n",
    "precision = TP / (TP + FP)\n",
    "recall = TP / (TP + FN)\n",
    "f1 = 2 * (precision * recall) / (precision + recall)\n",
    "print(\"------------------Positive--------------------\")\n",
    "print(f\"Precision Positive: {precision}\")\n",
    "print(f\"Recall Positive: {recall}\")\n",
    "print(f\"F1 Score Positive: {f1}\")"
   ]
  },
  {
   "cell_type": "code",
   "execution_count": 46,
   "id": "2ca277b3",
   "metadata": {},
   "outputs": [
    {
     "name": "stdout",
     "output_type": "stream",
     "text": [
      "------------------Negative--------------------\n",
      "Precision Negative: 0.7006369426751592\n",
      "Recall Negative: 0.873015873015873\n",
      "F1 Score Negative: 0.7773851590106008\n",
      "------------------Neutral--------------------\n",
      "Precision Neutral: 0.7266666666666667\n",
      "Recall Neutral: 0.6449704142011834\n",
      "F1 Score Neutral: 0.6833855799373041\n",
      "------------------Positive--------------------\n",
      "Precision Positive: 0.9146341463414634\n",
      "Recall Positive: 0.8823529411764706\n",
      "F1 Score Positive: 0.8982035928143712\n"
     ]
    }
   ],
   "source": [
    "conf_matrix = conf_matrix_laptop\n",
    "# Negative\n",
    "TP = conf_matrix[0,0]\n",
    "FP = sum(conf_matrix[:, 0]) - TP\n",
    "FN = sum(conf_matrix[0, :]) - TP\n",
    "\n",
    "precision = TP / (TP + FP)\n",
    "recall = TP / (TP + FN)\n",
    "f1 = 2 * (precision * recall) / (precision + recall)\n",
    "print(\"------------------Negative--------------------\")\n",
    "print(f\"Precision Negative: {precision}\")\n",
    "print(f\"Recall Negative: {recall}\")\n",
    "print(f\"F1 Score Negative: {f1}\")\n",
    "\n",
    "# Neutral\n",
    "TP = conf_matrix[1,1]\n",
    "FP = sum(conf_matrix[:, 1]) - TP\n",
    "FN = sum(conf_matrix[1, :]) - TP\n",
    "\n",
    "precision = TP / (TP + FP)\n",
    "recall = TP / (TP + FN)\n",
    "f1 = 2 * (precision * recall) / (precision + recall)\n",
    "print(\"------------------Neutral--------------------\")\n",
    "print(f\"Precision Neutral: {precision}\")\n",
    "print(f\"Recall Neutral: {recall}\")\n",
    "print(f\"F1 Score Neutral: {f1}\")\n",
    "\n",
    "# Positive\n",
    "TP = conf_matrix[2,2]\n",
    "FP = sum(conf_matrix[:, 2]) - TP\n",
    "FN = sum(conf_matrix[2, :]) - TP\n",
    "\n",
    "precision = TP / (TP + FP)\n",
    "recall = TP / (TP + FN)\n",
    "f1 = 2 * (precision * recall) / (precision + recall)\n",
    "print(\"------------------Positive--------------------\")\n",
    "print(f\"Precision Positive: {precision}\")\n",
    "print(f\"Recall Positive: {recall}\")\n",
    "print(f\"F1 Score Positive: {f1}\")"
   ]
  },
  {
   "cell_type": "code",
   "execution_count": null,
   "id": "c7b68225",
   "metadata": {},
   "outputs": [],
   "source": []
  }
 ],
 "metadata": {
  "kernelspec": {
   "display_name": "Python 3 (ipykernel)",
   "language": "python",
   "name": "python3"
  },
  "language_info": {
   "codemirror_mode": {
    "name": "ipython",
    "version": 3
   },
   "file_extension": ".py",
   "mimetype": "text/x-python",
   "name": "python",
   "nbconvert_exporter": "python",
   "pygments_lexer": "ipython3",
   "version": "3.9.12"
  }
 },
 "nbformat": 4,
 "nbformat_minor": 5
}
